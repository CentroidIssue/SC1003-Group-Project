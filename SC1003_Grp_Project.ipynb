{
  "cells": [
    {
      "cell_type": "markdown",
      "metadata": {
        "id": "nNTmr6oOoGYI"
      },
      "source": [
        "# Read CSV File\n",
        "\n",
        "* Import CSV File using CSV Module\n",
        "\n",
        "* Read CSV File and push data to `students_by_groups` dictionary\n",
        "\n",
        "* `students_by_groups` is a dictionary where its keys are `tutorial_group` columns in the CSV file, while the values are objects of `TutorialGroup` datatype\n",
        "\n",
        "* The TutorialGroup datatype contains an arrays of `Student` object\n",
        "\n",
        "* Each `Student` object has the same parameters as the original data\n",
        "\n",
        "## Example:\n",
        "\n",
        "If a student has the following format:\n",
        "\n",
        "```py\n",
        "{\n",
        "    'tutorial_group': \"G-1\",\n",
        "    'student_id': 5002,\n",
        "    'school': \"CCDS\",\n",
        "    'name': \"Aarav Singh\",\n",
        "    'gender': \"Male\",\n",
        "    'CGPA': 4.02\n",
        "}\n",
        "```\n",
        "\n",
        "Then the `students_by_groups` would look like this:\n",
        "\n",
        "```py\n",
        "students_by_groups = {\n",
        "    'G-1': TutorialGroup(group_id = 1)\n",
        "}\n",
        "\n",
        "students_by_groups['G-1'].students = [\n",
        "    Student(tutorial_group = 'G-1', student_id = 5002, school='CCDS', name='Aarav Singh', gender='Male', CGPA=4.02)\n",
        "]\n",
        "```"
      ]
    },
    {
      "cell_type": "markdown",
      "metadata": {},
      "source": [
        "## Import required dependencies"
      ]
    },
    {
      "cell_type": "code",
      "execution_count": 1,
      "metadata": {},
      "outputs": [],
      "source": [
        "import csv # For reading and writing csv files\n",
        "import math # For ln function we use later\n",
        "from typing import Dict, List # For type hints\n",
        "import random # For random number generation"
      ]
    },
    {
      "cell_type": "markdown",
      "metadata": {},
      "source": [
        "# We will try to construct OOP Classes for better formatting and nested functions"
      ]
    },
    {
      "cell_type": "markdown",
      "metadata": {},
      "source": [
        "$$\\color{green}{\\Huge{\\textbf{Student class}}}$$"
      ]
    },
    {
      "cell_type": "code",
      "execution_count": 2,
      "metadata": {},
      "outputs": [],
      "source": [
        "class Student:\n",
        "    def __init__(self, group_id: str, student_id: int, school: str, name: str, gender: str, cgpa: float):\n",
        "        self.group_id = group_id\n",
        "        self.student_id = student_id\n",
        "        self.school = school\n",
        "        self.name = name\n",
        "        self.gender = gender\n",
        "        self.cgpa = cgpa\n",
        "    \n",
        "    def __str__(self):\n",
        "        return f\"{self.student_id} {self.school} {self.name} {self.gender} {self.cgpa}\""
      ]
    },
    {
      "cell_type": "markdown",
      "metadata": {},
      "source": [
        "$$\\color{green}{\\Huge{\\textbf{Tutorial Group Class}}}$$"
      ]
    },
    {
      "cell_type": "code",
      "execution_count": 3,
      "metadata": {},
      "outputs": [],
      "source": [
        "class TutorialGroup:\n",
        "    def __init__(self, group_id: int):\n",
        "        self.group_id = group_id\n",
        "        self.students = []\n",
        "        \n",
        "    def __str__(self):\n",
        "        return f\"{self.group_id}:\\n{[str(student) for student in self.students]}\"\n",
        "    \n",
        "    def add_student(self, student: Student):\n",
        "        self.students.append(student)\n"
      ]
    },
    {
      "cell_type": "markdown",
      "metadata": {},
      "source": [
        "## Read and store data"
      ]
    },
    {
      "cell_type": "code",
      "execution_count": 35,
      "metadata": {
        "colab": {
          "base_uri": "https://localhost:8080/"
        },
        "id": "kHGtoBCasDxB",
        "outputId": "b484adb2-d22c-41a8-cecd-45e2498b3838"
      },
      "outputs": [],
      "source": [
        "students_by_groups: Dict[str, TutorialGroup] = {\n",
        "\n",
        "}\n",
        "\n",
        "students_by_id: Dict[str, Student] = {\n",
        "    \n",
        "}\n",
        "\n",
        "with open('records.csv', mode='r') as file:\n",
        "    # Create a CSV reader\n",
        "    csv_reader = csv.reader(file)\n",
        "    next(csv_reader)\n",
        "\n",
        "    # Append students to corresponding tutorial groups\n",
        "    for row in csv_reader:\n",
        "\n",
        "        tutorial_group = row[0]\n",
        "        student_id = int(row[1])  # Convert to int\n",
        "        school = row[2]\n",
        "        name = row[3]\n",
        "        gender = row[4]\n",
        "        cgpa = float(row[5])  # Convert to float\n",
        "\n",
        "        if tutorial_group not in students_by_groups:\n",
        "            students_by_groups[tutorial_group] = TutorialGroup(tutorial_group)\n",
        "\n",
        "        students_by_id[str(student_id)] = Student(tutorial_group, student_id, school, name, gender, cgpa)\n",
        "        students_by_groups[tutorial_group].add_student(Student(tutorial_group, student_id, school, name, gender, cgpa))\n",
        "        "
      ]
    },
    {
      "cell_type": "markdown",
      "metadata": {
        "id": "paVW-VIlxXfy"
      },
      "source": [
        "# Diversity Score Calculation\n",
        "\n",
        "The diversity score of a group is the sum of diversity score for each pair of student within a group\n",
        "\n",
        "Each student can be characterised by 3 parameters:\n",
        "\n",
        "- School\n",
        "\n",
        "- Gender\n",
        "\n",
        "- CGPA\n",
        "\n",
        "## Formula\n",
        "\n",
        "We can define the diversity score for each pair of students $A$ and $B$ as the distance between $A(school_A, gender_A, cgpa_A)$ and $B(school_B, gender_B, cgpa_B)$:\n",
        "\n",
        "$$\n",
        "d(A, B) = \\sqrt{\\text{diff}(school_A, school_B)^2 + \\text{diff}(gender_A, gender_B)^2 + \\text{diff}(cgpa_A, cgpa_B)^2 }\n",
        "$$\n",
        "\n",
        "### Difference of school\n",
        "\n",
        "The difference of school between 2 students can be fixed into a constant:\n",
        "\n",
        "- If the schools are similar, then the difference is 0\n",
        "\n",
        "- If the schools are different, then the difference is set to a constant $w_s$\n",
        "\n",
        "### Difference of gender\n",
        "\n",
        "The difference of gender between 2 studenst can also be formulated in the same way as the difference of school:\n",
        "\n",
        "- If the genders are similar, then the difference is 0\n",
        "\n",
        "- If the genders are similar, then the difference is set to a constant $w_g$\n",
        "\n",
        "### Different of CGPA\n",
        "\n",
        "There are many ways to calculate the CGPA difference between 2 students. The linear function is the most simple and easy way to go with:\n",
        "\n",
        "$$ \\text{diff} = abs(cgpa_A - cgpa_B) $$\n",
        "\n",
        "In most cases, it works, however, this can create a valid problem that a solution where there is one student is the group has a very high GPA, while the rest is low, and we don't want that.\n",
        "\n",
        "To mitigate, first need to normalise the $\\text{diff}_{CGPA}$ by dividing it to the maximum distance obtainable $max_{CGPA} - min_{CGPA}$ of the whole tutorial group consisting of 50 people.\n",
        "\n",
        "Let $d$ be the output after normalisation:\n",
        "\n",
        "$$d = \\frac{abs(cgpa_A - cgpa_B)}{max_{CGPA} - min_{CGPA}} $$\n",
        "\n",
        "Now we will construct a function on $d$ so that it would be exponentially large for high penalties. A possible function is:\n",
        "\n",
        "$$ x = 1 - \\frac{1}{e^y} $$\n",
        "\n",
        "$\\color{red}{\\text{With x only ranges from 0 to 1}}$\n",
        "\n",
        "<img src=\"./FormulaPlot.png\" alt=\"FormulaPlot\" width=\"1200\">\n",
        "\n",
        "As we can see from the plot, the weight will be higher as x approaches 1, and it goes up exponentially. In fact, we can write down the function as:\n",
        "\n",
        "$$ y = - ln (1 - x) $$\n",
        "\n",
        "Which has derivative as:\n",
        "\n",
        "$$ \\frac{\\partial y}{\\partial x} = -\\frac{1}{x-1} $$\n",
        "\n",
        "This guarantees $ f(x_1) < f(x_2) $ if $x_1 < x_2$ $\\forall x_1, x_2 < 1$ \n",
        "\n",
        "<img src=\"./Derivative.png\" alt=\"Derivative\" width=\"1200\">\n",
        "\n",
        "So now we have our final difference function:\n",
        "\n",
        "$$ f(d) = - ln(1-d) w_{c} $$\n",
        "\n",
        "Where $w_{c}$ is the weight of the CGPA to other parameters\n",
        "\n",
        "### $\\color{red}{\\text{Note}}$\n",
        "\n",
        "One important consideration to mind is the weight of each parameter. For example, since there are only 2 genders <b>Male</b> and <b>Female</b>, the difference between genders of two students should be weighted less (e.g: The other params can be calculated as normal, but this should only be 0 if similar and 0.5 if different).\n"
      ]
    },
    {
      "cell_type": "markdown",
      "metadata": {
        "id": "TXm2lYnUhQb6"
      },
      "source": [
        "## Calculating the difference between each pair of students"
      ]
    },
    {
      "cell_type": "markdown",
      "metadata": {},
      "source": [
        "We will first re-write our `TutorialGroup` class to include `get_max_cgpa` and `get_min_cpa` functions"
      ]
    },
    {
      "cell_type": "code",
      "execution_count": 9,
      "metadata": {},
      "outputs": [
        {
          "name": "stdout",
          "output_type": "stream",
          "text": [
            "0\n"
          ]
        }
      ],
      "source": [
        "class TutorialGroup:\n",
        "    def __init__(self, group_id: int):\n",
        "        self.group_id = group_id\n",
        "        self.students = []\n",
        "        self.min_cpga = 0\n",
        "        self.max_cpga = 0\n",
        "        \n",
        "    def __str__(self):\n",
        "        return f\"{self.group_id}:\\n{[str(student) for student in self.students]}\"\n",
        "    \n",
        "    def add_student(self, student: Student):\n",
        "        self.students.append(student)\n",
        "        \n",
        "    def get_max_cgpa(self):\n",
        "        if (self.max_cpga != 0):\n",
        "            return self.max_cpga\n",
        "        self.max_cpga = 0\n",
        "        for student in self.students:\n",
        "            if student.cgpa > self.max_cpga:\n",
        "                self.max_cpga = student.cgpa\n",
        "        return self.max_cpga\n",
        "                \n",
        "    def get_min_cgpa(self):\n",
        "        if (self.min_cpga != 0):\n",
        "            return self.min_cpga\n",
        "        self.min_cpga = 10\n",
        "        for student in self.students:\n",
        "            if student.cgpa < self.min_cpga:\n",
        "                self.min_cpga = student.cgpa\n",
        "        return self.min_cpga\n",
        "        "
      ]
    },
    {
      "cell_type": "markdown",
      "metadata": {},
      "source": [
        "## Re-read the data to match with the current construction of class"
      ]
    },
    {
      "cell_type": "code",
      "execution_count": null,
      "metadata": {},
      "outputs": [],
      "source": [
        "students_by_groups: Dict[str, TutorialGroup] = {\n",
        "\n",
        "}\n",
        "\n",
        "students_by_id: Dict[str, Student] = {\n",
        "    \n",
        "}\n",
        "\n",
        "with open('records.csv', mode='r') as file:\n",
        "    # Create a CSV reader\n",
        "    csv_reader = csv.reader(file)\n",
        "    next(csv_reader)\n",
        "\n",
        "    # Append students to corresponding tutorial groups\n",
        "    for row in csv_reader:\n",
        "\n",
        "        tutorial_group = row[0]\n",
        "        student_id = int(row[1])  # Convert to int\n",
        "        school = row[2]\n",
        "        name = row[3]\n",
        "        gender = row[4]\n",
        "        cgpa = float(row[5])  # Convert to float\n",
        "\n",
        "        if tutorial_group not in students_by_groups:\n",
        "            students_by_groups[tutorial_group] = TutorialGroup(tutorial_group)\n",
        "\n",
        "        students_by_id[str(student_id)] = Student(tutorial_group, student_id, school, name, gender, cgpa)\n",
        "        students_by_groups[tutorial_group].add_student(Student(tutorial_group, student_id, school, name, gender, cgpa))\n",
        "        "
      ]
    },
    {
      "cell_type": "code",
      "execution_count": 89,
      "metadata": {},
      "outputs": [
        {
          "name": "stdout",
          "output_type": "stream",
          "text": [
            "5002 CCDS Aarav Singh Male 4.02\n",
            "3838 EEE Aarti Nair Female 4.05\n",
            "1.4149553044500742\n",
            "4173 SBS Evelyn Cheung Female 4.48\n",
            "615 SPMS Gia Tsai Female 3.89\n",
            "2.3487639607487933\n",
            "False\n"
          ]
        }
      ],
      "source": [
        "def diff(A: Student, B: Student, w_s: float, w_g: float, w_c: float) -> float:\n",
        "    res = 0\n",
        "    # If the school is not the same, then add w_s^2 to the result\n",
        "    if A.school != B.school:\n",
        "        res += w_s * w_s\n",
        "    # If the gender is not the same, then add w_g^2 to the result\n",
        "    if A.gender != B.gender:\n",
        "        res += w_g * w_g\n",
        "    # Calculate the difference in cgpa\n",
        "    d = abs(A.cgpa - B.cgpa) / (students_by_groups[A.group_id].get_max_cgpa() - students_by_groups[A.group_id].get_min_cgpa())\n",
        "    # If the difference is 1, then set it to 0.9999999999, because ln(0) is infinity\n",
        "    if d == 1:\n",
        "        d = 0.9999999999\n",
        "    diff_cgpa = - math.log(1 - d) * w_c\n",
        "    res = res + diff_cgpa * diff_cgpa\n",
        "    return math.sqrt(res)\n",
        "\n",
        "\n",
        "A = students_by_id['5002']\n",
        "B = students_by_id['3838']\n",
        "C = students_by_id['4173']\n",
        "D = students_by_id['615']\n",
        "print(A)\n",
        "print(B)\n",
        "dAB = diff(A, B, 1, 1, 1)\n",
        "print(dAB)\n",
        "print(C)\n",
        "print(D) \n",
        "dCD = diff(C, D, 1, 1, 1)\n",
        "print(dCD)\n",
        "print(dAB > dCD)"
      ]
    },
    {
      "cell_type": "markdown",
      "metadata": {
        "id": "JtD4TW642HVU"
      },
      "source": [
        "# Matching Algorithm\n",
        "\n",
        "## Basic Algorithm\n",
        "\n",
        "The most obvious algorithm we can do here is dividing students into groups in a randomise way. Note that we don't need to pick student randomly each time from the list. Instead, we can shuffle the order of the list then pick students in normal order. That way, it still preserves the random characteristic.\n",
        "\n",
        "- We will re-write our `TutorialGroup` class to include `shuffle` and `assign_group` functions, also we will add `students_by_teams` dictionary from initialisation\n",
        "\n",
        "- We will also re-rewrite our `Student` class to include `team_id`\n",
        "\n",
        "- Also, we will also create a new class named `TeamGroup` to handle each team for students after being assigned. We will also construct the diversity score function for each TeamGroup using the `diff` function we defined above"
      ]
    },
    {
      "cell_type": "code",
      "execution_count": 2,
      "metadata": {},
      "outputs": [],
      "source": [
        "class Student:\n",
        "    def __init__(self, group_id: str, student_id: int, school: str, name: str, gender: str, cgpa: float):\n",
        "        self.group_id = group_id\n",
        "        self.team_id = 0 # Not set yet\n",
        "        self.student_id = student_id\n",
        "        self.school = school\n",
        "        self.name = name\n",
        "        self.gender = gender\n",
        "        self.cgpa = cgpa\n",
        "    \n",
        "    def assign_team(self, team_id: int):\n",
        "        self.team_id = team_id\n",
        "    \n",
        "    def __str__(self):\n",
        "        return f\"{self.student_id} {self.school} {self.name} {self.gender} {self.cgpa}\""
      ]
    },
    {
      "cell_type": "markdown",
      "metadata": {},
      "source": [
        "$$\\color{green}{\\Huge{\\textbf{Team Group Class}}}$$"
      ]
    },
    {
      "cell_type": "code",
      "execution_count": 24,
      "metadata": {},
      "outputs": [],
      "source": [
        "class TeamGroup:\n",
        "    def __init__(self, team_id: int, group_id: int):\n",
        "        self.group_id = group_id\n",
        "        self.team_id = team_id\n",
        "        self.students = []\n",
        "        \n",
        "    def __str__(self):\n",
        "        return f\"{self.group_id}:\\n{[str(student) for student in self.students]}\"\n",
        "    \n",
        "    def add_student(self, student: Student):\n",
        "        self.students.append(student)\n",
        "    \n",
        "    def diversity_score(self):\n",
        "        score = 0\n",
        "        for i in range(len(self.students)):\n",
        "            for j in range(i + 1, len(self.students)):\n",
        "                score += diff(self.students[i], self.students[j], 1, 1, 1)\n",
        "        return score"
      ]
    },
    {
      "cell_type": "code",
      "execution_count": 42,
      "metadata": {},
      "outputs": [],
      "source": [
        "class TutorialGroup:\n",
        "    def __init__(self, group_id: int):\n",
        "        self.group_id = group_id\n",
        "        self.students_by_teams: Dict[int, TeamGroup] = {}\n",
        "        self.students = []\n",
        "        self.min_cpga = 0\n",
        "        self.max_cpga = 0\n",
        "        \n",
        "    def __str__(self):\n",
        "        return f\"{self.group_id}:\\n{[str(student) for student in self.students]}\"\n",
        "    \n",
        "    def add_student(self, student: Student):\n",
        "        self.students.append(student)\n",
        "        \n",
        "    def get_max_cgpa(self):\n",
        "        if (self.max_cpga != 0):\n",
        "            return self.max_cpga\n",
        "        self.max_cpga = 0\n",
        "        for student in self.students:\n",
        "            if student.cgpa > self.max_cpga:\n",
        "                self.max_cpga = student.cgpa\n",
        "        return self.max_cpga\n",
        "                \n",
        "    def get_min_cgpa(self):\n",
        "        if (self.min_cpga != 0):\n",
        "            return self.min_cpga\n",
        "        self.min_cpga = 10\n",
        "        for student in self.students:\n",
        "            if student.cgpa < self.min_cpga:\n",
        "                self.min_cpga = student.cgpa\n",
        "        return self.min_cpga\n",
        "    \n",
        "    def shuffle(self):\n",
        "        random.shuffle(self.students)\n",
        "        \n",
        "    def assign_group(self, max_pax: int):\n",
        "        self.shuffle()\n",
        "        for i in range(0, len(self.students), max_pax):\n",
        "            team_id = i // max_pax + 1\n",
        "            self.students_by_teams[team_id] = TeamGroup(team_id, self.group_id)\n",
        "            for j in range(i, i + max_pax):\n",
        "                if j < len(self.students):\n",
        "                    self.students[j].team_id = team_id\n",
        "                    self.students_by_teams[team_id].add_student(self.students[j])\n",
        "                else:\n",
        "                    break"
      ]
    },
    {
      "cell_type": "markdown",
      "metadata": {},
      "source": [
        "## Re-read data to match new constructions of classes"
      ]
    },
    {
      "cell_type": "code",
      "execution_count": 43,
      "metadata": {},
      "outputs": [],
      "source": [
        "students_by_groups: Dict[str, TutorialGroup] = {\n",
        "\n",
        "}\n",
        "\n",
        "students_by_id: Dict[str, Student] = {\n",
        "    \n",
        "}\n",
        "\n",
        "with open('records.csv', mode='r') as file:\n",
        "    # Create a CSV reader\n",
        "    csv_reader = csv.reader(file)\n",
        "    next(csv_reader)\n",
        "\n",
        "    # Append students to corresponding tutorial groups\n",
        "    for row in csv_reader:\n",
        "\n",
        "        tutorial_group = row[0]\n",
        "        student_id = int(row[1])  # Convert to int\n",
        "        school = row[2]\n",
        "        name = row[3]\n",
        "        gender = row[4]\n",
        "        cgpa = float(row[5])  # Convert to float\n",
        "\n",
        "        if tutorial_group not in students_by_groups:\n",
        "            students_by_groups[tutorial_group] = TutorialGroup(tutorial_group)\n",
        "\n",
        "        students_by_id[str(student_id)] = Student(tutorial_group, student_id, school, name, gender, cgpa)\n",
        "        students_by_groups[tutorial_group].add_student(Student(tutorial_group, student_id, school, name, gender, cgpa))\n",
        "        "
      ]
    },
    {
      "cell_type": "code",
      "execution_count": 117,
      "metadata": {
        "colab": {
          "base_uri": "https://localhost:8080/",
          "height": 173
        },
        "id": "s7FXA0CV1C9N",
        "outputId": "5cfea957-d9e9-470e-fc57-b05ec570a81e"
      },
      "outputs": [
        {
          "name": "stdout",
          "output_type": "stream",
          "text": [
            "9.284542981225126\n",
            "11.712664997762674\n",
            "8.58333463190153\n",
            "12.457034716388417\n",
            "15.707559511170095\n",
            "12.833314676588415\n",
            "10.71369605616415\n",
            "9.690403461861237\n",
            "10.371613208236324\n",
            "11.833248816641738\n",
            "Mean:  11.31874130579397\n"
          ]
        }
      ],
      "source": [
        "group1 = students_by_groups['G-1']\n",
        "\n",
        "mean = 0\n",
        "\n",
        "group1.assign_group(5)\n",
        "\n",
        "for team in group1.students_by_teams.values():\n",
        "    print(team.diversity_score())\n",
        "    mean += team.diversity_score()\n",
        "    \n",
        "mean /= len(group1.students_by_teams)\n",
        "\n",
        "print(\"Mean: \", mean)\n",
        "\n"
      ]
    }
  ],
  "metadata": {
    "colab": {
      "provenance": []
    },
    "kernelspec": {
      "display_name": ".env",
      "language": "python",
      "name": "python3"
    },
    "language_info": {
      "codemirror_mode": {
        "name": "ipython",
        "version": 3
      },
      "file_extension": ".py",
      "mimetype": "text/x-python",
      "name": "python",
      "nbconvert_exporter": "python",
      "pygments_lexer": "ipython3",
      "version": "3.12.7"
    }
  },
  "nbformat": 4,
  "nbformat_minor": 0
}
