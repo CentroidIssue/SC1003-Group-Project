{
 "cells": [
  {
   "cell_type": "markdown",
   "metadata": {
    "id": "nY0KbGZRhEFu"
   },
   "source": [
    "# Read CSV File\n",
    "\n",
    "* Import CSV File using CSV Module\n",
    "\n",
    "* Read CSV File and push data to `students_by_groups` dictionary\n",
    "\n",
    "* `students_by_groups` is a dictionary where its keys are `tutorial_group` columns in the CSV file, while the values are objects of `TutorialGroup` datatype\n",
    "\n",
    "* The TutorialGroup datatype contains an arrays of `Student` object\n",
    "\n",
    "* Each `Student` object has the same parameters as the original data\n",
    "\n",
    "## Example:\n",
    "\n",
    "If a student has the following format:\n",
    "\n",
    "```py\n",
    "{\n",
    "    'tutorial_group': \"G-1\",\n",
    "    'student_id': 5002,\n",
    "    'school': \"CCDS\",\n",
    "    'name': \"Aarav Singh\",\n",
    "    'gender': \"Male\",\n",
    "    'CGPA': 4.02\n",
    "}\n",
    "```\n",
    "\n",
    "Then the `students_by_groups` would look like this:\n",
    "\n",
    "```py\n",
    "students_by_groups = {\n",
    "    'G-1': TutorialGroup(group_id = 1)\n",
    "}\n",
    "\n",
    "students_by_groups['G-1'].students = [\n",
    "    Student(tutorial_group = 'G-1', student_id = 5002, school='CCDS', name='Aarav Singh', gender='Male', CGPA=4.02)\n",
    "]\n",
    "```"
   ]
  },
  {
   "cell_type": "markdown",
   "metadata": {
    "id": "aLNHXpMGSlbT"
   },
   "source": [
    "## Import required dependencies"
   ]
  },
  {
   "cell_type": "code",
   "execution_count": 120,
   "metadata": {
    "id": "imPF9K0JSnBV"
   },
   "outputs": [],
   "source": [
    "import csv  # For reading and writing csv files\n",
    "import math  # For ln function we use later\n",
    "from typing import Dict, List  # For type hints\n",
    "import random  # For random number generation\n",
    "import matplotlib.pyplot as plt  # For plotting\n",
    "import traceback  # For debugging"
   ]
  },
  {
   "cell_type": "markdown",
   "metadata": {
    "id": "DHH8khezSuyI"
   },
   "source": [
    "# We will try to construct OOP Classes for better formatting and nested functions"
   ]
  },
  {
   "cell_type": "markdown",
   "metadata": {
    "id": "_RmX3jEqSvWy"
   },
   "source": [
    "$$\\color{green}{\\Huge{\\textbf{Student class}}}$$"
   ]
  },
  {
   "cell_type": "code",
   "execution_count": 121,
   "metadata": {
    "id": "PdzEw89jVQfA"
   },
   "outputs": [],
   "source": [
    "class Student:\n",
    "    def __init__(\n",
    "        self,\n",
    "        group_id: str,\n",
    "        student_id: int,\n",
    "        school: str,\n",
    "        name: str,\n",
    "        gender: str,\n",
    "        CGPA: float = 4.5,\n",
    "    ):\n",
    "        self.group_id = group_id\n",
    "        self.student_id = student_id\n",
    "        self.school = school\n",
    "        self.name = name\n",
    "        self.gender = gender\n",
    "        self.cgpa = CGPA\n",
    "\n",
    "    def __str__(self):\n",
    "        return (\n",
    "            f\"{self.student_id}, {self.school}, {self.name}, {self.gender}, {self.cgpa}\"\n",
    "        )"
   ]
  },
  {
   "cell_type": "markdown",
   "metadata": {
    "id": "vhneab29VO7y"
   },
   "source": [
    "$$\\color{green}{\\Huge{\\textbf{Tutorial Group Class}}}$$"
   ]
  },
  {
   "cell_type": "code",
   "execution_count": 122,
   "metadata": {
    "id": "gjZwpBMfS0_j"
   },
   "outputs": [],
   "source": [
    "class TutorialGroup:\n",
    "    def __init__(self, group_id: str):\n",
    "        self.group_id = group_id\n",
    "        self.students: list[Student] = []\n",
    "\n",
    "    def __str__(self):\n",
    "        return f\"{self.group_id}:\\n{[str(student) for student in self.students]}\"\n",
    "\n",
    "    def add_student(self, student: Student):\n",
    "        self.students.append(student)"
   ]
  },
  {
   "cell_type": "markdown",
   "metadata": {
    "id": "PHxtGtdBS3Ex"
   },
   "source": [
    "## Read and store data"
   ]
  },
  {
   "cell_type": "code",
   "execution_count": 123,
   "metadata": {
    "id": "d8SsHXJtS21S"
   },
   "outputs": [],
   "source": [
    "students_by_groups: Dict[str, TutorialGroup] = {}\n",
    "\n",
    "students_by_id: Dict[str, Student] = {}\n",
    "\n",
    "\n",
    "def load_csv():\n",
    "    global students_by_groups\n",
    "    global students_by_id\n",
    "    students_by_groups = {}\n",
    "    students_by_id = {}\n",
    "    with open(\"records.csv\", mode=\"r\") as file:\n",
    "        # Create a CSV reader\n",
    "        csv_reader = csv.reader(file)\n",
    "        next(csv_reader)\n",
    "\n",
    "        # Append students to corresponding tutorial groups\n",
    "        for row in csv_reader:\n",
    "\n",
    "            tutorial_group = row[0]\n",
    "            student_id = int(row[1])  # Convert to int\n",
    "            school = row[2]\n",
    "            name = row[3]\n",
    "            gender = row[4]\n",
    "            cgpa = float(row[5])  # Convert to float\n",
    "\n",
    "            if tutorial_group not in students_by_groups:\n",
    "                students_by_groups[tutorial_group] = TutorialGroup(tutorial_group)\n",
    "\n",
    "            students_by_id[str(student_id)] = Student(\n",
    "                tutorial_group, student_id, school, name, gender, cgpa\n",
    "            )\n",
    "            students_by_groups[tutorial_group].add_student(\n",
    "                Student(tutorial_group, student_id, school, name, gender, cgpa)\n",
    "            )\n",
    "\n",
    "\n",
    "load_csv()"
   ]
  },
  {
   "cell_type": "markdown",
   "metadata": {
    "id": "ETBmwzuG54Tm"
   },
   "source": [
    "# Diversity Score Calculation\n",
    "\n",
    "The diversity score of a group is the sum of diversity score for each pair of student within a group\n",
    "\n",
    "Each student can be characterised by 3 parameters:\n",
    "\n",
    "- School\n",
    "\n",
    "- Gender\n",
    "\n",
    "- CGPA"
   ]
  },
  {
   "cell_type": "markdown",
   "metadata": {
    "id": "8raPOtBUS-cs"
   },
   "source": [
    "## Formula\n",
    "\n",
    "We can define the diversity score for each pair of students $A$ and $B$ as the distance between $A(school_A, gender_A, cgpa_A)$ and $B(school_B, gender_B, cgpa_B)$:\n",
    "\n",
    "$$\n",
    "d(A, B) = \\sqrt{\\text{diff}(school_A, school_B)^2 + \\text{diff}(gender_A, gender_B)^2 + \\text{diff}(cgpa_A, cgpa_B)^2 }\n",
    "$$"
   ]
  },
  {
   "cell_type": "markdown",
   "metadata": {
    "id": "g1hsZGGDS_gj"
   },
   "source": [
    "### Difference of school\n",
    "\n",
    "The difference of school between 2 students can be fixed into a constant:\n",
    "\n",
    "- If the schools are similar, then the difference is 0\n",
    "\n",
    "- If the schools are different, then the difference is set to a constant $w_s$"
   ]
  },
  {
   "cell_type": "markdown",
   "metadata": {
    "id": "k7MGzOr0TAoh"
   },
   "source": [
    "### Difference of gender\n",
    "\n",
    "The difference of gender between 2 studenst can also be formulated in the same way as the difference of school:\n",
    "\n",
    "- If the genders are similar, then the difference is 0\n",
    "\n",
    "- If the genders are similar, then the difference is set to a constant $w_g$"
   ]
  },
  {
   "cell_type": "markdown",
   "metadata": {
    "id": "CkVteS7QTBiC"
   },
   "source": [
    "### Different of CGPA\n",
    "\n",
    "In basic case, we can use linear difference and add it to the sum of diverse score:\n",
    "\n",
    "$$ \\text{diff}_{cgpa} = |cgpa_A - cgpa_B| $$\n",
    "\n",
    "However, as the weight of $|cgpa_A - cgpa_{B}|$ is purely based on the difference between 2 values, it may outweigh the scores of genders and school. To standardize, first need to normalise the $\\text{diff}_{CGPA}$ by dividing it to the maximum distance obtainable $max_{CGPA} - min_{CGPA}$ of the whole tutorial group consisting of 50 people.\n",
    "\n",
    "Let $d$ be the output after normalisation:\n",
    "\n",
    "$$d_{cgpa} = \\frac{\\text{diff}_{cgpa}}{max_{cgpa} - min_{cgpa}} = \\frac{|cgpa_A - cgpa_B|}{max_{cgpa} - min_{cgpa}} $$\n",
    "\n",
    "Also, we notice that the whole average CGPA of a team should be as close as the whole group average CGPA as possible. Let $$ \\text{diff}_{avg} = |avg_{team} - avg_{group}| $$\n",
    "\n",
    "And we need to standardise the value as well:\n",
    "\n",
    "$$d_{avg} = \\frac{\\text{diff}_{avg}}{max_{cgpa} - min_{cgpa}} = \\frac{|avg_{team} - avg_{group}|}{max_{cgpa} - min_{cgpa}} $$\n",
    "\n",
    "Notice how we have 2 priorities here:\n",
    "\n",
    "- Maximising $|d_{cgpa}|$\n",
    "\n",
    "- Minimising $|d_{avg}|$\n",
    "\n",
    "We already know that $|d_{cgpa}|$ and $|d_{avg}|$ have ranges within 0 to 1. So we will calculate\n",
    "\n",
    "$$d_{cgpa} - d_{avg} + 1$$\n",
    "\n",
    "We add 1 to ensure that the result ranges from 0 to 2.\n",
    "\n",
    "After plotting for a while, we notice that the $d_{cpga}$ generally has larger value than $d_{avg}$, as the difference between 2 members is obviously always larger than the difference between team CGPA and group CGPA\n",
    "\n",
    "This causes the data has higher chance to be > 1 than < 1, which is the balance.\n",
    "\n",
    "To mitigate, we add the weight 0.5 for $d_{cgpa}$ and 1.5 for $d_{avg}$. We also needs to change adding 1 to 1.5 to ensure the result ranging from 0 to 2\n",
    "\n",
    "Here, the frequency is balance with around 1.5 as the median. We still need to standardise the data so we divide by 3 and multiply by 2 so the distribution has median around 1. The final function is:\n",
    "\n",
    "$$ \\text{diff}_{cgpa} = \\frac{2}{3} (0.5 * d_{cgpa} - 1.5 * d_{avg} + 1.5) $$\n",
    "\n",
    "Where $w_{c}$ is the weight of the CGPA to other parameters"
   ]
  },
  {
   "cell_type": "markdown",
   "metadata": {
    "id": "SGDYDdkITDNt"
   },
   "source": [
    "\n",
    "### $\\color{red}{\\text{Note}}$\n",
    "\n",
    "One important consideration to mind is the weight of each parameter. For example, since there are only 2 genders <b>Male</b> and <b>Female</b>, the difference between genders of two students should be weighted less (e.g: The other params can be calculated as normal, but this should only be 0 if similar and 0.5 if different)."
   ]
  },
  {
   "cell_type": "markdown",
   "metadata": {
    "id": "x9LBzPW8TH1U"
   },
   "source": [
    "## Calculating the difference between each pair of students"
   ]
  },
  {
   "cell_type": "markdown",
   "metadata": {
    "id": "VA1Az4zHTIrb"
   },
   "source": [
    "- We will first re-write our `TutorialGroup` class to include `get_max_cgpa` and `get_min_cpa` functions\n",
    "\n",
    "- We will also re-write our `Student` class to include `team_id`\n",
    "\n",
    "- Also, we will also create a new class named `TeamGroup` to handle each team for students after being assigned. We will also construct the diversity score function for each TeamGroup using the `diff` function we defined above\n",
    "\n",
    "- The time complexity for a calculation hence is $O(n^2)$, where $n$ is the number of students inside a team"
   ]
  },
  {
   "cell_type": "code",
   "execution_count": 124,
   "metadata": {
    "id": "piw9ovWKTJtT"
   },
   "outputs": [],
   "source": [
    "class Student:\n",
    "\n",
    "    def __init__(\n",
    "        self,\n",
    "        group_id: str,\n",
    "        student_id: int,\n",
    "        school: str,\n",
    "        name: str,\n",
    "        gender: str,\n",
    "        cgpa: float,\n",
    "    ):\n",
    "        self.group_id = group_id\n",
    "        self.team_id = 0  # Not set yet\n",
    "        self.student_id = student_id\n",
    "        self.school = school\n",
    "        self.name = name\n",
    "        self.gender = gender\n",
    "        self.cgpa = cgpa\n",
    "\n",
    "    def assign_team(self, team_id: int):\n",
    "        self.team_id = team_id\n",
    "\n",
    "    def __str__(self):\n",
    "        return f\"{self.student_id}, {self.school}, {self.name}, {self.gender}, {self.cgpa}, {self.team_id}\""
   ]
  },
  {
   "cell_type": "markdown",
   "metadata": {
    "id": "F2r97bBTTLFL"
   },
   "source": [
    "$$\\color{green}{\\Huge{\\textbf{Team Group Class}}}$$"
   ]
  },
  {
   "cell_type": "code",
   "execution_count": 125,
   "metadata": {
    "id": "DaAcp68JTTw8"
   },
   "outputs": [],
   "source": [
    "class TeamGroup:\n",
    "    def __init__(self, team_id: int, group_id: int):\n",
    "        self.group_id = group_id\n",
    "        self.team_id = team_id\n",
    "        self.students: list[Student] = []\n",
    "\n",
    "    def __str__(self):\n",
    "        return f\"{self.group_id}:\\n{[str(student) for student in self.students]}\"\n",
    "\n",
    "    def get_avg_cgpa(self):\n",
    "        return sum([student.cgpa for student in self.students]) / len(self.students)\n",
    "\n",
    "    def diversity_score(self):\n",
    "        score = 0\n",
    "        for i in range(len(self.students)):\n",
    "            for j in range(i + 1, len(self.students)):\n",
    "                score += diff(self.students[i], self.students[j], 0.7, 0.7, 1)\n",
    "        return score\n",
    "\n",
    "    def add_student(self, student: Student):\n",
    "        self.students.append(student)"
   ]
  },
  {
   "cell_type": "markdown",
   "metadata": {
    "id": "V24rY3AO6TQ7"
   },
   "source": [
    "$$\\color{green}{\\Huge{\\textbf{Tutorial Group Class}}}$$"
   ]
  },
  {
   "cell_type": "code",
   "execution_count": 126,
   "metadata": {
    "id": "MSHASNk1TXcW"
   },
   "outputs": [],
   "source": [
    "class TutorialGroup:\n",
    "    def __init__(self, group_id: int):\n",
    "        self.group_id = group_id\n",
    "        self.students: list[Student] = []\n",
    "\n",
    "    def __str__(self):\n",
    "        return f\"{self.group_id}:\\n{[str(student) for student in self.students]}\"\n",
    "\n",
    "    def get_max_cgpa(self):\n",
    "        return max(student.cgpa for student in self.students)\n",
    "\n",
    "    def get_min_cgpa(self):\n",
    "        return min(student.cgpa for student in self.students)\n",
    "\n",
    "    def get_avg_cgpa(self) -> float:\n",
    "        total_cgpa = sum(student.cgpa for student in self.students)\n",
    "        return total_cgpa / len(self.students)\n",
    "\n",
    "    def add_student(self, student: Student):\n",
    "        self.students.append(student)"
   ]
  },
  {
   "cell_type": "markdown",
   "metadata": {
    "id": "lF0s32PBVlYG"
   },
   "source": [
    "## Re-read the data to match with the current construction of class"
   ]
  },
  {
   "cell_type": "code",
   "execution_count": 127,
   "metadata": {
    "id": "4yhuRvrmTYLb"
   },
   "outputs": [],
   "source": [
    "load_csv()"
   ]
  },
  {
   "cell_type": "markdown",
   "metadata": {
    "id": "rrnd_QZTI8C5"
   },
   "source": [
    "## Difference Function"
   ]
  },
  {
   "cell_type": "code",
   "execution_count": 128,
   "metadata": {
    "id": "AyVDBKiSI8C5"
   },
   "outputs": [],
   "source": [
    "def diff(A: Student, B: Student, w_s: float, w_g: float, w_c: float) -> float:\n",
    "    # A and B are in the same team and group\n",
    "    res = 0\n",
    "    # If the school is not the same, then add w_s^2 to the result\n",
    "    if A.school != B.school:\n",
    "        res += w_s * w_s\n",
    "    # If the gender is not the same, then add w_g^2 to the result\n",
    "    d_gender = 0\n",
    "    if A.gender != B.gender:\n",
    "        d_gender = w_g * w_g\n",
    "\n",
    "    # CGPA Diversity Score\n",
    "    Group: TutorialGroup = students_by_groups[A.group_id]\n",
    "\n",
    "    d_cgpa = abs(A.cgpa - B.cgpa) / (Group.get_max_cgpa() - Group.get_min_cgpa())\n",
    "    d_avg = 0\n",
    "    # CGPA Mean Score\n",
    "    if A.team_id and A.team_id in Group.students_by_teams:\n",
    "        Team: TeamGroup = Group.students_by_teams[A.team_id]\n",
    "\n",
    "        avg_team = Team.get_avg_cgpa()\n",
    "        avg_group = Group.get_avg_cgpa()\n",
    "        d_avg = abs(avg_team - avg_group) / (\n",
    "            Group.get_max_cgpa() - Group.get_min_cgpa()\n",
    "        )\n",
    "    else:\n",
    "        d_avg = 0\n",
    "\n",
    "    diff = d_cgpa * 0.5 - d_avg * 1.5 + 1.5\n",
    "    diff /= 3 / 2\n",
    "    diff *= w_c\n",
    "    res = res + d_gender * d_gender + diff * diff\n",
    "    return math.sqrt(res)"
   ]
  },
  {
   "cell_type": "markdown",
   "metadata": {
    "id": "q2m4w27_TqUk"
   },
   "source": [
    "# Matching Algorithm"
   ]
  },
  {
   "cell_type": "markdown",
   "metadata": {
    "id": "epM296fCTsAL"
   },
   "source": [
    "## Basic Algorithm\n",
    "\n",
    "The most obvious algorithm we can do here is dividing students into groups in a randomise way. Note that we don't need to pick student randomly each time from the list. Instead, we can shuffle the order of the list then pick students in normal order. That way, it still preserves the random characteristic."
   ]
  },
  {
   "cell_type": "markdown",
   "metadata": {
    "id": "70LcJ3w7T2Jb"
   },
   "source": [
    "- We need to reinitialise `TutorialGroup` class to add functions `assign_group` and `shuffle`"
   ]
  },
  {
   "cell_type": "code",
   "execution_count": 129,
   "metadata": {
    "id": "swii79HZBPMP"
   },
   "outputs": [],
   "source": [
    "class TutorialGroup:\n",
    "    def __init__(self, group_id: int):\n",
    "        self.group_id = group_id\n",
    "        self.students_by_teams: Dict[int, TeamGroup] = {}\n",
    "        self.students = []\n",
    "\n",
    "    def __str__(self):\n",
    "        return f\"{self.group_id}:\\n{[str(student) for student in self.students]}\"\n",
    "\n",
    "    def add_student(self, student: Student):\n",
    "        self.students.append(student)\n",
    "\n",
    "    def get_max_cgpa(self):\n",
    "        return max(student.cgpa for student in self.students)\n",
    "\n",
    "    def get_min_cgpa(self):\n",
    "        return min(student.cgpa for student in self.students)\n",
    "\n",
    "    def get_avg_cgpa(self) -> float:\n",
    "        total_cgpa = sum(student.cgpa for student in self.students)\n",
    "        return total_cgpa / len(self.students)\n",
    "\n",
    "    def shuffle(self):\n",
    "        random.shuffle(self.students)\n",
    "\n",
    "    def assign_group(self, max_pax: int):\n",
    "        self.shuffle()\n",
    "        for i in range(0, len(self.students), max_pax):\n",
    "            team_id = i // max_pax + 1\n",
    "            self.students_by_teams[team_id] = TeamGroup(team_id, self.group_id)\n",
    "            for j in range(i, i + max_pax):\n",
    "                if j < len(self.students):\n",
    "                    self.students[j].team_id = team_id\n",
    "                    self.students_by_teams[team_id].add_student(self.students[j])\n",
    "                else:\n",
    "                    break"
   ]
  },
  {
   "cell_type": "markdown",
   "metadata": {
    "id": "zxhZPRucUClN"
   },
   "source": [
    "### Re-read data to match new constructions of classes"
   ]
  },
  {
   "cell_type": "code",
   "execution_count": 130,
   "metadata": {
    "id": "r0y2MXPKDy3s"
   },
   "outputs": [],
   "source": [
    "load_csv()"
   ]
  },
  {
   "cell_type": "markdown",
   "metadata": {
    "id": "JQSFJPz-I8C4"
   },
   "source": [
    "### Calculating the difference between each pair of students"
   ]
  },
  {
   "cell_type": "markdown",
   "metadata": {
    "id": "bS-YX6RRLwjp"
   },
   "source": [
    "### Assign teams"
   ]
  },
  {
   "cell_type": "code",
   "execution_count": 131,
   "metadata": {
    "id": "xxRu5aNULyy2"
   },
   "outputs": [],
   "source": [
    "for group_id, tutorial in students_by_groups.items():\n",
    "    tutorial.assign_group(5)"
   ]
  },
  {
   "cell_type": "markdown",
   "metadata": {
    "id": "5ZMk9J7kvoeB"
   },
   "source": [
    "### Evaluation of output"
   ]
  },
  {
   "cell_type": "markdown",
   "metadata": {
    "id": "j87oRAPhv5mn"
   },
   "source": [
    "We will try to understand more on the output by plotting it. There are 3 fields:\n",
    "\n",
    "- The frequency of genders amongst all teams (e.g: Number of teams with 3 males and 2 females)\n",
    "\n",
    "- The frequency of different schools amongst al teams (e.g: Number of teams with 5 students from 5 different schools)\n",
    "\n",
    "- The frequency of the difference between team's average CGPA and group's average CGPA"
   ]
  },
  {
   "cell_type": "markdown",
   "metadata": {
    "id": "kMWqIlodxXWw"
   },
   "source": [
    "#### Frequency gender\n",
    "\n",
    "We define `count` as a dictionary, with its keys are numbers and values are smaller dictionaries\n",
    "\n",
    "The smaller dictionaries have their keys are numbers and values are numbers\n",
    "\n",
    "`count[i][j]` means the count of teams with i males and j females\n",
    "\n",
    "Why we don't use normal array for 2 dimensional array?\n",
    "\n",
    "The reason is that when we use dictionary, we can easily access the data like array. However, it's more efficient because we can save some memory space (e.g: There won't be the case 2 males 2 females for a team group of 5 students, while the array has). After that, we only need to plot all existing data in dictionary.\n",
    "\n",
    "Our return is an array of tuple with first values are titles and second values are corresponding frequencies for plotting. We sort the array to sort the title for better viewing."
   ]
  },
  {
   "cell_type": "code",
   "execution_count": 132,
   "metadata": {
    "id": "ip5wmF8yWK4R"
   },
   "outputs": [],
   "source": [
    "def frequency_gender(group: dict[str, TutorialGroup]):\n",
    "\n",
    "    count = {}\n",
    "    for group_id, tutorial in group.items():\n",
    "        for team_group in tutorial.students_by_teams.values():\n",
    "            male = 0\n",
    "            female = 0\n",
    "            for student in team_group.students:\n",
    "                if student.gender == \"Male\":\n",
    "                    male += 1\n",
    "                elif student.gender == \"Female\":\n",
    "                    female += 1\n",
    "            if male not in count:\n",
    "                count[male] = {}\n",
    "                count[male][female] = 1\n",
    "            else:\n",
    "                if female not in count[male]:\n",
    "                    count[male][female] = 1\n",
    "                else:\n",
    "                    count[male][female] += 1\n",
    "    res = []\n",
    "    for m in count.keys():\n",
    "        for f in count[m].keys():\n",
    "            res.append((f\"{m}M_{f}F\", count[m][f]))\n",
    "    res.sort()\n",
    "    return res"
   ]
  },
  {
   "cell_type": "code",
   "execution_count": 133,
   "metadata": {
    "colab": {
     "base_uri": "https://localhost:8080/",
     "height": 472
    },
    "id": "WSr977TCdExD",
    "outputId": "fdfc6d57-7262-480e-a587-13b8026ec464"
   },
   "outputs": [
    {
     "data": {
      "image/png": "[encoded data removed]",
      "text/plain": [
       "<Figure size 640x480 with 1 Axes>"
      ]
     },
     "metadata": {},
     "output_type": "display_data"
    }
   ],
   "source": [
    "def plot_frequency_gender():\n",
    "    data = frequency_gender(students_by_groups)\n",
    "    x_labels = [value[0] for value in data]\n",
    "    plt.bar(x_labels, [value[1] for value in data], color=\"skyblue\", edgecolor=\"black\")\n",
    "    plt.title(\"Frequency of Gender\")\n",
    "    plt.xlabel(\"Male : Female\")\n",
    "    plt.ylabel(\"Number of teams\")\n",
    "    plt.xticks(ticks=range(len(data)), labels=x_labels)\n",
    "    for i, value in enumerate(data):\n",
    "        plt.text(\n",
    "            i,\n",
    "            value[1],\n",
    "            str(value[1]),\n",
    "            ha=\"center\",\n",
    "            va=\"bottom\",\n",
    "            fontsize=12,\n",
    "            color=\"blue\",\n",
    "        )\n",
    "\n",
    "    plt.show()\n",
    "\n",
    "\n",
    "plot_frequency_gender()"
   ]
  },
  {
   "cell_type": "markdown",
   "metadata": {
    "id": "bwZjiVtQ4mDH"
   },
   "source": [
    "#### Frequency school"
   ]
  },
  {
   "cell_type": "markdown",
   "metadata": {},
   "source": [
    "We will do the same as the frequency of gender: We define `count[i][j]` as the number of teams with `i` students and `j` different schools"
   ]
  },
  {
   "cell_type": "code",
   "execution_count": 134,
   "metadata": {
    "colab": {
     "base_uri": "https://localhost:8080/",
     "height": 489
    },
    "id": "Sbe_D5COZM53",
    "outputId": "97402f2e-46a7-48ae-fdd9-c942b43e6829"
   },
   "outputs": [],
   "source": [
    "def frequency_school(group: dict[str, TutorialGroup]):\n",
    "\n",
    "    count = {}\n",
    "    for group_id, tutorial in group.items():\n",
    "        for team_group in tutorial.students_by_teams.values():\n",
    "            school = []\n",
    "            for student in team_group.students:\n",
    "                if student.school not in school:\n",
    "                    school.append(student.school)\n",
    "            if len(school) not in count:\n",
    "                count[len(school)] = {}\n",
    "                count[len(school)][len(team_group.students)] = 1\n",
    "            else:\n",
    "                if len(team_group.students) not in count[len(school)]:\n",
    "                    count[len(school)][len(team_group.students)] = 1\n",
    "                else:\n",
    "                    count[len(school)][len(team_group.students)] += 1\n",
    "    res = []\n",
    "    for s in count.keys():\n",
    "        for t in count[s].keys():\n",
    "            res.append((f\"{s}/{t}\", count[s][t]))\n",
    "    res.sort()\n",
    "    return res"
   ]
  },
  {
   "cell_type": "code",
   "execution_count": 135,
   "metadata": {},
   "outputs": [
    {
     "data": {
      "image/png": "[encoded data removed]",
      "text/plain": [
       "<Figure size 640x480 with 1 Axes>"
      ]
     },
     "metadata": {},
     "output_type": "display_data"
    }
   ],
   "source": [
    "def plot_frequency_school():\n",
    "    data = frequency_school(students_by_groups)\n",
    "    x_labels = [value[0] for value in data]\n",
    "    plt.bar(x_labels, [value[1] for value in data], color=\"skyblue\", edgecolor=\"black\")\n",
    "    plt.title(\"Frequency of school\")\n",
    "    plt.xlabel(\"School/Student\")\n",
    "    plt.ylabel(\"Number of teams\")\n",
    "    plt.xticks(ticks=range(len(data)), labels=x_labels)\n",
    "    for i, value in enumerate(data):\n",
    "        plt.text(\n",
    "            i,\n",
    "            value[1],\n",
    "            str(value[1]),\n",
    "            ha=\"center\",\n",
    "            va=\"bottom\",\n",
    "            fontsize=12,\n",
    "            color=\"blue\",\n",
    "        )\n",
    "\n",
    "    plt.show()\n",
    "\n",
    "\n",
    "plot_frequency_school()"
   ]
  },
  {
   "cell_type": "markdown",
   "metadata": {},
   "source": [
    "#### Frequency CGPA"
   ]
  },
  {
   "cell_type": "markdown",
   "metadata": {},
   "source": [
    "This plot is slightly different as we plot the difference between the average CGPA of a team and its corresponding tutorial group."
   ]
  },
  {
   "cell_type": "code",
   "execution_count": 136,
   "metadata": {
    "colab": {
     "base_uri": "https://localhost:8080/",
     "height": 350
    },
    "id": "fBSbaLM6bIO_",
    "outputId": "4d4e72cd-26c4-438b-bf7b-83af5288cab5"
   },
   "outputs": [],
   "source": [
    "def frequency_cgpa(group: TutorialGroup):\n",
    "    team_cnt = 0\n",
    "    frequency = []\n",
    "    for group_id, tutorial in group.items():\n",
    "        team_cnt += 10\n",
    "        for team_group in tutorial.students_by_teams.values():\n",
    "            avg_team = team_group.get_avg_cgpa()\n",
    "            avg_group = tutorial.get_avg_cgpa()\n",
    "            frequency.append(abs(avg_team - avg_group))\n",
    "    return frequency"
   ]
  },
  {
   "cell_type": "code",
   "execution_count": 137,
   "metadata": {},
   "outputs": [
    {
     "data": {
      "image/png": "[encoded data removed]",
      "text/plain": [
       "<Figure size 1000x600 with 1 Axes>"
      ]
     },
     "metadata": {},
     "output_type": "display_data"
    }
   ],
   "source": [
    "def plot_frequency_cgpa():\n",
    "\n",
    "    data = frequency_cgpa(students_by_groups)\n",
    "    plt.figure(figsize=(10, 6))\n",
    "    plt.hist(data, bins=50, edgecolor=\"black\")\n",
    "    plt.title(\"Frequency of CGPA\")\n",
    "    plt.xlabel(\"CGPA\")\n",
    "    plt.ylabel(\"Frequency\")\n",
    "    plt.show()\n",
    "\n",
    "\n",
    "plot_frequency_cgpa()"
   ]
  },
  {
   "cell_type": "markdown",
   "metadata": {
    "id": "3o-Zt1S_I8C8"
   },
   "source": [
    "# Local Search"
   ]
  },
  {
   "cell_type": "markdown",
   "metadata": {
    "id": "SLAIRZu34eai"
   },
   "source": [
    "Local search is a heuristical algorithm to solve computationally hard optimisation problems. The term 'local' means that we only focus on finding solutions within limited part of the solution space.\n",
    "\n",
    "We define a neighbour as a solution that is directly reachable from another solution by making a small change, in this case, it's the swap function. We will try to swap one student of a team with another student of a different team.\n",
    "\n",
    "As we have defined earlier the evaluation function, or objective function. We will maximise the output of the function, so whenever we find a better neighbour, we keep the solution and keep finding if the neighbour of that neighbour yields better output.\n",
    "\n",
    "This is a hill climbing method, and what we obtain will be the maximum solution in local solution space."
   ]
  },
  {
   "cell_type": "markdown",
   "metadata": {
    "id": "R-A0-Akq4hyP"
   },
   "source": [
    "# Swap function"
   ]
  },
  {
   "cell_type": "markdown",
   "metadata": {
    "id": "L4eHaeBT4jaz"
   },
   "source": [
    "We first define our swap function for students across teams of the same group with the same TutorialGroup"
   ]
  },
  {
   "cell_type": "code",
   "execution_count": 138,
   "metadata": {
    "id": "y6DOwWA14het"
   },
   "outputs": [],
   "source": [
    "class TutorialGroup:\n",
    "    def __init__(self, group_id: int):\n",
    "        self.group_id = group_id\n",
    "        self.students_by_teams: Dict[int, TeamGroup] = {}\n",
    "        self.students = []\n",
    "\n",
    "    def __str__(self):\n",
    "        return f\"{self.group_id}:\\n{[str(student) for student in self.students]}\"\n",
    "\n",
    "    def add_student(self, student: Student):\n",
    "        self.students.append(student)\n",
    "\n",
    "    def get_max_cgpa(self):\n",
    "        return max(student.cgpa for student in self.students)\n",
    "\n",
    "    def get_min_cgpa(self):\n",
    "        return min(student.cgpa for student in self.students)\n",
    "\n",
    "    def get_avg_cgpa(self) -> float:\n",
    "        total_cgpa = sum(student.cgpa for student in self.students)\n",
    "        return total_cgpa / len(self.students)\n",
    "\n",
    "    def shuffle(self):\n",
    "        random.shuffle(self.students)\n",
    "\n",
    "    def assign_group(self, max_pax: int):\n",
    "        self.shuffle()\n",
    "        for i in range(0, len(self.students), max_pax):\n",
    "            team_id = i // max_pax + 1\n",
    "            self.students_by_teams[team_id] = TeamGroup(team_id, self.group_id)\n",
    "            for j in range(i, i + max_pax):\n",
    "                if j < len(self.students):\n",
    "                    self.students[j].team_id = team_id\n",
    "                    self.students_by_teams[team_id].add_student(self.students[j])\n",
    "                else:\n",
    "                    break\n",
    "\n",
    "    def get_group_score(self):\n",
    "        score = 0\n",
    "        for team in self.students_by_teams.values():\n",
    "            score += team.diversity_score()\n",
    "        return score\n",
    "\n",
    "    def swap(self, A: Student, B: Student):\n",
    "        \"\"\"Swapping student within the same group, but different teams\n",
    "        Args:\n",
    "            A (Student): The student A to be swapped\n",
    "            B (Student): The student B to be swapped\n",
    "        \"\"\"\n",
    "        ref_A = A.team_id\n",
    "        ref_B = B.team_id\n",
    "        A.team_id = ref_B\n",
    "        B.team_id = ref_A\n",
    "        self.students_by_teams[ref_A].students.remove(A)\n",
    "        self.students_by_teams[ref_A].students.append(B)\n",
    "        self.students_by_teams[ref_B].students.remove(B)\n",
    "        self.students_by_teams[ref_B].students.append(A)\n",
    "\n",
    "\n",
    "load_csv()"
   ]
  },
  {
   "cell_type": "markdown",
   "metadata": {
    "id": "ndnMJgqd4ohG"
   },
   "source": [
    "### Local Improve\n",
    "\n",
    "Local improve functions will try to swap 2 students from different teams but in the same group. If the group score is higher, we keep the modification. Otherwise, we revert back to original."
   ]
  },
  {
   "cell_type": "code",
   "execution_count": 139,
   "metadata": {
    "id": "Ksh53V4T4rJD"
   },
   "outputs": [],
   "source": [
    "def local_improve(group: TutorialGroup) -> bool:\n",
    "    \"\"\"Try to swap the target student with other students in the same group\n",
    "    Args:\n",
    "        group (TutorialGroup): The group where the student is in\n",
    "\n",
    "    Returns:\n",
    "        bool: If the group score is improved, return True, otherwise return False\n",
    "    \"\"\"\n",
    "    initial_score = group.get_group_score()\n",
    "\n",
    "    team_ids = list(group.students_by_teams.keys())\n",
    "    \n",
    "    improve = False\n",
    "    for i in range(0, len(team_ids)):\n",
    "        for j in range(i + 1, len(team_ids)):\n",
    "            for student in group.students_by_teams[team_ids[i]].students:\n",
    "                for other_student in group.students_by_teams[team_ids[j]].students:\n",
    "                    group.swap(student, other_student)\n",
    "                    new_score = group.get_group_score()\n",
    "                    if new_score > initial_score:\n",
    "                        initial_score = new_score\n",
    "                        improve = True\n",
    "                        break\n",
    "                    else:\n",
    "                        group.swap(student, other_student)\n",
    "                continue\n",
    "    return improve"
   ]
  },
  {
   "cell_type": "markdown",
   "metadata": {
    "id": "JSydaojA4sja"
   },
   "source": [
    "### Group Improve\n",
    "\n",
    "We will run the code until a specific number of swaps or until it reaches its local optima"
   ]
  },
  {
   "cell_type": "code",
   "execution_count": null,
   "metadata": {
    "id": "JqK3nIHv4tm_"
   },
   "outputs": [],
   "source": [
    "def group_improve(group: TutorialGroup):\n",
    "    try:\n",
    "        group_score = group.get_group_score()\n",
    "        print(group.group_id, f\"Before: {group_score}\", end=\" \")\n",
    "        no_of_improve = 0\n",
    "        # local_improve(group)\n",
    "        while local_improve(group) and no_of_improve < 1:\n",
    "            no_of_improve += 1\n",
    "            pass\n",
    "        group_score = group.get_group_score()\n",
    "        print(f\"After: {group_score}\")\n",
    "        print(f\"Number of improvement: {no_of_improve}\")\n",
    "    except Exception as e:\n",
    "        print(f\"An error occurred in group {group.group_id}: {e}\")\n",
    "\n",
    "        print(traceback.format_exc())"
   ]
  },
  {
   "cell_type": "markdown",
   "metadata": {
    "id": "gWdesCKi4u_B"
   },
   "source": [
    "### Run the code\n",
    "\n",
    "We can now run the function for every group to check the score improvement. Because all groups are independent (We don't swap students across groups), we can do checking indepdendently for each group."
   ]
  },
  {
   "cell_type": "code",
   "execution_count": 141,
   "metadata": {
    "collapsed": true,
    "id": "rMTKUj8S4wFv"
   },
   "outputs": [
    {
     "name": "stdout",
     "output_type": "stream",
     "text": [
      "G-1 Before: 126.48608975483326 After: 132.83572472482442\n",
      "Number of improvement: 1\n",
      "G-10 Before: 123.8991654547622 After: 132.94226552570768\n",
      "Number of improvement: 1\n",
      "G-100 Before: 125.28695271579913 After: 132.6420493513993\n",
      "Number of improvement: 1\n",
      "G-101 Before: 125.13043086846795 After: 133.70100957831687\n",
      "Number of improvement: 1\n",
      "G-102 Before: 124.68958903957409 After: 134.51929117661675\n",
      "Number of improvement: 1\n",
      "G-103 Before: 125.94475344592647 After: 132.68962606947395\n",
      "Number of improvement: 1\n",
      "G-104 Before: 125.0072207218243 After: 134.8986349002728\n",
      "Number of improvement: 1\n",
      "G-105 Before: 125.69977160578298 After: 134.2997033912283\n",
      "Number of improvement: 1\n",
      "G-106 Before: 127.11344318405766 After: 132.93556599755794\n",
      "Number of improvement: 1\n",
      "G-107 Before: 123.74095383389579 After: 137.1524543379621\n",
      "Number of improvement: 1\n",
      "G-108 Before: 126.86670965131279 After: 132.52784949727766\n",
      "Number of improvement: 1\n",
      "G-109 Before: 122.65854142964464 After: 135.7047004340601\n",
      "Number of improvement: 1\n",
      "G-11 Before: 124.49846149491147 After: 134.18139386913572\n",
      "Number of improvement: 1\n",
      "G-110 Before: 127.39626827838404 After: 133.9655481207446\n",
      "Number of improvement: 1\n",
      "G-111 Before: 124.14896423326384 After: 133.38326711657393\n",
      "Number of improvement: 1\n",
      "G-112 Before: 123.6032460225556 After: 132.63039741446192\n",
      "Number of improvement: 1\n",
      "G-113 Before: 128.28973831949696 After: 134.4436347001118\n",
      "Number of improvement: 1\n",
      "G-114 Before: 127.40596957386013 After: 132.0824080748948\n",
      "Number of improvement: 1\n",
      "G-115 Before: 122.17814881442273 After: 134.9120128452912\n",
      "Number of improvement: 1\n",
      "G-116 Before: 122.74685430571887 After: 133.07870924238145\n",
      "Number of improvement: 1\n",
      "G-117 Before: 121.8149198566909 After: 131.5745635799665\n",
      "Number of improvement: 1\n",
      "G-118 Before: 124.47081056108887 After: 133.3130903180926\n",
      "Number of improvement: 1\n",
      "G-119 Before: 124.51813550387769 After: 134.5516437445012\n",
      "Number of improvement: 1\n",
      "G-12 Before: 125.6654391394488 After: 133.74686576682615\n",
      "Number of improvement: 1\n",
      "G-120 Before: 123.98373522393454 After: 132.474406167155\n",
      "Number of improvement: 1\n",
      "G-13 Before: 129.7033043453407 After: 136.4709771988483\n",
      "Number of improvement: 1\n",
      "G-14 Before: 126.01787976069761 After: 132.79552528115465\n",
      "Number of improvement: 1\n",
      "G-15 Before: 124.91709148021398 After: 134.5978750834786\n",
      "Number of improvement: 1\n",
      "G-16 Before: 125.42120885836123 After: 132.85245352115007\n",
      "Number of improvement: 1\n",
      "G-17 Before: 126.30454385540978 After: 133.22835309373403\n",
      "Number of improvement: 1\n",
      "G-18 Before: 126.52311360170884 After: 136.63884394804452\n",
      "Number of improvement: 1\n",
      "G-19 Before: 127.10810828795489 After: 134.82451842547226\n",
      "Number of improvement: 1\n",
      "G-2 Before: 125.1804722951408 After: 135.5181602574546\n",
      "Number of improvement: 1\n",
      "G-20 Before: 122.56246085335778 After: 132.25758843093152\n",
      "Number of improvement: 1\n",
      "G-21 Before: 126.42861630898531 After: 136.64575475139074\n",
      "Number of improvement: 1\n",
      "G-22 Before: 126.8540308953485 After: 134.18332110028348\n",
      "Number of improvement: 1\n",
      "G-23 Before: 124.5212886695113 After: 132.247058657016\n",
      "Number of improvement: 1\n",
      "G-24 Before: 122.16510234067792 After: 135.16428792158356\n",
      "Number of improvement: 1\n",
      "G-25 Before: 124.42686588322024 After: 131.02715640441352\n",
      "Number of improvement: 1\n",
      "G-26 Before: 126.14518483943036 After: 135.73631907501243\n",
      "Number of improvement: 1\n",
      "G-27 Before: 125.02074166349306 After: 132.9321275880584\n",
      "Number of improvement: 1\n",
      "G-28 Before: 126.35469893637507 After: 135.6620468546531\n",
      "Number of improvement: 1\n",
      "G-29 Before: 123.02058239115118 After: 132.0096018395509\n",
      "Number of improvement: 1\n",
      "G-3 Before: 126.44608226843302 After: 130.71526769510422\n",
      "Number of improvement: 1\n",
      "G-30 Before: 127.20541306411204 After: 133.09504226690018\n",
      "Number of improvement: 1\n",
      "G-31 Before: 125.47463502760596 After: 131.50186455402937\n",
      "Number of improvement: 1\n",
      "G-32 Before: 126.82462921799467 After: 134.75571316504863\n",
      "Number of improvement: 1\n",
      "G-33 Before: 124.69475731047731 After: 132.75204870448735\n",
      "Number of improvement: 1\n",
      "G-34 Before: 129.4007332474702 After: 135.94296691847825\n",
      "Number of improvement: 1\n",
      "G-35 Before: 126.61663341045568 After: 133.4658761721831\n",
      "Number of improvement: 1\n",
      "G-36 Before: 123.0461173510981 After: 135.3012636659194\n",
      "Number of improvement: 1\n",
      "G-37 Before: 124.05435387758637 After: 131.17684709531613\n",
      "Number of improvement: 1\n",
      "G-38 Before: 125.47318892570996 After: 133.0454804044956\n",
      "Number of improvement: 1\n",
      "G-39 Before: 127.00553485367116 After: 133.80058362971997\n",
      "Number of improvement: 1\n",
      "G-4 Before: 124.37778424799265 After: 133.7362909067005\n",
      "Number of improvement: 1\n",
      "G-40 Before: 126.54296368110066 After: 134.0543905717153\n",
      "Number of improvement: 1\n",
      "G-41 Before: 127.04928505113494 After: 135.93061002927396\n",
      "Number of improvement: 1\n",
      "G-42 Before: 126.64220564747144 After: 134.0410483441114\n",
      "Number of improvement: 1\n",
      "G-43 Before: 124.91766249615002 After: 134.8742997203596\n",
      "Number of improvement: 1\n",
      "G-44 Before: 128.16159863229402 After: 132.68908225385798\n",
      "Number of improvement: 1\n",
      "G-45 Before: 124.34969195364397 After: 134.00133837415518\n",
      "Number of improvement: 1\n",
      "G-46 Before: 125.46646962419823 After: 130.98568405267824\n",
      "Number of improvement: 1\n",
      "G-47 Before: 129.60949512135923 After: 137.27308866089493\n",
      "Number of improvement: 1\n",
      "G-48 Before: 126.18907750685425 After: 131.25668727775894\n",
      "Number of improvement: 1\n",
      "G-49 Before: 126.75173559207857 After: 134.1687484915838\n",
      "Number of improvement: 1\n",
      "G-5 Before: 120.63146665811675 After: 132.14153480612603\n",
      "Number of improvement: 1\n",
      "G-50 Before: 123.57011135335193 After: 130.99189470430252\n",
      "Number of improvement: 1\n",
      "G-51 Before: 123.05852389195178 After: 131.62886142707364\n",
      "Number of improvement: 1\n",
      "G-52 Before: 127.46203095661605 After: 133.21818287704656\n",
      "Number of improvement: 1\n",
      "G-53 Before: 124.19144146920279 After: 134.58477410081818\n",
      "Number of improvement: 1\n",
      "G-54 Before: 122.75806581290269 After: 131.18700406521725\n",
      "Number of improvement: 1\n",
      "G-55 Before: 124.54866221282668 After: 133.73949396710844\n",
      "Number of improvement: 1\n",
      "G-56 Before: 127.05494988773734 After: 135.03813254998224\n",
      "Number of improvement: 1\n",
      "G-57 Before: 128.56398140500755 After: 135.49383012712653\n",
      "Number of improvement: 1\n",
      "G-58 Before: 123.62895692209749 After: 132.89382299860407\n",
      "Number of improvement: 1\n",
      "G-59 Before: 121.28215252694804 After: 131.27814841286136\n",
      "Number of improvement: 1\n",
      "G-6 Before: 123.72824886442507 After: 131.66350203655387\n",
      "Number of improvement: 1\n",
      "G-60 Before: 122.65889270669683 After: 132.4041381306153\n",
      "Number of improvement: 1\n",
      "G-61 Before: 127.1496475594216 After: 135.9717787293386\n",
      "Number of improvement: 1\n",
      "G-62 Before: 128.36554165274796 After: 135.965759683648\n",
      "Number of improvement: 1\n",
      "G-63 Before: 126.92990186748294 After: 135.0329829829564\n",
      "Number of improvement: 1\n",
      "G-64 Before: 126.90161838097825 After: 136.0433389251199\n",
      "Number of improvement: 1\n",
      "G-65 Before: 125.81518729947285 After: 131.9881175186705\n",
      "Number of improvement: 1\n",
      "G-66 Before: 127.56145888799209 After: 133.3824277653799\n",
      "Number of improvement: 1\n",
      "G-67 Before: 124.9162335447845 After: 135.70718844271735\n",
      "Number of improvement: 1\n",
      "G-68 Before: 125.0014321113346 After: 132.41960561886998\n",
      "Number of improvement: 1\n",
      "G-69 Before: 123.14458192661456 After: 135.34487689730278\n",
      "Number of improvement: 1\n",
      "G-7 Before: 124.61965651646679 After: 133.95129762066088\n",
      "Number of improvement: 1\n",
      "G-70 Before: 126.05195090279223 After: 135.67923174903845\n",
      "Number of improvement: 1\n",
      "G-71 Before: 124.6233007655948 After: 133.64190799580214\n",
      "Number of improvement: 1\n",
      "G-72 Before: 126.80506582317031 After: 134.35536684998038\n",
      "Number of improvement: 1\n",
      "G-73 Before: 125.39876708341234 After: 136.3363795529166\n",
      "Number of improvement: 1\n",
      "G-74 Before: 125.20591080980952 After: 133.33583548720034\n",
      "Number of improvement: 1\n",
      "G-75 Before: 127.38554134371515 After: 133.55414085290576\n",
      "Number of improvement: 1\n",
      "G-76 Before: 124.92539333491352 After: 134.41459801435983\n",
      "Number of improvement: 1\n",
      "G-77 Before: 125.8843312995357 After: 132.64162385418024\n",
      "Number of improvement: 1\n",
      "G-78 Before: 129.10920780963573 After: 135.0907252462217\n",
      "Number of improvement: 1\n",
      "G-79 Before: 126.27508734943389 After: 135.07594462025358\n",
      "Number of improvement: 1\n",
      "G-8 Before: 124.39477385002156 After: 132.60391712061255\n",
      "Number of improvement: 1\n",
      "G-80 Before: 125.8616610438418 After: 133.65066108326113\n",
      "Number of improvement: 1\n",
      "G-81 Before: 127.05551957302053 After: 132.70755641905768\n",
      "Number of improvement: 1\n",
      "G-82 Before: 127.86611837422367 After: 133.4498055536219\n",
      "Number of improvement: 1\n",
      "G-83 Before: 128.88046320648377 After: 135.94279018363105\n",
      "Number of improvement: 1\n",
      "G-84 Before: 126.81019659987359 After: 135.0855611113652\n",
      "Number of improvement: 1\n",
      "G-85 Before: 124.212839020526 After: 133.0258487321619\n",
      "Number of improvement: 1\n",
      "G-86 Before: 125.37902549670551 After: 132.2591101712676\n",
      "Number of improvement: 1\n",
      "G-87 Before: 124.1838655741816 After: 132.27951435480773\n",
      "Number of improvement: 1\n",
      "G-88 Before: 126.44797072537709 After: 135.34337342171338\n",
      "Number of improvement: 1\n",
      "G-89 Before: 125.85977229436874 After: 133.8362317901893\n",
      "Number of improvement: 1\n",
      "G-9 Before: 126.43283167787025 After: 133.0011563709528\n",
      "Number of improvement: 1\n",
      "G-90 Before: 128.27218092338217 After: 132.64224367168802\n",
      "Number of improvement: 1\n",
      "G-91 Before: 126.25380798754385 After: 134.35083266613108\n",
      "Number of improvement: 1\n",
      "G-92 Before: 127.54415333424977 After: 135.1413830361157\n",
      "Number of improvement: 1\n",
      "G-93 Before: 124.53360612164673 After: 131.80672500867348\n",
      "Number of improvement: 1\n",
      "G-94 Before: 126.10704049112405 After: 132.80942558272525\n",
      "Number of improvement: 1\n",
      "G-95 Before: 124.44492643149039 After: 133.8516222659102\n",
      "Number of improvement: 1\n",
      "G-96 Before: 125.94556299835556 After: 132.38837339177516\n",
      "Number of improvement: 1\n",
      "G-97 Before: 127.41827999896272 After: 136.67855977457683\n",
      "Number of improvement: 1\n",
      "G-98 Before: 126.99858524687974 After: 132.71877759484792\n",
      "Number of improvement: 1\n",
      "G-99 Before: 125.63987676353057 After: 135.26578285520114\n",
      "Number of improvement: 1\n"
     ]
    }
   ],
   "source": [
    "try:\n",
    "    for group in students_by_groups.values():\n",
    "        group.assign_group(5)\n",
    "        group_improve(group)\n",
    "\n",
    "except Exception as e:\n",
    "    print(traceback.format_exc())\n",
    "\n",
    "# for group in students_by_groups.values():\n",
    "#     print(group.get_avg_cgpa())\n",
    "#     for team in group.students_by_teams.values():\n",
    "#         for student in team.students:\n",
    "#             print(student)"
   ]
  },
  {
   "cell_type": "code",
   "execution_count": 142,
   "metadata": {
    "id": "-OKmgXh2g4Yq"
   },
   "outputs": [
    {
     "data": {
      "image/png": "[encoded data removed]",
      "text/plain": [
       "<Figure size 640x480 with 1 Axes>"
      ]
     },
     "metadata": {},
     "output_type": "display_data"
    }
   ],
   "source": [
    "plot_frequency_gender()"
   ]
  },
  {
   "cell_type": "code",
   "execution_count": 143,
   "metadata": {
    "id": "zHnKz3vOhHJR"
   },
   "outputs": [
    {
     "data": {
      "image/png": "[encoded data removed]",
      "text/plain": [
       "<Figure size 640x480 with 1 Axes>"
      ]
     },
     "metadata": {},
     "output_type": "display_data"
    }
   ],
   "source": [
    "plot_frequency_school()"
   ]
  },
  {
   "cell_type": "code",
   "execution_count": 144,
   "metadata": {},
   "outputs": [
    {
     "data": {
      "image/png": "[encoded data removed]",
      "text/plain": [
       "<Figure size 1000x600 with 1 Axes>"
      ]
     },
     "metadata": {},
     "output_type": "display_data"
    }
   ],
   "source": [
    "plot_frequency_cgpa()"
   ]
  },
  {
   "cell_type": "code",
   "execution_count": null,
   "metadata": {
    "id": "wVasiYxoFU6F"
   },
   "outputs": [],
   "source": [
    "def get_team_size():\n",
    "    while True:\n",
    "        try:\n",
    "            team_size = int(\n",
    "                input(\"Enter a number of students per team (between 4 and 10): \")\n",
    "            )\n",
    "            if 4 <= team_size <= 10:\n",
    "                return team_size\n",
    "            else:\n",
    "                print(\"Invalid input. Please enter a number between 4 and 10.\")\n",
    "        except ValueError:\n",
    "            print(\"Invalid input. Please enter a number.\")"
   ]
  },
  {
   "cell_type": "markdown",
   "metadata": {},
   "source": [
    "# Extract new csv file"
   ]
  },
  {
   "cell_type": "markdown",
   "metadata": {},
   "source": [
    "Finally, we output our result to a new csv file"
   ]
  },
  {
   "cell_type": "code",
   "execution_count": 147,
   "metadata": {},
   "outputs": [],
   "source": [
    "def output_file():\n",
    "    with open(\"output.csv\", mode=\"w\", newline=\"\") as file:\n",
    "        writer = csv.writer(file)\n",
    "        writer.writerow(\n",
    "            [\"Group ID\", \"Team ID\", \"Student ID\", \"School\", \"Name\", \"Gender\", \"CGPA\"]\n",
    "        )\n",
    "        for group in students_by_groups.values():\n",
    "            for team in group.students_by_teams.values():\n",
    "                for student in team.students:\n",
    "                    writer.writerow(\n",
    "                        [\n",
    "                            student.group_id,\n",
    "                            student.team_id,\n",
    "                            student.student_id,\n",
    "                            student.school,\n",
    "                            student.name,\n",
    "                            student.gender,\n",
    "                            student.cgpa,\n",
    "                        ]\n",
    "                    )\n",
    "\n",
    "output_file()"
   ]
  }
 ],
 "metadata": {
  "colab": {
   "provenance": []
  },
  "kernelspec": {
   "display_name": ".env",
   "language": "python",
   "name": "python3"
  },
  "language_info": {
   "codemirror_mode": {
    "name": "ipython",
    "version": 3
   },
   "file_extension": ".py",
   "mimetype": "text/x-python",
   "name": "python",
   "nbconvert_exporter": "python",
   "pygments_lexer": "ipython3",
   "version": "3.12.7"
  }
 },
 "nbformat": 4,
 "nbformat_minor": 0
}
