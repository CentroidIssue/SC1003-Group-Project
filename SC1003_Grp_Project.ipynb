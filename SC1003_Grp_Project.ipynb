{
  "cells": [
    {
      "cell_type": "markdown",
      "metadata": {
        "id": "nY0KbGZRhEFu"
      },
      "source": [
        "# Read CSV File\n",
        "\n",
        "* Import CSV File using CSV Module\n",
        "\n",
        "* Read CSV File and push data to `students_by_groups` dictionary\n",
        "\n",
        "* `students_by_groups` is a dictionary where its keys are `tutorial_group` columns in the CSV file, while the values are objects of `TutorialGroup` datatype\n",
        "\n",
        "* The TutorialGroup datatype contains an arrays of `Student` object\n",
        "\n",
        "* Each `Student` object has the same parameters as the original data\n",
        "\n",
        "## Example:\n",
        "\n",
        "If a student has the following format:\n",
        "\n",
        "```py\n",
        "{\n",
        "    'tutorial_group': \"G-1\",\n",
        "    'student_id': 5002,\n",
        "    'school': \"CCDS\",\n",
        "    'name': \"Aarav Singh\",\n",
        "    'gender': \"Male\",\n",
        "    'CGPA': 4.02\n",
        "}\n",
        "```\n",
        "\n",
        "Then the `students_by_groups` would look like this:\n",
        "\n",
        "```py\n",
        "students_by_groups = {\n",
        "    'G-1': TutorialGroup(group_id = 1)\n",
        "}\n",
        "\n",
        "students_by_groups['G-1'].students = [\n",
        "    Student(tutorial_group = 'G-1', student_id = 5002, school='CCDS', name='Aarav Singh', gender='Male', CGPA=4.02)\n",
        "]\n",
        "```"
      ]
    },
    {
      "cell_type": "markdown",
      "metadata": {
        "id": "aLNHXpMGSlbT"
      },
      "source": [
        "## Import required dependencies"
      ]
    },
    {
      "cell_type": "code",
      "execution_count": 1,
      "metadata": {
        "id": "imPF9K0JSnBV"
      },
      "outputs": [],
      "source": [
        "import csv # For reading and writing csv files\n",
        "import math # For ln function we use later\n",
        "from typing import Dict, List # For type hints\n",
        "import random # For random number generation"
      ]
    },
    {
      "cell_type": "markdown",
      "metadata": {
        "id": "DHH8khezSuyI"
      },
      "source": [
        "# We will try to construct OOP Classes for better formatting and nested functions"
      ]
    },
    {
      "cell_type": "markdown",
      "metadata": {
        "id": "_RmX3jEqSvWy"
      },
      "source": [
        "$$\\color{green}{\\Huge{\\textbf{Student class}}}$$"
      ]
    },
    {
      "cell_type": "code",
      "execution_count": 2,
      "metadata": {
        "colab": {
          "base_uri": "https://localhost:8080/",
          "height": 173
        },
        "id": "PdzEw89jVQfA",
        "outputId": "054fdd14-72aa-422c-c110-f01b5c8f76a8"
      },
      "outputs": [],
      "source": [
        "class Student:\n",
        "    def __init__(self, group_id: str, student_id: int, school: str, name: str, gender: str, CGPA: float = 4.5):\n",
        "        self.group_id = group_id\n",
        "        self.student_id = student_id\n",
        "        self.school = school\n",
        "        self.name = name\n",
        "        self.gender = gender\n",
        "        self.cgpaaa = CGPA\n",
        "\n",
        "    def __str__(self):\n",
        "        return f\"{self.student_id} {self.school} {self.name} {self.gender} {self.cgpa}\""
      ]
    },
    {
      "cell_type": "markdown",
      "metadata": {
        "id": "vhneab29VO7y"
      },
      "source": [
        "$$\\color{green}{\\Huge{\\textbf{Tutorial Group Class}}}$$"
      ]
    },
    {
      "cell_type": "code",
      "execution_count": 3,
      "metadata": {
        "id": "gjZwpBMfS0_j"
      },
      "outputs": [],
      "source": [
        "class TutorialGroup:\n",
        "    def __init__(self, group_id: int):\n",
        "        self.group_id = group_id\n",
        "        self.students = []\n",
        "\n",
        "    def __str__(self):\n",
        "        return f\"{self.group_id}:\\n{[str(student) for student in self.students]}\"\n",
        "\n",
        "    def add_student(self, student: Student):\n",
        "        self.students.append(student)"
      ]
    },
    {
      "cell_type": "markdown",
      "metadata": {
        "id": "PHxtGtdBS3Ex"
      },
      "source": [
        "## Read and store data"
      ]
    },
    {
      "cell_type": "code",
      "execution_count": 4,
      "metadata": {
        "id": "d8SsHXJtS21S"
      },
      "outputs": [],
      "source": [
        "students_by_groups: Dict[str, TutorialGroup] = {\n",
        "\n",
        "}\n",
        "\n",
        "students_by_id: Dict[str, Student] = {\n",
        "\n",
        "}\n",
        "\n",
        "def load_csv():\n",
        "    global students_by_groups\n",
        "    global students_by_id\n",
        "    students_by_groups = {}\n",
        "    students_by_id = {}\n",
        "    with open('records.csv', mode='r') as file:\n",
        "        # Create a CSV reader\n",
        "        csv_reader = csv.reader(file)\n",
        "        next(csv_reader)\n",
        "\n",
        "        # Append students to corresponding tutorial groups\n",
        "        for row in csv_reader:\n",
        "\n",
        "            tutorial_group = row[0]\n",
        "            student_id = int(row[1])  # Convert to int\n",
        "            school = row[2]\n",
        "            name = row[3]\n",
        "            gender = row[4]\n",
        "            cgpa = float(row[5])  # Convert to float\n",
        "\n",
        "            if tutorial_group not in students_by_groups:\n",
        "                students_by_groups[tutorial_group] = TutorialGroup(tutorial_group)\n",
        "\n",
        "            students_by_id[str(student_id)] = Student(tutorial_group, student_id, school, name, gender, cgpa)\n",
        "            students_by_groups[tutorial_group].add_student(Student(tutorial_group, student_id, school, name, gender, cgpa))\n",
        "\n",
        "load_csv()"
      ]
    },
    {
      "cell_type": "markdown",
      "metadata": {
        "id": "ETBmwzuG54Tm"
      },
      "source": [
        "# Diversity Score Calculation\n",
        "\n",
        "The diversity score of a group is the sum of diversity score for each pair of student within a group\n",
        "\n",
        "Each student can be characterised by 3 parameters:\n",
        "\n",
        "- School\n",
        "\n",
        "- Gender\n",
        "\n",
        "- CGPA"
      ]
    },
    {
      "cell_type": "markdown",
      "metadata": {
        "id": "8raPOtBUS-cs"
      },
      "source": [
        "## Formula\n",
        "\n",
        "We can define the diversity score for each pair of students $A$ and $B$ as the distance between $A(school_A, gender_A, cgpa_A)$ and $B(school_B, gender_B, cgpa_B)$:\n",
        "\n",
        "$$\n",
        "d(A, B) = \\sqrt{\\text{diff}(school_A, school_B)^2 + \\text{diff}(gender_A, gender_B)^2 + \\text{diff}(cgpa_A, cgpa_B)^2 }\n",
        "$$"
      ]
    },
    {
      "cell_type": "markdown",
      "metadata": {
        "id": "g1hsZGGDS_gj"
      },
      "source": [
        "### Difference of school\n",
        "\n",
        "The difference of school between 2 students can be fixed into a constant:\n",
        "\n",
        "- If the schools are similar, then the difference is 0\n",
        "\n",
        "- If the schools are different, then the difference is set to a constant $w_s$"
      ]
    },
    {
      "cell_type": "markdown",
      "metadata": {
        "id": "k7MGzOr0TAoh"
      },
      "source": [
        "### Difference of gender\n",
        "\n",
        "The difference of gender between 2 studenst can also be formulated in the same way as the difference of school:\n",
        "\n",
        "- If the genders are similar, then the difference is 0\n",
        "\n",
        "- If the genders are similar, then the difference is set to a constant $w_g$"
      ]
    },
    {
      "cell_type": "markdown",
      "metadata": {
        "id": "CkVteS7QTBiC"
      },
      "source": [
        "### Different of CGPA\n",
        "\n",
        "In basic case, we can use linear difference and add it to the sum of diverse score:\n",
        "\n",
        "$$ \\text{diff}_{cgpa} = |cgpa_A - cgpa_B| $$\n",
        "\n",
        "However, as the weight of $|cgpa_A - cgpa_{B}|$ is purely based on the difference between 2 values, it may outweigh the scores of genders and school. To standardize, first need to normalise the $\\text{diff}_{CGPA}$ by dividing it to the maximum distance obtainable $max_{CGPA} - min_{CGPA}$ of the whole tutorial group consisting of 50 people.\n",
        "\n",
        "Let $d$ be the output after normalisation:\n",
        "\n",
        "$$d_{cgpa} = \\frac{\\text{diff}_{cgpa}}{max_{cgpa} - min_{cgpa}} = \\frac{|cgpa_A - cgpa_B|}{max_{cgpa} - min_{cgpa}} $$\n",
        "\n",
        "Also, we notice that the whole average CGPA of a team should be as close as the whole group average CGPA as possible. Let $$ \\text{diff}_{avg} = |avg_{team} - avg_{group}| $$\n",
        "\n",
        "And we need to standardise the value as well:\n",
        "\n",
        "$$d_{avg} = \\frac{\\text{diff}_{avg}}{max_{cgpa} - min_{cgpa}} = \\frac{|avg_{team} - avg_{group}|}{max_{cgpa} - min_{cgpa}} $$\n",
        "\n",
        "Notice how we have 2 priorities here:\n",
        "\n",
        "- Maximising $|d_{cgpa}|$\n",
        "\n",
        "- Minimising $|d_{avg}|$\n",
        "\n",
        "We already know that $|d_{cgpa}|$ and $|d_{avg}|$ have ranges within 0 to 1. So we will calculate\n",
        "\n",
        "$$d_{cgpa} - d_{avg} + 1$$\n",
        "\n",
        "We add 1 to ensure that the result ranges from 0 to 2.\n",
        "\n",
        "After plotting for a while, we notice that the $d_{cpga}$ generally has larger value than $d_{avg}$, as the difference between 2 members is obviously always larger than the difference between team CGPA and group CGPA\n",
        "\n",
        "This causes the data has higher chance to be > 1 than < 1, which is the balance.\n",
        "\n",
        "To mitigate, we add the weight 0.5 for $d_{cgpa}$ and 1.5 for $d_{cgpa}$. We also needs to change adding 1 to 1.5 to ensure the result ranging from 0 to 2\n",
        "\n",
        "Here, the frequency is balance with around 1.5 as the median. We still need to standardise the data so we divide by 3 and multiply by 2 so the distribution has median around 1. The final function is:\n",
        "\n",
        "$$ \\text{diff}_{cgpa} = \\frac{2}{3} (0.5 * d_{cgpa} - 1.5 * d_{avg} + 1.5) $$\n",
        "\n",
        "Where $w_{c}$ is the weight of the CGPA to other parameters"
      ]
    },
    {
      "cell_type": "markdown",
      "metadata": {
        "id": "SGDYDdkITDNt"
      },
      "source": [
        "\n",
        "### $\\color{red}{\\text{Note}}$\n",
        "\n",
        "One important consideration to mind is the weight of each parameter. For example, since there are only 2 genders <b>Male</b> and <b>Female</b>, the difference between genders of two students should be weighted less (e.g: The other params can be calculated as normal, but this should only be 0 if similar and 0.5 if different)."
      ]
    },
    {
      "cell_type": "markdown",
      "metadata": {
        "id": "x9LBzPW8TH1U"
      },
      "source": [
        "## Calculating the difference between each pair of students"
      ]
    },
    {
      "cell_type": "markdown",
      "metadata": {
        "id": "VA1Az4zHTIrb"
      },
      "source": [
        "- We will first re-write our `TutorialGroup` class to include `get_max_cgpa` and `get_min_cpa` functions\n",
        "\n",
        "- We will also re-rewrite our `Student` class to include `team_id`\n",
        "\n",
        "- Also, we will also create a new class named `TeamGroup` to handle each team for students after being assigned. We will also construct the diversity score function for each TeamGroup using the `diff` function we defined above\n",
        "\n",
        "- The time complexity for a calculation hence is $O(n^2)$, where $n$ is the number of students inside a team"
      ]
    },
    {
      "cell_type": "code",
      "execution_count": 5,
      "metadata": {
        "colab": {
          "base_uri": "https://localhost:8080/"
        },
        "id": "piw9ovWKTJtT",
        "outputId": "fc4ad507-c34b-4fbf-81d2-3be7db6c0b6a"
      },
      "outputs": [],
      "source": [
        "class Student:\n",
        "\n",
        "    def __init__(self, group_id: str, student_id: int, school: str, name: str, gender: str, cgpa: float):\n",
        "        self.group_id = group_id\n",
        "        self.team_id = 0 # Not set yet\n",
        "        self.student_id = student_id\n",
        "        self.school = school\n",
        "        self.name = name\n",
        "        self.gender = gender\n",
        "        self.cgpa = cgpa\n",
        "\n",
        "    def assign_team(self, team_id: int):\n",
        "        self.team_id = team_id\n",
        "\n",
        "    def __str__(self):\n",
        "        return f\"{self.student_id} {self.school} {self.name} {self.gender} {self.cgpa} {self.team_id}\"\n"
      ]
    },
    {
      "cell_type": "markdown",
      "metadata": {
        "id": "F2r97bBTTLFL"
      },
      "source": [
        "$$\\color{green}{\\Huge{\\textbf{Team Group Class}}}$$"
      ]
    },
    {
      "cell_type": "code",
      "execution_count": 6,
      "metadata": {
        "id": "DaAcp68JTTw8"
      },
      "outputs": [],
      "source": [
        "class TeamGroup:\n",
        "    def __init__(self, team_id: int, group_id: int):\n",
        "        self.group_id = group_id\n",
        "        self.team_id = team_id\n",
        "        self.students = []\n",
        "\n",
        "    def __str__(self):\n",
        "        return f\"{self.group_id}:\\n{[str(student) for student in self.students]}\"\n",
        "\n",
        "    def add_student(self, student: Student):\n",
        "        self.students.append(student)\n",
        "    def get_average_cgpa(self):\n",
        "        return sum([student.cgpa for student in self.students]) / len(self.students)"
      ]
    },
    {
      "cell_type": "code",
      "execution_count": 7,
      "metadata": {
        "colab": {
          "base_uri": "https://localhost:8080/",
          "height": 326
        },
        "id": "MSHASNk1TXcW",
        "outputId": "aa4a09e0-61ea-4d7d-f3ca-68330db5e626"
      },
      "outputs": [],
      "source": [
        "class TutorialGroup:\n",
        "    def __init__(self, group_id: int):\n",
        "        self.group_id = group_id\n",
        "        self.students = []\n",
        "        self.min_cpga = 0\n",
        "        self.max_cpga = 0\n",
        "        self.avg_cpga = 0\n",
        "        self.students_by_teams: Dict[int, TeamGroup] = {}\n",
        "\n",
        "    def __str__(self):\n",
        "        return f\"{self.group_id}:\\n{[str(student) for student in self.students]}\"\n",
        "\n",
        "    def add_student(self, student: Student):\n",
        "        self.students.append(student)\n",
        "\n",
        "    def get_max_cgpa(self):\n",
        "        if (self.max_cpga != 0):\n",
        "            return self.max_cpga\n",
        "        self.max_cpga = 0\n",
        "        for student in self.students:\n",
        "            if student.cgpa > self.max_cpga:\n",
        "                self.max_cpga = student.cgpa\n",
        "        return self.max_cpga\n",
        "\n",
        "    def get_min_cgpa(self):\n",
        "        if (self.min_cpga != 0):\n",
        "            return self.min_cpga\n",
        "        self.min_cpga = 5\n",
        "        for student in self.students:\n",
        "            if student.cgpa < self.min_cpga:\n",
        "                self.min_cpga = student.cgpa\n",
        "        return self.min_cpga\n",
        "    \n",
        "    def get_avg_cgpa(self):\n",
        "        if (self.avg_cpga != 0):\n",
        "            return self.avg_cpga\n",
        "        self.avg_cpga = sum([student.cgpa for student in self.students]) / len(self.students)\n",
        "        return self.avg_cpga\n"
      ]
    },
    {
      "cell_type": "markdown",
      "metadata": {
        "id": "lF0s32PBVlYG"
      },
      "source": [
        "## Re-read the data to match with the current construction of class"
      ]
    },
    {
      "cell_type": "code",
      "execution_count": 8,
      "metadata": {
        "id": "4yhuRvrmTYLb"
      },
      "outputs": [],
      "source": [
        "load_csv()"
      ]
    },
    {
      "cell_type": "markdown",
      "metadata": {
        "id": "nw6MfHAtTdMl"
      },
      "source": [
        "### Difference Function"
      ]
    },
    {
      "cell_type": "code",
      "execution_count": 137,
      "metadata": {
        "colab": {
          "base_uri": "https://localhost:8080/",
          "height": 207
        },
        "id": "vWhbd8vb6txw",
        "outputId": "e1af9eb2-c2ba-4807-8a7c-55d866f30da4"
      },
      "outputs": [
        {
          "name": "stdout",
          "output_type": "stream",
          "text": [
            "5002 CCDS Aarav Singh Male 4.02 0\n",
            "3838 EEE Aarti Nair Female 4.05 0\n",
            "1.740710634491516\n",
            "4173 SBS Evelyn Cheung Female 4.48 0\n",
            "615 SPMS Gia Tsai Female 3.89 0\n",
            "1.6540029958406204\n",
            "True\n"
          ]
        }
      ],
      "source": [
        "diff_cgpa = []\n",
        "diff_result = []\n",
        "impact = []\n",
        "\n",
        "def diff(A: Student, B: Student, w_s: float, w_g: float, w_c: float) -> float:\n",
        "    # A and B are in the same team and group\n",
        "    res = 0\n",
        "    # If the school is not the same, then add w_s^2 to the result\n",
        "    if A.school != B.school:\n",
        "        res += w_s * w_s\n",
        "    # If the gender is not the same, then add w_g^2 to the result\n",
        "    d_gender = 0\n",
        "    if A.gender != B.gender:\n",
        "        d_gender = w_g * w_g\n",
        "    elif A.gender == B.gender and A.gender == \"Female\":\n",
        "        d_gender += w_g * w_g / 4\n",
        "\n",
        "    # CGPA Diversity Score\n",
        "    Group: TutorialGroup = students_by_groups[A.group_id]\n",
        "    \n",
        "    d_cgpa = abs(A.cgpa - B.cgpa) / (Group.get_max_cgpa() - Group.get_min_cgpa())\n",
        "    d_avg = 0\n",
        "    # CGPA Mean Score\n",
        "    if A.team_id and A.team_id in Group.students_by_teams:\n",
        "        Team: TeamGroup = Group.students_by_teams[A.team_id]\n",
        "\n",
        "        avg_team = Team.get_avg_cgpa()\n",
        "        avg_group = Group.get_avg_cgpa()\n",
        "        d_avg = abs(avg_team - avg_group) / (Group.get_max_cgpa() - Group.get_min_cgpa())\n",
        "    else:\n",
        "        d_avg = 0\n",
        "\n",
        "    diff = d_cgpa * 0.5 - d_avg * 1.5 + 1.5\n",
        "    diff /= 3 / 2\n",
        "    diff *= w_c\n",
        "    diff_cgpa.append(diff)\n",
        "    res = res + d_gender * d_gender + diff * diff\n",
        "    diff_result.append(math.sqrt(res))\n",
        "    impact.append((diff * diff, res))\n",
        "    return math.sqrt(res)\n",
        "\n",
        "A = students_by_id['5002']\n",
        "B = students_by_id['3838']\n",
        "C = students_by_id['4173']\n",
        "D = students_by_id['615']\n",
        "print(A)\n",
        "print(B)\n",
        "dAB = diff(A, B, 1, 1, 1)\n",
        "print(dAB)\n",
        "print(C)\n",
        "print(D)\n",
        "dCD = diff(C, D, 1, 1, 1)\n",
        "print(dCD)\n",
        "print(dAB > dCD)\n"
      ]
    },
    {
      "cell_type": "markdown",
      "metadata": {
        "id": "q2m4w27_TqUk"
      },
      "source": [
        "# Matching Algorithm"
      ]
    },
    {
      "cell_type": "markdown",
      "metadata": {
        "id": "epM296fCTsAL"
      },
      "source": [
        "## Basic Algorithm\n",
        "\n",
        "The most obvious algorithm we can do here is dividing students into groups in a randomise way. Note that we don't need to pick student randomly each time from the list. Instead, we can shuffle the order of the list then pick students in normal order. That way, it still preserves the random characteristic."
      ]
    },
    {
      "cell_type": "markdown",
      "metadata": {
        "id": "70LcJ3w7T2Jb"
      },
      "source": [
        "- We need to reinitialise `TutorialGroup` class to add functions `assign_group` and `shuffle`"
      ]
    },
    {
      "cell_type": "code",
      "execution_count": 140,
      "metadata": {
        "id": "lR45s7ZmWk_V"
      },
      "outputs": [],
      "source": [
        "class TeamGroup:\n",
        "    def __init__(self, team_id: int, group_id: int):\n",
        "        self.group_id = group_id\n",
        "        self.team_id = team_id\n",
        "        self.students = []\n",
        "\n",
        "    def __str__(self):\n",
        "        return f\"{self.group_id}:\\n{[str(student) for student in self.students]}\"\n",
        "\n",
        "    def add_student(self, student: Student):\n",
        "        self.students.append(student)\n",
        "    def get_avg_cgpa(self):\n",
        "        return sum([student.cgpa for student in self.students]) / len(self.students)\n",
        "    def diversity_score(self):\n",
        "        score = 0\n",
        "        for i in range(len(self.students)):\n",
        "            for j in range(i + 1, len(self.students)):\n",
        "                score += diff(self.students[i], self.students[j], 0.5, 0.5, 1)\n",
        "        return score"
      ]
    },
    {
      "cell_type": "code",
      "execution_count": 133,
      "metadata": {
        "id": "swii79HZBPMP"
      },
      "outputs": [],
      "source": [
        "class TutorialGroup:\n",
        "    def __init__(self, group_id: int):\n",
        "        self.group_id = group_id\n",
        "        self.students_by_teams: Dict[int, TeamGroup] = {}\n",
        "        self.students = []\n",
        "        self.min_cpga = 0\n",
        "        self.max_cpga = 0\n",
        "        self.avg_cpga = 0\n",
        "\n",
        "    def __str__(self):\n",
        "        return f\"{self.group_id}:\\n{[str(student) for student in self.students]}\"\n",
        "\n",
        "    def add_student(self, student: Student):\n",
        "        self.students.append(student)\n",
        "\n",
        "    def get_max_cgpa(self):\n",
        "        if (self.max_cpga != 0):\n",
        "            return self.max_cpga\n",
        "        self.max_cpga = 0\n",
        "        for student in self.students:\n",
        "            if student.cgpa > self.max_cpga:\n",
        "                self.max_cpga = student.cgpa\n",
        "        return self.max_cpga\n",
        "\n",
        "    def get_min_cgpa(self):\n",
        "        if (self.min_cpga != 0):\n",
        "            return self.min_cpga\n",
        "        self.min_cpga = 10\n",
        "        for student in self.students:\n",
        "            if student.cgpa < self.min_cpga:\n",
        "                self.min_cpga = student.cgpa\n",
        "        return self.min_cpga\n",
        "    \n",
        "    def get_avg_cgpa(self):\n",
        "        if (self.avg_cpga != 0):\n",
        "            return self.avg_cpga\n",
        "        self.avg_cpga = sum([student.cgpa for student in self.students]) / len(self.students)\n",
        "        return self.avg_cpga\n",
        "\n",
        "    def shuffle(self):\n",
        "        random.shuffle(self.students)\n",
        "\n",
        "    def assign_group(self, max_pax: int):\n",
        "        self.shuffle()\n",
        "        self.max_cpga = 0\n",
        "        self.min_cpga = 0\n",
        "        self.students_by_teams = {}\n",
        "        for i in range(0, len(self.students), max_pax):\n",
        "            team_id = i // max_pax + 1\n",
        "            self.students_by_teams[team_id] = TeamGroup(team_id, self.group_id)\n",
        "            for j in range(i, i + max_pax):\n",
        "                if j < len(self.students):\n",
        "                    self.students[j].team_id = team_id\n",
        "                    self.students_by_teams[team_id].add_student(self.students[j])\n",
        "                else:\n",
        "                    break"
      ]
    },
    {
      "cell_type": "markdown",
      "metadata": {
        "id": "zxhZPRucUClN"
      },
      "source": [
        "## Re-read data to match new constructions of classes"
      ]
    },
    {
      "cell_type": "code",
      "execution_count": 134,
      "metadata": {
        "id": "r0y2MXPKDy3s"
      },
      "outputs": [],
      "source": [
        "load_csv()"
      ]
    },
    {
      "cell_type": "markdown",
      "metadata": {
        "id": "dPlNYCmsUFbG"
      },
      "source": [
        "## Testing"
      ]
    },
    {
      "cell_type": "code",
      "execution_count": 141,
      "metadata": {
        "colab": {
          "base_uri": "https://localhost:8080/"
        },
        "id": "rFbk8DMRtIUK",
        "outputId": "22725abb-bb57-4bba-b10b-eee4f258bc6a"
      },
      "outputs": [
        {
          "name": "stdout",
          "output_type": "stream",
          "text": [
            "Mean:  11.271419198688093\n",
            "24000\n"
          ]
        },
        {
          "data": {
            "image/png": "[encoded data removed]",
            "text/plain": [
              "<Figure size 1000x600 with 1 Axes>"
            ]
          },
          "metadata": {},
          "output_type": "display_data"
        },
        {
          "data": {
            "image/png": "[encoded data removed]",
            "text/plain": [
              "<Figure size 1000x600 with 1 Axes>"
            ]
          },
          "metadata": {},
          "output_type": "display_data"
        },
        {
          "data": {
            "image/png": "[encoded data removed]",
            "text/plain": [
              "<Figure size 1000x600 with 1 Axes>"
            ]
          },
          "metadata": {},
          "output_type": "display_data"
        }
      ],
      "source": [
        "group1 = students_by_groups['G-1']\n",
        "\n",
        "mean = 0\n",
        "\n",
        "import matplotlib.pyplot as plt\n",
        "\n",
        "diff_cgpa = []\n",
        "diff_result = []\n",
        "impact = []\n",
        "diversity = []\n",
        "team_cnt = 0\n",
        "for group in students_by_groups.values():\n",
        "    group.assign_group(5)        \n",
        "    team_cnt += 50 / 5\n",
        "    for team in group.students_by_teams.values():\n",
        "\n",
        "        diversity.append(team.diversity_score())\n",
        "        mean += team.diversity_score()\n",
        "        \n",
        "\n",
        "print(\"Mean: \", mean / team_cnt)\n",
        "print(len(diff_cgpa))\n",
        "\n",
        "# Plotting the distribution of d_cgpa\n",
        "plt.figure(figsize=(10, 6))\n",
        "plt.hist(diff_cgpa, bins=50, edgecolor='black')\n",
        "plt.title('Distribution of CGPA')\n",
        "plt.xlabel('CGPA')\n",
        "plt.ylabel('Frequency')\n",
        "plt.show()\n",
        "\n",
        "# Plotting the distribution of d_cgpa\n",
        "plt.figure(figsize=(10, 6))\n",
        "plt.hist(diff_result, bins=50, edgecolor='black')\n",
        "plt.title('Distribution of result')\n",
        "plt.xlabel('CGPA')\n",
        "plt.ylabel('Frequency')\n",
        "plt.show()\n",
        "\n",
        "# Plotting the distribution of diversity\n",
        "plt.figure(figsize=(10, 6))\n",
        "plt.hist(diversity, bins=50, edgecolor='black')\n",
        "plt.title('Distribution of Diversity')\n",
        "plt.xlabel('Diversity')\n",
        "plt.ylabel('Frequency')\n",
        "plt.show()\n",
        "\n",
        "\n",
        "\n",
        "\n"
      ]
    },
    {
      "cell_type": "markdown",
      "metadata": {
        "id": "CKg_l_F8UXND"
      },
      "source": [
        "# Todo: Local Search || Tabu Search"
      ]
    }
  ],
  "metadata": {
    "colab": {
      "provenance": []
    },
    "kernelspec": {
      "display_name": ".env",
      "language": "python",
      "name": "python3"
    },
    "language_info": {
      "codemirror_mode": {
        "name": "ipython",
        "version": 3
      },
      "file_extension": ".py",
      "mimetype": "text/x-python",
      "name": "python",
      "nbconvert_exporter": "python",
      "pygments_lexer": "ipython3",
      "version": "3.12.7"
    }
  },
  "nbformat": 4,
  "nbformat_minor": 0
}
