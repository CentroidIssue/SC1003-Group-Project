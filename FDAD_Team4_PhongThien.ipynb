{
 "cells": [
  {
   "cell_type": "markdown",
   "metadata": {
    "id": "nY0KbGZRhEFu"
   },
   "source": [
    "# Read CSV File\n",
    "\n",
    "* Import CSV File using CSV Module\n",
    "\n",
    "* Read CSV File and push data to `students_by_groups` dictionary\n",
    "\n",
    "* `students_by_groups` is a dictionary where its keys are `tutorial_group` columns in the CSV file, while the values are objects of `TutorialGroup` datatype\n",
    "\n",
    "* The TutorialGroup datatype contains an arrays of `Student` object\n",
    "\n",
    "* Each `Student` object has the same parameters as the original data\n",
    "\n",
    "## Example:\n",
    "\n",
    "If a student has the following format:\n",
    "\n",
    "```py\n",
    "{\n",
    "    'tutorial_group': \"G-1\",\n",
    "    'student_id': 5002,\n",
    "    'school': \"CCDS\",\n",
    "    'name': \"Aarav Singh\",\n",
    "    'gender': \"Male\",\n",
    "    'CGPA': 4.02\n",
    "}\n",
    "```\n",
    "\n",
    "Then the `students_by_groups` would look like this:\n",
    "\n",
    "```py\n",
    "students_by_groups = {\n",
    "    'G-1': TutorialGroup(group_id = 1)\n",
    "}\n",
    "\n",
    "students_by_groups['G-1'].students = [\n",
    "    Student(tutorial_group = 'G-1', student_id = 5002, school='CCDS', name='Aarav Singh', gender='Male', CGPA=4.02)\n",
    "]\n",
    "```"
   ]
  },
  {
   "cell_type": "markdown",
   "metadata": {
    "id": "aLNHXpMGSlbT"
   },
   "source": [
    "## Import required dependencies"
   ]
  },
  {
   "cell_type": "code",
   "execution_count": 23,
   "metadata": {
    "id": "imPF9K0JSnBV"
   },
   "outputs": [],
   "source": [
    "import csv  # For reading and writing csv files\n",
    "import math  # For ln function we use later\n",
    "from typing import Dict, List  # For type hints\n",
    "import random  # For random number generation\n",
    "import traceback  # For debugging\n",
    "import matplotlib.pyplot as plt  # For plotting"
   ]
  },
  {
   "cell_type": "markdown",
   "metadata": {
    "id": "DHH8khezSuyI"
   },
   "source": [
    "# We will try to construct OOP Classes for better formatting and nested functions"
   ]
  },
  {
   "cell_type": "markdown",
   "metadata": {
    "id": "_RmX3jEqSvWy"
   },
   "source": [
    "$$\\color{green}{\\Huge{\\textbf{Student class}}}$$"
   ]
  },
  {
   "cell_type": "code",
   "execution_count": 24,
   "metadata": {
    "id": "PdzEw89jVQfA"
   },
   "outputs": [],
   "source": [
    "class Student:\n",
    "\n",
    "    def __init__(\n",
    "        self,\n",
    "        group_id: str,\n",
    "        student_id: int,\n",
    "        school: str,\n",
    "        name: str,\n",
    "        gender: str,\n",
    "        cgpa: float,\n",
    "    ):\n",
    "        self.group_id = group_id\n",
    "        self.team_id = 0  # Not set yet\n",
    "        self.student_id = student_id\n",
    "        self.school = school\n",
    "        self.name = name\n",
    "        self.gender = gender\n",
    "        self.cgpa = cgpa\n",
    "\n",
    "    def assign_team(self, team_id: int):\n",
    "        self.team_id = team_id\n",
    "\n",
    "    def __str__(self):\n",
    "        return f\"{self.student_id}, {self.school}, {self.name}, {self.gender}, {self.cgpa}, {self.team_id}\""
   ]
  },
  {
   "cell_type": "markdown",
   "metadata": {
    "id": "vhneab29VO7y"
   },
   "source": [
    "$$\\color{green}{\\Huge{\\textbf{Tutorial Group Class}}}$$"
   ]
  },
  {
   "cell_type": "code",
   "execution_count": 25,
   "metadata": {
    "id": "gjZwpBMfS0_j"
   },
   "outputs": [],
   "source": [
    "class TutorialGroup:\n",
    "    def __init__(self, group_id: str):\n",
    "        self.group_id = group_id\n",
    "        self.students: list[Student] = []\n",
    "\n",
    "    def __str__(self):\n",
    "        return f\"{self.group_id}:\\n{[str(student) for student in self.students]}\"\n",
    "\n",
    "    def get_avg_cgpa(self):\n",
    "        return sum([student.cgpa for student in self.students]) / len(self.students)\n",
    "\n",
    "    def add_student(self, student: Student):\n",
    "        self.students.append(student)"
   ]
  },
  {
   "cell_type": "markdown",
   "metadata": {
    "id": "F2r97bBTTLFL"
   },
   "source": [
    "$$\\color{green}{\\Huge{\\textbf{Team Group Class}}}$$"
   ]
  },
  {
   "cell_type": "code",
   "execution_count": 26,
   "metadata": {
    "id": "DaAcp68JTTw8"
   },
   "outputs": [],
   "source": [
    "\n",
    "class TeamGroup:\n",
    "    def __init__(self, team_id: int, group_id: int):\n",
    "        self.group_id = group_id\n",
    "        self.team_id = team_id\n",
    "        self.students: list[Student] = []\n",
    "\n",
    "    def __str__(self):\n",
    "        return f\"{self.group_id}:\\n{[str(student) for student in self.students]}\"\n",
    "\n",
    "    def get_avg_cgpa(self):\n",
    "        return sum([student.cgpa for student in self.students]) / len(self.students)\n",
    "    \n",
    "    def add_student(self, student: Student):\n",
    "        self.students.append(student)"
   ]
  },
  {
   "cell_type": "markdown",
   "metadata": {
    "id": "PHxtGtdBS3Ex"
   },
   "source": [
    "## Read and store data"
   ]
  },
  {
   "cell_type": "code",
   "execution_count": 27,
   "metadata": {
    "id": "d8SsHXJtS21S"
   },
   "outputs": [],
   "source": [
    "students_by_groups: Dict[str, TutorialGroup] = {}\n",
    "\n",
    "students_by_id: Dict[str, Student] = {}\n",
    "\n",
    "\n",
    "def load_csv():\n",
    "    global students_by_groups\n",
    "    global students_by_id\n",
    "    students_by_groups = {}\n",
    "    students_by_id = {}\n",
    "    with open(\"records.csv\", mode=\"r\") as file:\n",
    "        # Create a CSV reader\n",
    "        csv_reader = csv.reader(file)\n",
    "        next(csv_reader)\n",
    "\n",
    "        # Append students to corresponding tutorial groups\n",
    "        for row in csv_reader:\n",
    "\n",
    "            tutorial_group = row[0]\n",
    "            student_id = int(row[1])  # Convert to int\n",
    "            school = row[2]\n",
    "            name = row[3]\n",
    "            gender = row[4]\n",
    "            cgpa = float(row[5])  # Convert to float\n",
    "\n",
    "            if tutorial_group not in students_by_groups:\n",
    "                students_by_groups[tutorial_group] = TutorialGroup(tutorial_group)\n",
    "\n",
    "            students_by_id[str(student_id)] = Student(\n",
    "                tutorial_group, student_id, school, name, gender, cgpa\n",
    "            )\n",
    "            students_by_groups[tutorial_group].add_student(\n",
    "                Student(tutorial_group, student_id, school, name, gender, cgpa)\n",
    "            )\n",
    "\n",
    "\n",
    "load_csv()"
   ]
  },
  {
   "cell_type": "markdown",
   "metadata": {
    "id": "q2m4w27_TqUk"
   },
   "source": [
    "# Matching Algorithm"
   ]
  },
  {
   "cell_type": "markdown",
   "metadata": {
    "id": "epM296fCTsAL"
   },
   "source": [
    "## Basic Algorithm\n",
    "\n",
    "The most obvious algorithm we can do here is dividing students into groups in a randomise way. Note that we don't need to pick student randomly each time from the list. Instead, we can shuffle the order of the list then pick students in normal order. That way, it still preserves the random characteristic."
   ]
  },
  {
   "cell_type": "markdown",
   "metadata": {
    "id": "70LcJ3w7T2Jb"
   },
   "source": [
    "- We need to reinitialise `TutorialGroup` class to add functions `assign_group` and `shuffle`"
   ]
  },
  {
   "cell_type": "code",
   "execution_count": 28,
   "metadata": {
    "id": "swii79HZBPMP"
   },
   "outputs": [],
   "source": [
    "class TutorialGroup:\n",
    "    def __init__(self, group_id: int):\n",
    "        self.group_id = group_id\n",
    "        self.students_by_teams: Dict[int, TeamGroup] = {}\n",
    "        self.students = []\n",
    "\n",
    "    def __str__(self):\n",
    "        return f\"{self.group_id}:\\n{[str(student) for student in self.students]}\"\n",
    "    \n",
    "    def add_student(self, student: Student):\n",
    "        self.students.append(student)\n",
    "        \n",
    "    def get_avg_cgpa(self):\n",
    "        return sum([student.cgpa for student in self.students]) / len(self.students)\n",
    "        \n",
    "    def shuffle(self):\n",
    "        random.shuffle(self.students)\n",
    "\n",
    "    def assign_group(self, max_pax: int):\n",
    "        self.shuffle()\n",
    "        for i in range(0, len(self.students), max_pax):\n",
    "            team_id = i // max_pax + 1\n",
    "            self.students_by_teams[team_id] = TeamGroup(team_id, self.group_id)\n",
    "            for j in range(i, i + max_pax):\n",
    "                if j < len(self.students):\n",
    "                    self.students[j].team_id = team_id\n",
    "                    self.students_by_teams[team_id].add_student(self.students[j])\n",
    "                else:\n",
    "                    break"
   ]
  },
  {
   "cell_type": "markdown",
   "metadata": {
    "id": "zxhZPRucUClN"
   },
   "source": [
    "### Re-read data to match new constructions of classes"
   ]
  },
  {
   "cell_type": "code",
   "execution_count": 29,
   "metadata": {
    "id": "r0y2MXPKDy3s"
   },
   "outputs": [],
   "source": [
    "load_csv()"
   ]
  },
  {
   "cell_type": "markdown",
   "metadata": {
    "id": "JQSFJPz-I8C4"
   },
   "source": [
    "### Calculating the difference between each pair of students"
   ]
  },
  {
   "cell_type": "markdown",
   "metadata": {
    "id": "bS-YX6RRLwjp"
   },
   "source": [
    "### Assign teams"
   ]
  },
  {
   "cell_type": "code",
   "execution_count": 30,
   "metadata": {
    "id": "xxRu5aNULyy2"
   },
   "outputs": [],
   "source": [
    "team_sz = int(input())\n",
    "\n",
    "for group_id, tutorial in students_by_groups.items():\n",
    "    tutorial.assign_group(team_sz)"
   ]
  },
  {
   "cell_type": "markdown",
   "metadata": {
    "id": "5ZMk9J7kvoeB"
   },
   "source": [
    "### Evaluation of output"
   ]
  },
  {
   "cell_type": "markdown",
   "metadata": {
    "id": "j87oRAPhv5mn"
   },
   "source": [
    "We will try to understand more on the output by plotting it. There are 3 fields:\n",
    "\n",
    "- The frequency of genders amongst all teams (e.g: Number of teams with 3 males and 2 females)\n",
    "\n",
    "- The frequency of different schools amongst al teams (e.g: Number of teams with 5 students from 5 different schools)\n",
    "\n",
    "- The frequency of the difference between team's average CGPA and group's average CGPA"
   ]
  },
  {
   "cell_type": "markdown",
   "metadata": {
    "id": "kMWqIlodxXWw"
   },
   "source": [
    "#### Frequency gender\n",
    "\n",
    "We define `count` as a dictionary, with its keys are numbers and values are smaller dictionaries\n",
    "\n",
    "The smaller dictionaries have their keys are numbers and values are numbers\n",
    "\n",
    "`count[i][j]` means the count of teams with i males and j females\n",
    "\n",
    "Why we don't use normal array for 2 dimensional array?\n",
    "\n",
    "The reason is that when we use dictionary, we can easily access the data like array. However, it's more efficient because we can save some memory space (e.g: There won't be the case 2 males 2 females for a team group of 5 students, while the array has). After that, we only need to plot all existing data in dictionary.\n",
    "\n",
    "Our return is an array of tuple with first values are titles and second values are corresponding frequencies for plotting. We sort the array to sort the title for better viewing."
   ]
  },
  {
   "cell_type": "code",
   "execution_count": 31,
   "metadata": {
    "id": "ip5wmF8yWK4R"
   },
   "outputs": [],
   "source": [
    "def frequency_gender(group: dict[str, TutorialGroup]):\n",
    "\n",
    "    count = {}\n",
    "    for group_id, tutorial in group.items():\n",
    "        for team_group in tutorial.students_by_teams.values():\n",
    "            male = 0\n",
    "            female = 0\n",
    "            for student in team_group.students:\n",
    "                if student.gender == \"Male\":\n",
    "                    male += 1\n",
    "                elif student.gender == \"Female\":\n",
    "                    female += 1\n",
    "            if male not in count:\n",
    "                count[male] = {}\n",
    "                count[male][female] = 1\n",
    "            else:\n",
    "                if female not in count[male]:\n",
    "                    count[male][female] = 1\n",
    "                else:\n",
    "                    count[male][female] += 1\n",
    "    res = []\n",
    "    for m in count.keys():\n",
    "        for f in count[m].keys():\n",
    "            res.append((f\"{m}M_{f}F\", count[m][f]))\n",
    "    res.sort()\n",
    "    return res"
   ]
  },
  {
   "cell_type": "code",
   "execution_count": 32,
   "metadata": {
    "colab": {
     "base_uri": "https://localhost:8080/",
     "height": 472
    },
    "id": "WSr977TCdExD",
    "outputId": "fdfc6d57-7262-480e-a587-13b8026ec464"
   },
   "outputs": [
    {
     "data": {
      "image/png": "[encoded data removed]",
      "text/plain": [
       "<Figure size 640x480 with 1 Axes>"
      ]
     },
     "metadata": {},
     "output_type": "display_data"
    }
   ],
   "source": [
    "def plot_frequency_gender():\n",
    "    data = frequency_gender(students_by_groups)\n",
    "    x_labels = [value[0] for value in data]\n",
    "    plt.bar(x_labels, [value[1] for value in data], color=\"skyblue\", edgecolor=\"black\")\n",
    "    plt.title(\"Frequency of Gender\")\n",
    "    plt.xlabel(\"Male : Female\")\n",
    "    plt.ylabel(\"Number of teams\")\n",
    "    plt.xticks(ticks=range(len(data)), labels=x_labels)\n",
    "    for i, value in enumerate(data):\n",
    "        plt.text(\n",
    "            i,\n",
    "            value[1],\n",
    "            str(value[1]),\n",
    "            ha=\"center\",\n",
    "            va=\"bottom\",\n",
    "            fontsize=12,\n",
    "            color=\"blue\",\n",
    "        )\n",
    "\n",
    "    plt.show()\n",
    "\n",
    "\n",
    "plot_frequency_gender()"
   ]
  },
  {
   "cell_type": "markdown",
   "metadata": {
    "id": "bwZjiVtQ4mDH"
   },
   "source": [
    "#### Frequency school"
   ]
  },
  {
   "cell_type": "markdown",
   "metadata": {},
   "source": [
    "We will do the same as the frequency of gender: We define `count[i][j]` as the number of teams with `i` students and `j` different schools"
   ]
  },
  {
   "cell_type": "code",
   "execution_count": 33,
   "metadata": {
    "colab": {
     "base_uri": "https://localhost:8080/",
     "height": 489
    },
    "id": "Sbe_D5COZM53",
    "outputId": "97402f2e-46a7-48ae-fdd9-c942b43e6829"
   },
   "outputs": [],
   "source": [
    "def frequency_school(group: dict[str, TutorialGroup]):\n",
    "\n",
    "    count = {}\n",
    "    for group_id, tutorial in group.items():\n",
    "        for team_group in tutorial.students_by_teams.values():\n",
    "            school = []\n",
    "            for student in team_group.students:\n",
    "                if student.school not in school:\n",
    "                    school.append(student.school)\n",
    "            if len(school) not in count:\n",
    "                count[len(school)] = {}\n",
    "                count[len(school)][len(team_group.students)] = 1\n",
    "            else:\n",
    "                if len(team_group.students) not in count[len(school)]:\n",
    "                    count[len(school)][len(team_group.students)] = 1\n",
    "                else:\n",
    "                    count[len(school)][len(team_group.students)] += 1\n",
    "    res = []\n",
    "    for s in count.keys():\n",
    "        for t in count[s].keys():\n",
    "            res.append((f\"{s}/{t}\", count[s][t]))\n",
    "    res.sort()\n",
    "    return res"
   ]
  },
  {
   "cell_type": "code",
   "execution_count": 34,
   "metadata": {},
   "outputs": [
    {
     "data": {
      "image/png": "[encoded data removed]",
      "text/plain": [
       "<Figure size 640x480 with 1 Axes>"
      ]
     },
     "metadata": {},
     "output_type": "display_data"
    }
   ],
   "source": [
    "def plot_frequency_school():\n",
    "    data = frequency_school(students_by_groups)\n",
    "    x_labels = [value[0] for value in data]\n",
    "    plt.bar(x_labels, [value[1] for value in data], color=\"skyblue\", edgecolor=\"black\")\n",
    "    plt.title(\"Frequency of school\")\n",
    "    plt.xlabel(\"School/Student\")\n",
    "    plt.ylabel(\"Number of teams\")\n",
    "    plt.xticks(ticks=range(len(data)), labels=x_labels)\n",
    "    for i, value in enumerate(data):\n",
    "        plt.text(\n",
    "            i,\n",
    "            value[1],\n",
    "            str(value[1]),\n",
    "            ha=\"center\",\n",
    "            va=\"bottom\",\n",
    "            fontsize=12,\n",
    "            color=\"blue\",\n",
    "        )\n",
    "\n",
    "    plt.show()\n",
    "\n",
    "\n",
    "plot_frequency_school()"
   ]
  },
  {
   "cell_type": "markdown",
   "metadata": {},
   "source": [
    "#### Frequency CGPA"
   ]
  },
  {
   "cell_type": "markdown",
   "metadata": {},
   "source": [
    "This plot is slightly different as we plot the difference between the average CGPA of a team and its corresponding tutorial group."
   ]
  },
  {
   "cell_type": "code",
   "execution_count": 35,
   "metadata": {
    "colab": {
     "base_uri": "https://localhost:8080/",
     "height": 350
    },
    "id": "fBSbaLM6bIO_",
    "outputId": "4d4e72cd-26c4-438b-bf7b-83af5288cab5"
   },
   "outputs": [],
   "source": [
    "def frequency_cgpa(group: TutorialGroup):\n",
    "    team_cnt = 0\n",
    "    frequency = []\n",
    "    for group_id, tutorial in group.items():\n",
    "        team_cnt += 10\n",
    "        for team_group in tutorial.students_by_teams.values():\n",
    "            avg_team = team_group.get_avg_cgpa()\n",
    "            avg_group = tutorial.get_avg_cgpa()\n",
    "            frequency.append(abs(avg_team - avg_group))\n",
    "    return frequency"
   ]
  },
  {
   "cell_type": "code",
   "execution_count": 36,
   "metadata": {},
   "outputs": [
    {
     "data": {
      "image/png": "[encoded data removed]",
      "text/plain": [
       "<Figure size 1000x600 with 1 Axes>"
      ]
     },
     "metadata": {},
     "output_type": "display_data"
    }
   ],
   "source": [
    "def plot_frequency_cgpa():\n",
    "\n",
    "    data = frequency_cgpa(students_by_groups)\n",
    "    plt.figure(figsize=(10, 6))\n",
    "    plt.hist(data, bins=50, edgecolor=\"black\")\n",
    "    plt.title(\"Frequency of CGPA\")\n",
    "    plt.xlabel(\"CGPA\")\n",
    "    plt.ylabel(\"Frequency\")\n",
    "    plt.show()\n",
    "\n",
    "\n",
    "plot_frequency_cgpa()"
   ]
  },
  {
   "cell_type": "markdown",
   "metadata": {
    "id": "3o-Zt1S_I8C8"
   },
   "source": [
    "# Local Search"
   ]
  },
  {
   "cell_type": "markdown",
   "metadata": {
    "id": "SLAIRZu34eai"
   },
   "source": [
    "Local search is a heuristical algorithm to solve computationally hard optimisation problems. The term 'local' means that we only focus on finding solutions within limited part of the solution space.\n",
    "\n",
    "We define a neighbour as a solution that is directly reachable from another solution by making a small change, in this case, it's the swap function. We will try to swap one student of a team with another student of a different team.\n",
    "\n",
    "As we have defined earlier the evaluation function, or objective function. We will maximise the output of the function, so whenever we find a better neighbour, we keep the solution and keep finding if the neighbour of that neighbour yields better output.\n",
    "\n",
    "This is a hill climbing method, and what we obtain will be the maximum solution in local solution space."
   ]
  },
  {
   "cell_type": "markdown",
   "metadata": {},
   "source": [
    "# Diversity Score Calculation\n",
    "\n",
    "The diversity score of a group is the sum of diversity score for each pair of student within a group\n",
    "\n",
    "Each student can be characterised by 3 parameters:\n",
    "\n",
    "- School\n",
    "\n",
    "- Gender\n",
    "\n",
    "- CGPA"
   ]
  },
  {
   "cell_type": "markdown",
   "metadata": {},
   "source": [
    "## Formula\n",
    "\n",
    "We can define the diversity score for each pair of students $A$ and $B$ as the distance between $A(school_A, gender_A, cgpa_A)$ and $B(school_B, gender_B, cgpa_B)$:\n",
    "\n",
    "$$\n",
    "d(A, B) = \\sqrt{\\text{diff}(school_A, school_B)^2 + \\text{diff}(gender_A, gender_B)^2 + \\text{diff}(cgpa_A, cgpa_B)^2 }\n",
    "$$"
   ]
  },
  {
   "cell_type": "markdown",
   "metadata": {},
   "source": [
    "### Difference of school\n",
    "\n",
    "The difference of school between 2 students can be fixed into a constant:\n",
    "\n",
    "- If the schools are similar, then the difference is 0\n",
    "\n",
    "- If the schools are different, then the difference is set to a constant $w_s$"
   ]
  },
  {
   "cell_type": "markdown",
   "metadata": {},
   "source": [
    "### Difference of gender\n",
    "\n",
    "The difference of gender between 2 studenst can also be formulated in the same way as the difference of school:\n",
    "\n",
    "- If the genders are similar, then the difference is 0\n",
    "\n",
    "- If the genders are similar, then the difference is set to a constant $w_g$"
   ]
  },
  {
   "cell_type": "markdown",
   "metadata": {},
   "source": [
    "### Different of CGPA\n",
    "\n",
    "In basic case, we can use linear difference and add it to the sum of diverse score:\n",
    "\n",
    "$$ \\text{diff}_{cgpa} = |cgpa_A - cgpa_B| $$\n",
    "\n",
    "However, as the weight of $|cgpa_A - cgpa_{B}|$ is purely based on the difference between 2 values, it may outweigh the scores of genders and school. To standardize, first need to normalise the $\\text{diff}_{CGPA}$ by dividing it to the maximum distance obtainable $max_{CGPA} - min_{CGPA}$ of the whole tutorial group consisting of 50 people.\n",
    "\n",
    "Let $d$ be the output after normalisation:\n",
    "\n",
    "$$d_{cgpa} = \\frac{\\text{diff}_{cgpa}}{max_{cgpa} - min_{cgpa}} = \\frac{|cgpa_A - cgpa_B|}{max_{cgpa} - min_{cgpa}} $$\n",
    "\n",
    "Also, we notice that the whole average CGPA of a team should be as close as the whole group average CGPA as possible. Let $$ \\text{diff}_{avg} = |avg_{team} - avg_{group}| $$\n",
    "\n",
    "And we need to standardise the value as well:\n",
    "\n",
    "$$d_{avg} = \\frac{\\text{diff}_{avg}}{max_{cgpa} - min_{cgpa}} = \\frac{|avg_{team} - avg_{group}|}{max_{cgpa} - min_{cgpa}} $$\n",
    "\n",
    "Notice how we have 2 priorities here:\n",
    "\n",
    "- Maximising $|d_{cgpa}|$\n",
    "\n",
    "- Minimising $|d_{avg}|$\n",
    "\n",
    "We already know that $|d_{cgpa}|$ and $|d_{avg}|$ have ranges within 0 to 1. So we will calculate\n",
    "\n",
    "$$d_{cgpa} - d_{avg} + 1$$\n",
    "\n",
    "We add 1 to ensure that the result ranges from 0 to 2.\n",
    "\n",
    "After plotting for a while, we notice that the $d_{cpga}$ generally has larger value than $d_{avg}$, as the difference between 2 members is obviously always larger than the difference between team CGPA and group CGPA\n",
    "\n",
    "This causes the data has higher chance to be > 1 than < 1, which is the balance.\n",
    "\n",
    "To mitigate, we add the weight 0.5 for $d_{cgpa}$ and 1.5 for $d_{avg}$. We also needs to change adding 1 to 1.5 to ensure the result ranging from 0 to 2\n",
    "\n",
    "Here, the frequency is balance with around 1.5 as the median. We still need to standardise the data so we divide by 3 and multiply by 2 so the distribution has median around 1. The final function is:\n",
    "\n",
    "$$ \\text{diff}_{cgpa} = \\frac{2}{3} (0.5 * d_{cgpa} - 1.5 * d_{avg} + 1.5) $$\n",
    "\n",
    "Where $w_{c}$ is the weight of the CGPA to other parameters"
   ]
  },
  {
   "cell_type": "markdown",
   "metadata": {},
   "source": [
    "\n",
    "### $\\color{red}{\\text{Note}}$\n",
    "\n",
    "One important consideration to mind is the weight of each parameter. For example, since there are only 2 genders <b>Male</b> and <b>Female</b>, the difference between genders of two students should be weighted less (e.g: The other params can be calculated as normal, but this should only be 0 if similar and 0.5 if different)."
   ]
  },
  {
   "cell_type": "markdown",
   "metadata": {},
   "source": [
    "## Calculating the difference between each pair of students"
   ]
  },
  {
   "cell_type": "markdown",
   "metadata": {},
   "source": [
    "- We will first re-write our `TutorialGroup` class to include `get_max_cgpa` and `get_min_cpa` functions\n",
    "\n",
    "- We will also re-write our `Student` class to include `team_id`\n",
    "\n",
    "- Also, we will also create a new class named `TeamGroup` to handle each team for students after being assigned. We will also construct the diversity score function for each TeamGroup using the `diff` function we defined above\n",
    "\n",
    "- The time complexity for a calculation hence is $O(n^2)$, where $n$ is the number of students inside a team"
   ]
  },
  {
   "cell_type": "code",
   "execution_count": 37,
   "metadata": {},
   "outputs": [],
   "source": [
    "class TeamGroup:\n",
    "    def __init__(self, team_id: int, group_id: int):\n",
    "        self.group_id = group_id\n",
    "        self.team_id = team_id\n",
    "        self.students: list[Student] = []\n",
    "\n",
    "    def __str__(self):\n",
    "        return f\"{self.group_id}:\\n{[str(student) for student in self.students]}\"\n",
    "\n",
    "    def add_student(self, student: Student):\n",
    "        self.students.append(student)\n",
    "        \n",
    "    def get_avg_cgpa(self):\n",
    "        return sum([student.cgpa for student in self.students]) / len(self.students)\n",
    "\n",
    "    def diversity_score(self):\n",
    "        score = 0\n",
    "        for i in range(len(self.students)):\n",
    "            for j in range(i + 1, len(self.students)):\n",
    "                # To be defined later\n",
    "                score += diff(self.students[i], self.students[j], 0.7, 0.7, 1)\n",
    "        return score / (len(self.students) * (len(self.students) - 1) / 2) # Normalise by the number of pairs\n"
   ]
  },
  {
   "cell_type": "code",
   "execution_count": 38,
   "metadata": {},
   "outputs": [],
   "source": [
    "class TutorialGroup:\n",
    "    def __init__(self, group_id: int):\n",
    "        self.group_id = group_id\n",
    "        self.students_by_teams: Dict[int, TeamGroup] = {}\n",
    "        self.students = []\n",
    "\n",
    "    def __str__(self):\n",
    "        return f\"{self.group_id}:\\n{[str(student) for student in self.students]}\"\n",
    "\n",
    "    def add_student(self, student: Student):\n",
    "        self.students.append(student)\n",
    "\n",
    "    def get_max_cgpa(self):\n",
    "        return max(student.cgpa for student in self.students)\n",
    "\n",
    "    def get_min_cgpa(self):\n",
    "        return min(student.cgpa for student in self.students)\n",
    "\n",
    "    def get_avg_cgpa(self) -> float:\n",
    "        total_cgpa = sum(student.cgpa for student in self.students)\n",
    "        return total_cgpa / len(self.students)\n",
    "\n",
    "    def shuffle(self):\n",
    "        random.shuffle(self.students)\n",
    "\n",
    "    def assign_group(self, max_pax: int):\n",
    "        self.shuffle()\n",
    "        for i in range(0, len(self.students), max_pax):\n",
    "            team_id = i // max_pax + 1\n",
    "            self.students_by_teams[team_id] = TeamGroup(team_id, self.group_id)\n",
    "            for j in range(i, i + max_pax):\n",
    "                if j < len(self.students):\n",
    "                    self.students[j].team_id = team_id\n",
    "                    self.students_by_teams[team_id].add_student(self.students[j])\n",
    "                else:\n",
    "                    break\n",
    "\n",
    "    def get_group_score(self):\n",
    "        score = 0\n",
    "        for team in self.students_by_teams.values():\n",
    "            score += team.diversity_score()\n",
    "        return score"
   ]
  },
  {
   "cell_type": "markdown",
   "metadata": {
    "id": "rrnd_QZTI8C5"
   },
   "source": [
    "## Difference Function"
   ]
  },
  {
   "cell_type": "code",
   "execution_count": 39,
   "metadata": {
    "id": "AyVDBKiSI8C5"
   },
   "outputs": [],
   "source": [
    "def diff(A: Student, B: Student, w_s: float, w_g: float, w_c: float) -> float:\n",
    "    # A and B are in the same team and group\n",
    "    res = 0\n",
    "    # If the school is not the same, then add w_s^2 to the result\n",
    "    if A.school != B.school:\n",
    "        res += w_s * w_s\n",
    "    # If the gender is not the same, then add w_g^2 to the result\n",
    "    d_gender = 0\n",
    "    if A.gender != B.gender:\n",
    "        d_gender = w_g * w_g\n",
    "\n",
    "    # CGPA Diversity Score\n",
    "    Group: TutorialGroup = students_by_groups[A.group_id]\n",
    "\n",
    "    d_cgpa = abs(A.cgpa - B.cgpa) / (Group.get_max_cgpa() - Group.get_min_cgpa())\n",
    "    d_avg = 0\n",
    "    # CGPA Mean Score\n",
    "    if A.team_id and A.team_id in Group.students_by_teams:\n",
    "        Team: TeamGroup = Group.students_by_teams[A.team_id]\n",
    "\n",
    "        avg_team = Team.get_avg_cgpa()\n",
    "        avg_group = Group.get_avg_cgpa()\n",
    "        d_avg = abs(avg_team - avg_group) / (\n",
    "            Group.get_max_cgpa() - Group.get_min_cgpa()\n",
    "        )\n",
    "    else:\n",
    "        d_avg = 0\n",
    "\n",
    "    diff = d_cgpa * 0.5 - d_avg * 1.5 + 1.5\n",
    "    diff /= 3 / 2\n",
    "    diff *= w_c\n",
    "    res = res + d_gender * d_gender + diff * diff\n",
    "    return math.sqrt(res)"
   ]
  },
  {
   "cell_type": "markdown",
   "metadata": {
    "id": "R-A0-Akq4hyP"
   },
   "source": [
    "# Swap function"
   ]
  },
  {
   "cell_type": "markdown",
   "metadata": {
    "id": "L4eHaeBT4jaz"
   },
   "source": [
    "We first define our swap function for students across teams of the same group with the same TutorialGroup"
   ]
  },
  {
   "cell_type": "code",
   "execution_count": 40,
   "metadata": {
    "id": "y6DOwWA14het"
   },
   "outputs": [],
   "source": [
    "class TutorialGroup:\n",
    "    def __init__(self, group_id: int):\n",
    "        self.group_id = group_id\n",
    "        self.students_by_teams: Dict[int, TeamGroup] = {}\n",
    "        self.students = []\n",
    "\n",
    "    def __str__(self):\n",
    "        return f\"{self.group_id}:\\n{[str(student) for student in self.students]}\"\n",
    "\n",
    "    def add_student(self, student: Student):\n",
    "        self.students.append(student)\n",
    "\n",
    "    def get_max_cgpa(self):\n",
    "        return max(student.cgpa for student in self.students)\n",
    "\n",
    "    def get_min_cgpa(self):\n",
    "        return min(student.cgpa for student in self.students)\n",
    "\n",
    "    def get_avg_cgpa(self) -> float:\n",
    "        total_cgpa = sum(student.cgpa for student in self.students)\n",
    "        return total_cgpa / len(self.students)\n",
    "\n",
    "    def shuffle(self):\n",
    "        random.shuffle(self.students)\n",
    "\n",
    "    def assign_group(self, max_pax: int):\n",
    "        self.shuffle()\n",
    "        for i in range(0, len(self.students), max_pax):\n",
    "            team_id = i // max_pax + 1\n",
    "            self.students_by_teams[team_id] = TeamGroup(team_id, self.group_id)\n",
    "            for j in range(i, i + max_pax):\n",
    "                if j < len(self.students):\n",
    "                    self.students[j].team_id = team_id\n",
    "                    self.students_by_teams[team_id].add_student(self.students[j])\n",
    "                else:\n",
    "                    break\n",
    "\n",
    "    def get_group_score(self):\n",
    "        score = 0\n",
    "        for team in self.students_by_teams.values():\n",
    "            score += team.diversity_score()\n",
    "        return score\n",
    "\n",
    "    def swap(self, A: Student, B: Student):\n",
    "        \"\"\"Swapping student within the same group, but different teams\n",
    "        Args:\n",
    "            A (Student): The student A to be swapped\n",
    "            B (Student): The student B to be swapped\n",
    "        \"\"\"\n",
    "        ref_A = A.team_id\n",
    "        ref_B = B.team_id\n",
    "        A.team_id = ref_B\n",
    "        B.team_id = ref_A\n",
    "        self.students_by_teams[ref_A].students.remove(A)\n",
    "        self.students_by_teams[ref_A].students.append(B)\n",
    "        self.students_by_teams[ref_B].students.remove(B)\n",
    "        self.students_by_teams[ref_B].students.append(A)\n",
    "\n",
    "\n",
    "load_csv()"
   ]
  },
  {
   "cell_type": "markdown",
   "metadata": {
    "id": "ndnMJgqd4ohG"
   },
   "source": [
    "### Local Improve\n",
    "\n",
    "Local improve functions will try to swap 2 students from different teams but in the same group. If the group score is higher, we keep the modification. Otherwise, we revert back to original."
   ]
  },
  {
   "cell_type": "code",
   "execution_count": 41,
   "metadata": {
    "id": "Ksh53V4T4rJD"
   },
   "outputs": [],
   "source": [
    "def local_improve(group: TutorialGroup) -> bool:\n",
    "    \"\"\"Try to swap the target student with other students in the same group\n",
    "    Args:\n",
    "        group (TutorialGroup): The group where the student is in\n",
    "\n",
    "    Returns:\n",
    "        bool: If the group score is improved, return True, otherwise return False\n",
    "    \"\"\"\n",
    "    initial_score = group.get_group_score()\n",
    "\n",
    "    team_ids = list(group.students_by_teams.keys())\n",
    "    \n",
    "    improve = False\n",
    "    for i in range(0, len(team_ids)):\n",
    "        for j in range(i + 1, len(team_ids)):\n",
    "            for student in group.students_by_teams[team_ids[i]].students:\n",
    "                for other_student in group.students_by_teams[team_ids[j]].students:\n",
    "                    group.swap(student, other_student)\n",
    "                    new_score = group.get_group_score()\n",
    "                    if new_score > initial_score:\n",
    "                        initial_score = new_score\n",
    "                        improve = True\n",
    "                        break\n",
    "                    else:\n",
    "                        group.swap(student, other_student)\n",
    "                continue\n",
    "    return improve"
   ]
  },
  {
   "cell_type": "markdown",
   "metadata": {
    "id": "JSydaojA4sja"
   },
   "source": [
    "### Group Improve\n",
    "\n",
    "We will run the code until a specific number of swaps or until it reaches its local optima"
   ]
  },
  {
   "cell_type": "code",
   "execution_count": 42,
   "metadata": {
    "id": "JqK3nIHv4tm_"
   },
   "outputs": [],
   "source": [
    "def group_improve(group: TutorialGroup):\n",
    "    try:\n",
    "        group_score = group.get_group_score()\n",
    "        print(group.group_id, f\"Before: {group_score}\", end=\" \")\n",
    "        no_of_improve = 0\n",
    "        # local_improve(group)\n",
    "        while local_improve(group) and no_of_improve < 1:\n",
    "            no_of_improve += 1\n",
    "            pass\n",
    "        group_score = group.get_group_score()\n",
    "        print(f\"After: {group_score}\")\n",
    "        print(f\"Number of improvement: {no_of_improve}\")\n",
    "    except Exception as e:\n",
    "        print(f\"An error occurred in group {group.group_id}: {e}\")\n",
    "\n",
    "        print(traceback.format_exc())"
   ]
  },
  {
   "cell_type": "markdown",
   "metadata": {
    "id": "gWdesCKi4u_B"
   },
   "source": [
    "### Run the code\n",
    "\n",
    "We can now run the function for every group to check the score improvement. Because all groups are independent (We don't swap students across groups), we can do checking indepdendently for each group."
   ]
  },
  {
   "cell_type": "code",
   "execution_count": 43,
   "metadata": {
    "collapsed": true,
    "id": "rMTKUj8S4wFv"
   },
   "outputs": [
    {
     "name": "stdout",
     "output_type": "stream",
     "text": [
      "G-1 Before: 12.362551390667086 After: 13.26208685757952\n",
      "Number of improvement: 1\n",
      "G-10 Before: 12.78978689946856 After: 13.311228643012054\n",
      "Number of improvement: 1\n",
      "G-100 Before: 12.53841644045396 After: 13.252208266960679\n",
      "Number of improvement: 1\n",
      "G-101 Before: 12.956414614000478 After: 13.392521214850653\n",
      "Number of improvement: 1\n",
      "G-102 Before: 12.420040942734222 After: 13.455352612403813\n",
      "Number of improvement: 1\n",
      "G-103 Before: 12.537763604558936 After: 13.292922044071766\n",
      "Number of improvement: 1\n",
      "G-104 Before: 12.889911109107915 After: 13.503733065375162\n",
      "Number of improvement: 1\n",
      "G-105 Before: 12.593882611678191 After: 13.390519615912819\n",
      "Number of improvement: 1\n",
      "G-106 Before: 12.259633537619612 After: 13.31232162272716\n",
      "Number of improvement: 1\n",
      "G-107 Before: 12.269104195863353 After: 13.704508947862104\n",
      "Number of improvement: 1\n",
      "G-108 Before: 12.573601806600891 After: 13.266252264114781\n",
      "Number of improvement: 1\n",
      "G-109 Before: 12.48287967134021 After: 13.475463248681535\n",
      "Number of improvement: 1\n",
      "G-11 Before: 12.574368879866595 After: 13.457452731408779\n",
      "Number of improvement: 1\n",
      "G-110 Before: 12.705766863424216 After: 13.329134106016559\n",
      "Number of improvement: 1\n",
      "G-111 Before: 12.703853248204414 After: 13.329305796346162\n",
      "Number of improvement: 1\n",
      "G-112 Before: 12.470612593422269 After: 13.218877435018356\n",
      "Number of improvement: 1\n",
      "G-113 Before: 12.64931286391002 After: 13.447369532334802\n",
      "Number of improvement: 1\n",
      "G-114 Before: 12.612693924829754 After: 13.197598330877934\n",
      "Number of improvement: 1\n",
      "G-115 Before: 12.573324020631288 After: 13.466456442757808\n",
      "Number of improvement: 1\n",
      "G-116 Before: 12.681048613248496 After: 13.304049347518852\n",
      "Number of improvement: 1\n",
      "G-117 Before: 12.432337730909431 After: 13.082395792823561\n",
      "Number of improvement: 1\n",
      "G-118 Before: 12.40231686466988 After: 13.332802502473845\n",
      "Number of improvement: 1\n",
      "G-119 Before: 12.525245469809729 After: 13.455150278776937\n",
      "Number of improvement: 1\n",
      "G-12 Before: 12.351243812913768 After: 13.397139759475994\n",
      "Number of improvement: 1\n",
      "G-120 Before: 12.446845213235184 After: 13.285306615327483\n",
      "Number of improvement: 1\n",
      "G-13 Before: 12.665196394495721 After: 13.632067713009807\n",
      "Number of improvement: 1\n",
      "G-14 Before: 12.73855389187019 After: 13.303621192331839\n",
      "Number of improvement: 1\n",
      "G-15 Before: 12.435585842624315 After: 13.424475106498745\n",
      "Number of improvement: 1\n",
      "G-16 Before: 12.41871582970827 After: 13.226784413063948\n",
      "Number of improvement: 1\n",
      "G-17 Before: 12.684007883563993 After: 13.343109706511006\n",
      "Number of improvement: 1\n",
      "G-18 Before: 12.718709852910784 After: 13.639030680132642\n",
      "Number of improvement: 1\n",
      "G-19 Before: 12.366696959327008 After: 13.46126753996108\n",
      "Number of improvement: 1\n",
      "G-2 Before: 12.5189724603682 After: 13.507949604114287\n",
      "Number of improvement: 1\n",
      "G-20 Before: 12.454472316582255 After: 13.211134401448916\n",
      "Number of improvement: 1\n",
      "G-21 Before: 12.846868043729653 After: 13.626227137077205\n",
      "Number of improvement: 1\n",
      "G-22 Before: 12.87888381394658 After: 13.505191132764232\n",
      "Number of improvement: 1\n",
      "G-23 Before: 12.343231609571326 After: 13.18576766387173\n",
      "Number of improvement: 1\n",
      "G-24 Before: 12.933154742345394 After: 13.574851330176244\n",
      "Number of improvement: 1\n",
      "G-25 Before: 12.535588476395953 After: 13.120921846194513\n",
      "Number of improvement: 1\n",
      "G-26 Before: 12.377943682975207 After: 13.454224991145692\n",
      "Number of improvement: 1\n",
      "G-27 Before: 12.351067269166588 After: 13.295318856256975\n",
      "Number of improvement: 1\n",
      "G-28 Before: 12.48430291333598 After: 13.45765722734019\n",
      "Number of improvement: 1\n",
      "G-29 Before: 12.604769943632496 After: 13.25441063625259\n",
      "Number of improvement: 1\n",
      "G-3 Before: 12.352647595510529 After: 13.045011731294913\n",
      "Number of improvement: 1\n",
      "G-30 Before: 12.882409005409542 After: 13.311848572795911\n",
      "Number of improvement: 1\n",
      "G-31 Before: 12.347053265259827 After: 13.160556639204263\n",
      "Number of improvement: 1\n",
      "G-32 Before: 12.2686420510233 After: 13.470510654294541\n",
      "Number of improvement: 1\n",
      "G-33 Before: 12.529012728903453 After: 13.293992483586445\n",
      "Number of improvement: 1\n",
      "G-34 Before: 12.51041795388125 After: 13.6005245016262\n",
      "Number of improvement: 1\n",
      "G-35 Before: 12.671452513320208 After: 13.391653664575532\n",
      "Number of improvement: 1\n",
      "G-36 Before: 12.664976702847358 After: 13.625635990798475\n",
      "Number of improvement: 1\n",
      "G-37 Before: 12.262697493868476 After: 13.118882007420453\n",
      "Number of improvement: 1\n",
      "G-38 Before: 12.541164297620746 After: 13.274281029564078\n",
      "Number of improvement: 1\n",
      "G-39 Before: 12.674857628121401 After: 13.361619957393264\n",
      "Number of improvement: 1\n",
      "G-4 Before: 12.717373098167553 After: 13.483346137081522\n",
      "Number of improvement: 1\n",
      "G-40 Before: 12.453182951209973 After: 13.387512378325564\n",
      "Number of improvement: 1\n",
      "G-41 Before: 12.693959454397952 After: 13.639899283385756\n",
      "Number of improvement: 1\n",
      "G-42 Before: 12.444810400146741 After: 13.370353719450623\n",
      "Number of improvement: 1\n",
      "G-43 Before: 12.77600092849177 After: 13.468581309857575\n",
      "Number of improvement: 1\n",
      "G-44 Before: 12.412665589197855 After: 13.229773458086827\n",
      "Number of improvement: 1\n",
      "G-45 Before: 12.499693682954213 After: 13.348122184532812\n",
      "Number of improvement: 1\n",
      "G-46 Before: 12.538644314072833 After: 13.06587812132866\n",
      "Number of improvement: 1\n",
      "G-47 Before: 12.362579517422008 After: 13.730569944289217\n",
      "Number of improvement: 1\n",
      "G-48 Before: 12.295402029823599 After: 13.14321250193368\n",
      "Number of improvement: 1\n",
      "G-49 Before: 12.537181379437085 After: 13.421115669282822\n",
      "Number of improvement: 1\n",
      "G-5 Before: 12.564149059199588 After: 13.287953274968238\n",
      "Number of improvement: 1\n",
      "G-50 Before: 12.363712685543515 After: 13.106423990411981\n",
      "Number of improvement: 1\n",
      "G-51 Before: 12.574889570008478 After: 13.212306815948784\n",
      "Number of improvement: 1\n",
      "G-52 Before: 12.48055059425426 After: 13.302820226682863\n",
      "Number of improvement: 1\n",
      "G-53 Before: 12.640943550123586 After: 13.421977686474575\n",
      "Number of improvement: 1\n",
      "G-54 Before: 12.472772094206048 After: 13.114080363758436\n",
      "Number of improvement: 1\n",
      "G-55 Before: 12.896320565526006 After: 13.459315623588619\n",
      "Number of improvement: 1\n",
      "G-56 Before: 12.628216231127132 After: 13.498025671307326\n",
      "Number of improvement: 1\n",
      "G-57 Before: 12.339247500284984 After: 13.543133690954763\n",
      "Number of improvement: 1\n",
      "G-58 Before: 12.103378486865209 After: 13.336279330537728\n",
      "Number of improvement: 1\n",
      "G-59 Before: 12.404483842659362 After: 13.134602887752372\n",
      "Number of improvement: 1\n",
      "G-6 Before: 12.562539402661221 After: 13.188438155219739\n",
      "Number of improvement: 1\n",
      "G-60 Before: 12.592891354291917 After: 13.235118951667891\n",
      "Number of improvement: 1\n",
      "G-61 Before: 12.424940490064303 After: 13.528761243959595\n",
      "Number of improvement: 1\n",
      "G-62 Before: 12.69103941848331 After: 13.638704343698748\n",
      "Number of improvement: 1\n",
      "G-63 Before: 12.688903319545995 After: 13.51103095781612\n",
      "Number of improvement: 1\n",
      "G-64 Before: 12.288098550983968 After: 13.478630581233206\n",
      "Number of improvement: 1\n",
      "G-65 Before: 12.32467387807196 After: 13.424825056308567\n",
      "Number of improvement: 1\n",
      "G-66 Before: 12.388805130296587 After: 13.308507847264494\n",
      "Number of improvement: 1\n",
      "G-67 Before: 12.853704464258259 After: 13.574085184565911\n",
      "Number of improvement: 1\n",
      "G-68 Before: 12.48143717496315 After: 13.23695781089679\n",
      "Number of improvement: 1\n",
      "G-69 Before: 12.37637465515173 After: 13.497387223790883\n",
      "Number of improvement: 1\n",
      "G-7 Before: 12.342656895811974 After: 13.358964182872704\n",
      "Number of improvement: 1\n",
      "G-70 Before: 12.361733597863436 After: 13.546987737709946\n",
      "Number of improvement: 1\n",
      "G-71 Before: 12.618385276652225 After: 13.36773486128824\n",
      "Number of improvement: 1\n",
      "G-72 Before: 12.496322294556068 After: 13.422874151405475\n",
      "Number of improvement: 1\n",
      "G-73 Before: 12.942376397184665 After: 13.602422475634794\n",
      "Number of improvement: 1\n",
      "G-74 Before: 12.800264635031331 After: 13.41595582520746\n",
      "Number of improvement: 1\n",
      "G-75 Before: 12.578020640835296 After: 13.34120038652156\n",
      "Number of improvement: 1\n",
      "G-76 Before: 12.345660322969682 After: 13.47854383169128\n",
      "Number of improvement: 1\n",
      "G-77 Before: 12.481515471619975 After: 13.331563111067771\n",
      "Number of improvement: 1\n",
      "G-78 Before: 12.907910382990693 After: 13.533052161607387\n",
      "Number of improvement: 1\n",
      "G-79 Before: 12.830401335602268 After: 13.492156369234097\n",
      "Number of improvement: 1\n",
      "G-8 Before: 12.55161956538536 After: 13.249556968666871\n",
      "Number of improvement: 1\n",
      "G-80 Before: 12.825802044342598 After: 13.349636524299635\n",
      "Number of improvement: 1\n",
      "G-81 Before: 12.66663329170199 After: 13.292569304146149\n",
      "Number of improvement: 1\n",
      "G-82 Before: 12.604066074783265 After: 13.352961308443025\n",
      "Number of improvement: 1\n",
      "G-83 Before: 12.479234596798022 After: 13.547848583374794\n",
      "Number of improvement: 1\n",
      "G-84 Before: 12.394666616606246 After: 13.520234883725728\n",
      "Number of improvement: 1\n",
      "G-85 Before: 12.544914902391682 After: 13.27229406252874\n",
      "Number of improvement: 1\n",
      "G-86 Before: 12.542576125452175 After: 13.266447873998588\n",
      "Number of improvement: 1\n",
      "G-87 Before: 12.571619568880127 After: 13.281115818242125\n",
      "Number of improvement: 1\n",
      "G-88 Before: 12.479959086104468 After: 13.451797540548784\n",
      "Number of improvement: 1\n",
      "G-89 Before: 12.906897619217514 After: 13.381516186396052\n",
      "Number of improvement: 1\n",
      "G-9 Before: 12.596224602189572 After: 13.30522270867466\n",
      "Number of improvement: 1\n",
      "G-90 Before: 12.699740439260356 After: 13.244344366578137\n",
      "Number of improvement: 1\n",
      "G-91 Before: 12.546010179400412 After: 13.39032885464915\n",
      "Number of improvement: 1\n",
      "G-92 Before: 12.858294015152236 After: 13.643382312108946\n",
      "Number of improvement: 1\n",
      "G-93 Before: 12.681417075559143 After: 13.16898240501741\n",
      "Number of improvement: 1\n",
      "G-94 Before: 12.513908111027796 After: 13.254026265781699\n",
      "Number of improvement: 1\n",
      "G-95 Before: 12.771135227189188 After: 13.381563497829344\n",
      "Number of improvement: 1\n",
      "G-96 Before: 12.38030234059717 After: 13.237652889632242\n",
      "Number of improvement: 1\n",
      "G-97 Before: 12.555806752490993 After: 13.645853339818773\n",
      "Number of improvement: 1\n",
      "G-98 Before: 12.655361506677668 After: 13.284613746073855\n",
      "Number of improvement: 1\n",
      "G-99 Before: 12.514967720303618 After: 13.539598599425068\n",
      "Number of improvement: 1\n"
     ]
    }
   ],
   "source": [
    "try:\n",
    "    for group in students_by_groups.values():\n",
    "        group.assign_group(5)\n",
    "        group_improve(group)\n",
    "\n",
    "except Exception as e:\n",
    "    print(traceback.format_exc())\n",
    "\n",
    "# for group in students_by_groups.values():\n",
    "#     print(group.get_avg_cgpa())\n",
    "#     for team in group.students_by_teams.values():\n",
    "#         for student in team.students:\n",
    "#             print(student)"
   ]
  },
  {
   "cell_type": "code",
   "execution_count": 44,
   "metadata": {
    "id": "-OKmgXh2g4Yq"
   },
   "outputs": [
    {
     "data": {
      "image/png": "[encoded data removed]",
      "text/plain": [
       "<Figure size 640x480 with 1 Axes>"
      ]
     },
     "metadata": {},
     "output_type": "display_data"
    }
   ],
   "source": [
    "plot_frequency_gender()"
   ]
  },
  {
   "cell_type": "code",
   "execution_count": 45,
   "metadata": {
    "id": "zHnKz3vOhHJR"
   },
   "outputs": [
    {
     "data": {
      "image/png": "[encoded data removed]",
      "text/plain": [
       "<Figure size 640x480 with 1 Axes>"
      ]
     },
     "metadata": {},
     "output_type": "display_data"
    }
   ],
   "source": [
    "plot_frequency_school()"
   ]
  },
  {
   "cell_type": "code",
   "execution_count": 46,
   "metadata": {},
   "outputs": [
    {
     "data": {
      "image/png": "[encoded data removed]",
      "text/plain": [
       "<Figure size 1000x600 with 1 Axes>"
      ]
     },
     "metadata": {},
     "output_type": "display_data"
    }
   ],
   "source": [
    "plot_frequency_cgpa()"
   ]
  },
  {
   "cell_type": "code",
   "execution_count": 47,
   "metadata": {
    "id": "wVasiYxoFU6F"
   },
   "outputs": [],
   "source": [
    "def get_team_size():\n",
    "    while True:\n",
    "        try:\n",
    "            team_size = int(\n",
    "                input(\"Enter a number of students per team (between 4 and 10): \")\n",
    "            )\n",
    "            if 4 <= team_size <= 10:\n",
    "                return team_size\n",
    "            else:\n",
    "                print(\"Invalid input. Please enter a number between 4 and 10.\")\n",
    "        except ValueError:\n",
    "            print(\"Invalid input. Please enter a number.\")"
   ]
  },
  {
   "cell_type": "markdown",
   "metadata": {},
   "source": [
    "# Extract new csv file"
   ]
  },
  {
   "cell_type": "markdown",
   "metadata": {},
   "source": [
    "Finally, we output our result to a new csv file"
   ]
  },
  {
   "cell_type": "code",
   "execution_count": 48,
   "metadata": {},
   "outputs": [],
   "source": [
    "def output_file():\n",
    "    with open(\"FDAD_Team4_PhongThien.csv\", mode=\"w\", newline=\"\") as file:\n",
    "        writer = csv.writer(file)\n",
    "        writer.writerow(\n",
    "            [\"Tutorial Group\", \"Student ID\", \"School\", \"Name\", \"Gender\", \"CGPA\", \"Team Id\"]\n",
    "        )\n",
    "        for group in students_by_groups.values():\n",
    "            for team in group.students_by_teams.values():\n",
    "                for student in team.students:\n",
    "                    writer.writerow(\n",
    "                        [\n",
    "                            student.group_id,\n",
    "                            student.student_id,\n",
    "                            student.school,\n",
    "                            student.name,\n",
    "                            student.gender,\n",
    "                            student.cgpa,\n",
    "                            student.team_id,\n",
    "                        ]\n",
    "                    )\n",
    "\n",
    "output_file()"
   ]
  }
 ],
 "metadata": {
  "colab": {
   "provenance": []
  },
  "kernelspec": {
   "display_name": ".env",
   "language": "python",
   "name": "python3"
  },
  "language_info": {
   "codemirror_mode": {
    "name": "ipython",
    "version": 3
   },
   "file_extension": ".py",
   "mimetype": "text/x-python",
   "name": "python",
   "nbconvert_exporter": "python",
   "pygments_lexer": "ipython3",
   "version": "3.12.7"
  }
 },
 "nbformat": 4,
 "nbformat_minor": 0
}
