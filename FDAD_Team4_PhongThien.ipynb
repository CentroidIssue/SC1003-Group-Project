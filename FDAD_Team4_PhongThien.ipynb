{
 "cells": [
  {
   "cell_type": "markdown",
   "metadata": {
    "id": "aLNHXpMGSlbT"
   },
   "source": [
    "## Import required dependencies"
   ]
  },
  {
   "cell_type": "code",
   "execution_count": 58,
   "metadata": {
    "id": "imPF9K0JSnBV"
   },
   "outputs": [],
   "source": [
    "import csv  # For reading and writing csv files\n",
    "import math  # For ln function we use later\n",
    "from typing import Dict, List  # For type hints\n",
    "import random  # For random number generation\n",
    "import traceback  # For debugging\n",
    "import matplotlib.pyplot as plt  # For plotting"
   ]
  },
  {
   "cell_type": "markdown",
   "metadata": {
    "id": "DHH8khezSuyI"
   },
   "source": [
    "# We will try to construct OOP Classes for better formatting and nested functions"
   ]
  },
  {
   "cell_type": "markdown",
   "metadata": {
    "id": "_RmX3jEqSvWy"
   },
   "source": [
    "$$\\color{green}{\\Huge{\\textbf{Student class}}}$$"
   ]
  },
  {
   "cell_type": "code",
   "execution_count": 59,
   "metadata": {
    "id": "PdzEw89jVQfA"
   },
   "outputs": [],
   "source": [
    "class Student:\n",
    "\n",
    "    def __init__(\n",
    "        self,\n",
    "        group_id: str,\n",
    "        student_id: int,\n",
    "        school: str,\n",
    "        name: str,\n",
    "        gender: str,\n",
    "        cgpa: float,\n",
    "    ):\n",
    "        self.group_id = group_id\n",
    "        self.team_id = 0  # Not set yet\n",
    "        self.student_id = student_id\n",
    "        self.school = school\n",
    "        self.name = name\n",
    "        self.gender = gender\n",
    "        self.cgpa = cgpa\n",
    "\n",
    "    def assign_team(self, team_id: int):\n",
    "        self.team_id = team_id\n",
    "\n",
    "    def __str__(self):\n",
    "        return f\"{self.student_id}, {self.school}, {self.name}, {self.gender}, {self.cgpa}, {self.team_id}\""
   ]
  },
  {
   "cell_type": "markdown",
   "metadata": {
    "id": "vhneab29VO7y"
   },
   "source": [
    "$$\\color{green}{\\Huge{\\textbf{Tutorial Group Class}}}$$"
   ]
  },
  {
   "cell_type": "code",
   "execution_count": 60,
   "metadata": {
    "id": "gjZwpBMfS0_j"
   },
   "outputs": [],
   "source": [
    "class TutorialGroup:\n",
    "    def __init__(self, group_id: str):\n",
    "        self.group_id = group_id\n",
    "        self.students: list[Student] = []\n",
    "\n",
    "    def __str__(self):\n",
    "        return f\"{self.group_id}:\\n{[str(student) for student in self.students]}\"\n",
    "\n",
    "    def get_avg_cgpa(self):\n",
    "        return sum([student.cgpa for student in self.students]) / len(self.students)\n",
    "\n",
    "    def add_student(self, student: Student):\n",
    "        self.students.append(student)"
   ]
  },
  {
   "cell_type": "markdown",
   "metadata": {
    "id": "F2r97bBTTLFL"
   },
   "source": [
    "$$\\color{green}{\\Huge{\\textbf{Team Group Class}}}$$"
   ]
  },
  {
   "cell_type": "code",
   "execution_count": 61,
   "metadata": {
    "id": "DaAcp68JTTw8"
   },
   "outputs": [],
   "source": [
    "\n",
    "class TeamGroup:\n",
    "    def __init__(self, team_id: int, group_id: int):\n",
    "        self.group_id = group_id\n",
    "        self.team_id = team_id\n",
    "        self.students: list[Student] = []\n",
    "\n",
    "    def __str__(self):\n",
    "        return f\"{self.group_id}:\\n{[str(student) for student in self.students]}\"\n",
    "\n",
    "    def get_avg_cgpa(self):\n",
    "        return sum([student.cgpa for student in self.students]) / len(self.students)\n",
    "    \n",
    "    def add_student(self, student: Student):\n",
    "        self.students.append(student)"
   ]
  },
  {
   "cell_type": "markdown",
   "metadata": {
    "id": "PHxtGtdBS3Ex"
   },
   "source": [
    "# Read CSV File"
   ]
  },
  {
   "cell_type": "markdown",
   "metadata": {
    "id": "nY0KbGZRhEFu"
   },
   "source": [
    "* Import CSV File using CSV Module\n",
    "\n",
    "* Read CSV File and push data to `students_by_groups` dictionary\n",
    "\n",
    "* `students_by_groups` is a dictionary where its keys are `tutorial_group` columns in the CSV file, while the values are objects of `TutorialGroup` datatype\n",
    "\n",
    "* The TutorialGroup datatype contains an arrays of `Student` object\n",
    "\n",
    "* Each `Student` object has the same parameters as the original data\n",
    "\n",
    "## Example:\n",
    "\n",
    "If a student has the following format:\n",
    "\n",
    "```py\n",
    "{\n",
    "    'tutorial_group': \"G-1\",\n",
    "    'student_id': 5002,\n",
    "    'school': \"CCDS\",\n",
    "    'name': \"Aarav Singh\",\n",
    "    'gender': \"Male\",\n",
    "    'CGPA': 4.02\n",
    "}\n",
    "```\n",
    "\n",
    "Then the `students_by_groups` would look like this:\n",
    "\n",
    "```py\n",
    "students_by_groups = {\n",
    "    'G-1': TutorialGroup(group_id = 1)\n",
    "}\n",
    "\n",
    "students_by_groups['G-1'].students = [\n",
    "    Student(tutorial_group = 'G-1', student_id = 5002, school='CCDS', name='Aarav Singh', gender='Male', CGPA=4.02)\n",
    "]\n",
    "```"
   ]
  },
  {
   "cell_type": "code",
   "execution_count": 62,
   "metadata": {
    "id": "d8SsHXJtS21S"
   },
   "outputs": [],
   "source": [
    "students_by_groups: Dict[str, TutorialGroup] = {}\n",
    "\n",
    "students_by_id: Dict[str, Student] = {}\n",
    "\n",
    "\n",
    "def load_csv():\n",
    "    global students_by_groups\n",
    "    global students_by_id\n",
    "    students_by_groups = {}\n",
    "    students_by_id = {}\n",
    "    with open(\"records.csv\", mode=\"r\") as file:\n",
    "        # Create a CSV reader\n",
    "        csv_reader = csv.reader(file)\n",
    "        next(csv_reader)\n",
    "\n",
    "        # Append students to corresponding tutorial groups\n",
    "        for row in csv_reader:\n",
    "\n",
    "            tutorial_group = row[0]\n",
    "            student_id = int(row[1])  # Convert to int\n",
    "            school = row[2]\n",
    "            name = row[3]\n",
    "            gender = row[4]\n",
    "            cgpa = float(row[5])  # Convert to float\n",
    "\n",
    "            if tutorial_group not in students_by_groups:\n",
    "                students_by_groups[tutorial_group] = TutorialGroup(tutorial_group)\n",
    "\n",
    "            students_by_id[str(student_id)] = Student(\n",
    "                tutorial_group, student_id, school, name, gender, cgpa\n",
    "            )\n",
    "            students_by_groups[tutorial_group].add_student(\n",
    "                Student(tutorial_group, student_id, school, name, gender, cgpa)\n",
    "            )\n",
    "\n",
    "\n",
    "load_csv()"
   ]
  },
  {
   "cell_type": "markdown",
   "metadata": {
    "id": "q2m4w27_TqUk"
   },
   "source": [
    "# Matching Algorithm"
   ]
  },
  {
   "cell_type": "markdown",
   "metadata": {
    "id": "epM296fCTsAL"
   },
   "source": [
    "## Basic Algorithm\n",
    "\n",
    "The most obvious algorithm we can do here is dividing students into groups in a randomise way. Note that we don't need to pick student randomly each time from the list. Instead, we can shuffle the order of the list then pick students in normal order. That way, it still preserves the random characteristic."
   ]
  },
  {
   "cell_type": "markdown",
   "metadata": {
    "id": "70LcJ3w7T2Jb"
   },
   "source": [
    "- We need to reinitialise `TutorialGroup` class to add functions `assign_group` and `shuffle`"
   ]
  },
  {
   "cell_type": "code",
   "execution_count": 63,
   "metadata": {
    "id": "swii79HZBPMP"
   },
   "outputs": [],
   "source": [
    "class TutorialGroup:\n",
    "    def __init__(self, group_id: int):\n",
    "        self.group_id = group_id\n",
    "        self.students_by_teams: Dict[int, TeamGroup] = {}\n",
    "        self.students = []\n",
    "\n",
    "    def __str__(self):\n",
    "        return f\"{self.group_id}:\\n{[str(student) for student in self.students]}\"\n",
    "    \n",
    "    def add_student(self, student: Student):\n",
    "        self.students.append(student)\n",
    "        \n",
    "    def get_avg_cgpa(self):\n",
    "        return sum([student.cgpa for student in self.students]) / len(self.students)\n",
    "        \n",
    "    def shuffle(self):\n",
    "        random.shuffle(self.students)\n",
    "\n",
    "    def assign_group(self, max_pax: int):\n",
    "        self.shuffle()\n",
    "        for i in range(0, len(self.students), max_pax):\n",
    "            team_id = i // max_pax + 1\n",
    "            self.students_by_teams[team_id] = TeamGroup(team_id, self.group_id)\n",
    "            for j in range(i, i + max_pax):\n",
    "                if j < len(self.students):\n",
    "                    self.students[j].team_id = team_id\n",
    "                    self.students_by_teams[team_id].add_student(self.students[j])\n",
    "                else:\n",
    "                    break"
   ]
  },
  {
   "cell_type": "markdown",
   "metadata": {
    "id": "zxhZPRucUClN"
   },
   "source": [
    "### Re-read data to match new constructions of classes"
   ]
  },
  {
   "cell_type": "code",
   "execution_count": 64,
   "metadata": {
    "id": "r0y2MXPKDy3s"
   },
   "outputs": [],
   "source": [
    "load_csv()"
   ]
  },
  {
   "cell_type": "markdown",
   "metadata": {
    "id": "JQSFJPz-I8C4"
   },
   "source": [
    "### Calculating the difference between each pair of students"
   ]
  },
  {
   "cell_type": "markdown",
   "metadata": {
    "id": "bS-YX6RRLwjp"
   },
   "source": [
    "### Assign teams"
   ]
  },
  {
   "cell_type": "code",
   "execution_count": 65,
   "metadata": {
    "id": "xxRu5aNULyy2"
   },
   "outputs": [],
   "source": [
    "team_sz = int(input())\n",
    "\n",
    "for group_id, tutorial in students_by_groups.items():\n",
    "    tutorial.assign_group(team_sz)"
   ]
  },
  {
   "cell_type": "markdown",
   "metadata": {
    "id": "5ZMk9J7kvoeB"
   },
   "source": [
    "### Evaluation of output"
   ]
  },
  {
   "cell_type": "markdown",
   "metadata": {
    "id": "j87oRAPhv5mn"
   },
   "source": [
    "We will try to understand more on the output by plotting it. There are 3 fields:\n",
    "\n",
    "- The frequency of genders amongst all teams (e.g: Number of teams with 3 males and 2 females)\n",
    "\n",
    "- The frequency of different schools amongst al teams (e.g: Number of teams with 5 students from 5 different schools)\n",
    "\n",
    "- The frequency of the difference between team's average CGPA and group's average CGPA"
   ]
  },
  {
   "cell_type": "markdown",
   "metadata": {
    "id": "kMWqIlodxXWw"
   },
   "source": [
    "#### Frequency gender\n",
    "\n",
    "We define `count` as a dictionary, with its keys are numbers and values are smaller dictionaries\n",
    "\n",
    "The smaller dictionaries have their keys are numbers and values are numbers\n",
    "\n",
    "`count[i][j]` means the count of teams with i males and j females\n",
    "\n",
    "Why we don't use normal array for 2 dimensional array?\n",
    "\n",
    "The reason is that when we use dictionary, we can easily access the data like array. However, it's more efficient because we can save some memory space (e.g: There won't be the case 2 males 2 females for a team group of 5 students, while the array has). After that, we only need to plot all existing data in dictionary.\n",
    "\n",
    "Our return is an array of tuple with first values are titles and second values are corresponding frequencies for plotting. We sort the array to sort the title for better viewing."
   ]
  },
  {
   "cell_type": "code",
   "execution_count": 66,
   "metadata": {
    "id": "ip5wmF8yWK4R"
   },
   "outputs": [],
   "source": [
    "def frequency_gender(group: dict[str, TutorialGroup]):\n",
    "\n",
    "    count = {}\n",
    "    for group_id, tutorial in group.items():\n",
    "        for team_group in tutorial.students_by_teams.values():\n",
    "            male = 0\n",
    "            female = 0\n",
    "            for student in team_group.students:\n",
    "                if student.gender == \"Male\":\n",
    "                    male += 1\n",
    "                elif student.gender == \"Female\":\n",
    "                    female += 1\n",
    "            if male not in count:\n",
    "                count[male] = {}\n",
    "                count[male][female] = 1\n",
    "            else:\n",
    "                if female not in count[male]:\n",
    "                    count[male][female] = 1\n",
    "                else:\n",
    "                    count[male][female] += 1\n",
    "    res = []\n",
    "    for m in count.keys():\n",
    "        for f in count[m].keys():\n",
    "            res.append((f\"{m}M_{f}F\", count[m][f]))\n",
    "    res.sort()\n",
    "    return res"
   ]
  },
  {
   "cell_type": "code",
   "execution_count": 67,
   "metadata": {
    "colab": {
     "base_uri": "https://localhost:8080/",
     "height": 472
    },
    "id": "WSr977TCdExD",
    "outputId": "fdfc6d57-7262-480e-a587-13b8026ec464"
   },
   "outputs": [
    {
     "data": {
      "image/png": "[encoded data removed]",
      "text/plain": [
       "<Figure size 640x480 with 1 Axes>"
      ]
     },
     "metadata": {},
     "output_type": "display_data"
    }
   ],
   "source": [
    "def plot_frequency_gender():\n",
    "    data = frequency_gender(students_by_groups)\n",
    "    x_labels = [value[0] for value in data]\n",
    "    plt.bar(x_labels, [value[1] for value in data], color=\"skyblue\", edgecolor=\"black\")\n",
    "    plt.title(\"Frequency of Gender\")\n",
    "    plt.xlabel(\"Male : Female\")\n",
    "    plt.ylabel(\"Number of teams\")\n",
    "    plt.xticks(ticks=range(len(data)), labels=x_labels)\n",
    "    for i, value in enumerate(data):\n",
    "        plt.text(\n",
    "            i,\n",
    "            value[1],\n",
    "            str(value[1]),\n",
    "            ha=\"center\",\n",
    "            va=\"bottom\",\n",
    "            fontsize=12,\n",
    "            color=\"blue\",\n",
    "        )\n",
    "\n",
    "    plt.show()\n",
    "\n",
    "\n",
    "plot_frequency_gender()"
   ]
  },
  {
   "cell_type": "markdown",
   "metadata": {
    "id": "bwZjiVtQ4mDH"
   },
   "source": [
    "#### Frequency school"
   ]
  },
  {
   "cell_type": "markdown",
   "metadata": {},
   "source": [
    "We will do the same as the frequency of gender: We define `count[i][j]` as the number of teams with `i` students and `j` different schools"
   ]
  },
  {
   "cell_type": "code",
   "execution_count": 68,
   "metadata": {
    "colab": {
     "base_uri": "https://localhost:8080/",
     "height": 489
    },
    "id": "Sbe_D5COZM53",
    "outputId": "97402f2e-46a7-48ae-fdd9-c942b43e6829"
   },
   "outputs": [],
   "source": [
    "def frequency_school(group: dict[str, TutorialGroup]):\n",
    "\n",
    "    count = {}\n",
    "    for group_id, tutorial in group.items():\n",
    "        for team_group in tutorial.students_by_teams.values():\n",
    "            school = []\n",
    "            for student in team_group.students:\n",
    "                if student.school not in school:\n",
    "                    school.append(student.school)\n",
    "            if len(school) not in count:\n",
    "                count[len(school)] = {}\n",
    "                count[len(school)][len(team_group.students)] = 1\n",
    "            else:\n",
    "                if len(team_group.students) not in count[len(school)]:\n",
    "                    count[len(school)][len(team_group.students)] = 1\n",
    "                else:\n",
    "                    count[len(school)][len(team_group.students)] += 1\n",
    "    res = []\n",
    "    for s in count.keys():\n",
    "        for t in count[s].keys():\n",
    "            res.append((f\"{s}/{t}\", count[s][t]))\n",
    "    res.sort()\n",
    "    return res"
   ]
  },
  {
   "cell_type": "code",
   "execution_count": 69,
   "metadata": {},
   "outputs": [
    {
     "data": {
      "image/png": "[encoded data removed]",
      "text/plain": [
       "<Figure size 640x480 with 1 Axes>"
      ]
     },
     "metadata": {},
     "output_type": "display_data"
    }
   ],
   "source": [
    "def plot_frequency_school():\n",
    "    data = frequency_school(students_by_groups)\n",
    "    x_labels = [value[0] for value in data]\n",
    "    plt.bar(x_labels, [value[1] for value in data], color=\"skyblue\", edgecolor=\"black\")\n",
    "    plt.title(\"Frequency of school\")\n",
    "    plt.xlabel(\"School/Student\")\n",
    "    plt.ylabel(\"Number of teams\")\n",
    "    plt.xticks(ticks=range(len(data)), labels=x_labels)\n",
    "    for i, value in enumerate(data):\n",
    "        plt.text(\n",
    "            i,\n",
    "            value[1],\n",
    "            str(value[1]),\n",
    "            ha=\"center\",\n",
    "            va=\"bottom\",\n",
    "            fontsize=12,\n",
    "            color=\"blue\",\n",
    "        )\n",
    "\n",
    "    plt.show()\n",
    "\n",
    "\n",
    "plot_frequency_school()"
   ]
  },
  {
   "cell_type": "markdown",
   "metadata": {},
   "source": [
    "#### Frequency CGPA"
   ]
  },
  {
   "cell_type": "markdown",
   "metadata": {},
   "source": [
    "This plot is slightly different as we plot the difference between the average CGPA of a team and its corresponding tutorial group."
   ]
  },
  {
   "cell_type": "code",
   "execution_count": 70,
   "metadata": {
    "colab": {
     "base_uri": "https://localhost:8080/",
     "height": 350
    },
    "id": "fBSbaLM6bIO_",
    "outputId": "4d4e72cd-26c4-438b-bf7b-83af5288cab5"
   },
   "outputs": [],
   "source": [
    "def frequency_cgpa(group: TutorialGroup):\n",
    "    team_cnt = 0\n",
    "    frequency = []\n",
    "    for group_id, tutorial in group.items():\n",
    "        team_cnt += 10\n",
    "        for team_group in tutorial.students_by_teams.values():\n",
    "            avg_team = team_group.get_avg_cgpa()\n",
    "            avg_group = tutorial.get_avg_cgpa()\n",
    "            frequency.append(abs(avg_team - avg_group))\n",
    "    return frequency"
   ]
  },
  {
   "cell_type": "code",
   "execution_count": 71,
   "metadata": {},
   "outputs": [
    {
     "data": {
      "image/png": "[encoded data removed]",
      "text/plain": [
       "<Figure size 1000x600 with 1 Axes>"
      ]
     },
     "metadata": {},
     "output_type": "display_data"
    }
   ],
   "source": [
    "def plot_frequency_cgpa():\n",
    "\n",
    "    data = frequency_cgpa(students_by_groups)\n",
    "    plt.figure(figsize=(10, 6))\n",
    "    plt.hist(data, bins=50, edgecolor=\"black\")\n",
    "    plt.title(\"Frequency of CGPA\")\n",
    "    plt.xlabel(\"CGPA\")\n",
    "    plt.ylabel(\"Frequency\")\n",
    "    plt.show()\n",
    "\n",
    "\n",
    "plot_frequency_cgpa()"
   ]
  },
  {
   "cell_type": "markdown",
   "metadata": {
    "id": "3o-Zt1S_I8C8"
   },
   "source": [
    "# Local Search"
   ]
  },
  {
   "cell_type": "markdown",
   "metadata": {
    "id": "SLAIRZu34eai"
   },
   "source": [
    "Local search is a heuristic algorithm to solve computationally hard optimisation problems. The term 'local' means that we only focus on finding solutions within a limited part of the solution space.\n",
    "\n",
    "We define a neighbour as a solution that is directly reachable from another solution by making a small change, in this case, it's the swap function. We will try to swap one student of a team with another student of a different team.\n",
    "\n",
    "We also define our objective function, which we will try to maximise the output of this through changing the neighbour.\n",
    "\n",
    "This is a hill climbing method, and what we obtain will be the maximum solution in local solution space."
   ]
  },
  {
   "cell_type": "markdown",
   "metadata": {},
   "source": [
    "# Diversity Score Calculation\n",
    "\n",
    "The diversity score of a group is the sum of diversity scores for each pair of students within a group\n",
    "\n",
    "Each student can be characterised by 3 parameters:\n",
    "\n",
    "- School\n",
    "\n",
    "- Gender\n",
    "\n",
    "- CGPA"
   ]
  },
  {
   "cell_type": "markdown",
   "metadata": {},
   "source": [
    "## Formula\n",
    "\n",
    "We can define the diversity score for each pair of students $A$ and $B$ as the distance between $A(school_A, gender_A, cgpa_A)$ and $B(school_B, gender_B, cgpa_B)$:\n",
    "\n",
    "$$\n",
    "d(A, B) = \\sqrt{\\text{diff}(school_A, school_B)^2 + \\text{diff}(gender_A, gender_B)^2 + \\text{diff}(cgpa_A, cgpa_B)^2 }\n",
    "$$"
   ]
  },
  {
   "cell_type": "markdown",
   "metadata": {},
   "source": [
    "### Difference of school\n",
    "\n",
    "The difference of school between 2 students can be fixed into a constant:\n",
    "\n",
    "- If the schools are similar, then the difference is 0\n",
    "\n",
    "- If the schools are different, then the difference is set to a constant $w_s$"
   ]
  },
  {
   "cell_type": "markdown",
   "metadata": {},
   "source": [
    "### Difference of gender\n",
    "\n",
    "The difference of gender between 2 studenst can also be formulated in the same way as the difference of school:\n",
    "\n",
    "- If the genders are similar, then the difference is 0\n",
    "\n",
    "- If the genders are similar, then the difference is set to a constant $w_g$"
   ]
  },
  {
   "cell_type": "markdown",
   "metadata": {},
   "source": [
    "### Different of CGPA\n",
    "\n",
    "In basic case, we can use linear difference and add it to the sum of diverse score:\n",
    "\n",
    "$$ \\text{diff}_{cgpa} = |cgpa_A - cgpa_B| $$\n",
    "\n",
    "However, as the weight of $|cgpa_A - cgpa_{B}|$ is purely based on the difference between 2 values, it may outweigh the scores of genders and school. To standardize, first need to normalise the $\\text{diff}_{CGPA}$ by dividing it to the maximum distance obtainable $max_{CGPA} - min_{CGPA}$ of the whole tutorial group consisting of 50 people.\n",
    "\n",
    "Let $d$ be the output after normalisation:\n",
    "\n",
    "$$d_{cgpa} = \\frac{\\text{diff}_{cgpa}}{max_{cgpa} - min_{cgpa}} = \\frac{|cgpa_A - cgpa_B|}{max_{cgpa} - min_{cgpa}} $$\n",
    "\n",
    "Also, we notice that the whole average CGPA of a team should be as close as the whole group average CGPA as possible. Let $$ \\text{diff}_{avg} = |avg_{team} - avg_{group}| $$\n",
    "\n",
    "And we need to standardise the value as well:\n",
    "\n",
    "$$d_{avg} = \\frac{\\text{diff}_{avg}}{max_{cgpa} - min_{cgpa}} = \\frac{|avg_{team} - avg_{group}|}{max_{cgpa} - min_{cgpa}} $$\n",
    "\n",
    "Notice how we have 2 priorities here:\n",
    "\n",
    "- Maximising $|d_{cgpa}|$\n",
    "\n",
    "- Minimising $|d_{avg}|$\n",
    "\n",
    "We already know that $|d_{cgpa}|$ and $|d_{avg}|$ have ranges within 0 to 1. So we will calculate\n",
    "\n",
    "$$d_{cgpa} - d_{avg} + 1$$\n",
    "\n",
    "We add 1 to ensure that the result ranges from 0 to 2.\n",
    "\n",
    "After plotting for a while, we notice that the $d_{cpga}$ generally has larger value than $d_{avg}$, as the difference between 2 members is obviously always larger than the difference between team CGPA and group CGPA\n",
    "\n",
    "This causes the data has higher chance to be > 1 than < 1, which is the balance.\n",
    "\n",
    "To mitigate, we add the weight 0.5 for $d_{cgpa}$ and 1.5 for $d_{avg}$. We also needs to change adding 1 to 1.5 to ensure the result ranging from 0 to 2\n",
    "\n",
    "Here, the frequency is balance with around 1.5 as the median. We still need to standardise the data so we divide by 3 and multiply by 2 so the distribution has median around 1. The final function is:\n",
    "\n",
    "$$ \\text{diff}_{cgpa} = \\frac{2}{3} (0.5 * d_{cgpa} - 1.5 * d_{avg} + 1.5) $$\n",
    "\n",
    "Where $w_{c}$ is the weight of the CGPA to other parameters"
   ]
  },
  {
   "cell_type": "markdown",
   "metadata": {},
   "source": [
    "\n",
    "### $\\color{red}{\\text{Note}}$\n",
    "\n",
    "One important consideration to mind is the weight of each parameter. For example, since there are only 2 genders <b>Male</b> and <b>Female</b>, the difference between genders of two students should be weighted less (e.g: The other params can be calculated as normal, but this should only be 0 if similar and 0.5 if different)."
   ]
  },
  {
   "cell_type": "markdown",
   "metadata": {},
   "source": [
    "## Calculating the difference between each pair of students"
   ]
  },
  {
   "cell_type": "markdown",
   "metadata": {},
   "source": [
    "- We will first re-write our `TutorialGroup` class to include `get_max_cgpa` and `get_min_cpa` functions\n",
    "\n",
    "- We will also re-write our `Student` class to include `team_id`\n",
    "\n",
    "- Also, we will also create a new class named `TeamGroup` to handle each team for students after being assigned. We will also construct the diversity score function for each TeamGroup using the `diff` function we defined above\n",
    "\n",
    "- The time complexity for a calculation hence is $O(n^2)$, where $n$ is the number of students inside a team"
   ]
  },
  {
   "cell_type": "code",
   "execution_count": 72,
   "metadata": {},
   "outputs": [],
   "source": [
    "class TeamGroup:\n",
    "    def __init__(self, team_id: int, group_id: int):\n",
    "        self.group_id = group_id\n",
    "        self.team_id = team_id\n",
    "        self.students: list[Student] = []\n",
    "\n",
    "    def __str__(self):\n",
    "        return f\"{self.group_id}:\\n{[str(student) for student in self.students]}\"\n",
    "\n",
    "    def add_student(self, student: Student):\n",
    "        self.students.append(student)\n",
    "        \n",
    "    def get_avg_cgpa(self):\n",
    "        return sum([student.cgpa for student in self.students]) / len(self.students)\n",
    "\n",
    "    def diversity_score(self):\n",
    "        score = 0\n",
    "        for i in range(len(self.students)):\n",
    "            for j in range(i + 1, len(self.students)):\n",
    "                # To be defined later\n",
    "                score += diff(self.students[i], self.students[j], 0.7, 0.7, 1)\n",
    "        return score / (len(self.students) * (len(self.students) - 1) / 2) # Normalise by the number of pairs\n"
   ]
  },
  {
   "cell_type": "code",
   "execution_count": 73,
   "metadata": {},
   "outputs": [],
   "source": [
    "class TutorialGroup:\n",
    "    def __init__(self, group_id: int):\n",
    "        self.group_id = group_id\n",
    "        self.students_by_teams: Dict[int, TeamGroup] = {}\n",
    "        self.students = []\n",
    "\n",
    "    def __str__(self):\n",
    "        return f\"{self.group_id}:\\n{[str(student) for student in self.students]}\"\n",
    "\n",
    "    def add_student(self, student: Student):\n",
    "        self.students.append(student)\n",
    "\n",
    "    def get_max_cgpa(self):\n",
    "        return max(student.cgpa for student in self.students)\n",
    "\n",
    "    def get_min_cgpa(self):\n",
    "        return min(student.cgpa for student in self.students)\n",
    "\n",
    "    def get_avg_cgpa(self) -> float:\n",
    "        total_cgpa = sum(student.cgpa for student in self.students)\n",
    "        return total_cgpa / len(self.students)\n",
    "\n",
    "    def shuffle(self):\n",
    "        random.shuffle(self.students)\n",
    "\n",
    "    def assign_group(self, max_pax: int):\n",
    "        self.shuffle()\n",
    "        for i in range(0, len(self.students), max_pax):\n",
    "            team_id = i // max_pax + 1\n",
    "            self.students_by_teams[team_id] = TeamGroup(team_id, self.group_id)\n",
    "            for j in range(i, i + max_pax):\n",
    "                if j < len(self.students):\n",
    "                    self.students[j].team_id = team_id\n",
    "                    self.students_by_teams[team_id].add_student(self.students[j])\n",
    "                else:\n",
    "                    break\n",
    "\n",
    "    def get_group_score(self):\n",
    "        score = 0\n",
    "        for team in self.students_by_teams.values():\n",
    "            score += team.diversity_score()\n",
    "        return score"
   ]
  },
  {
   "cell_type": "markdown",
   "metadata": {
    "id": "rrnd_QZTI8C5"
   },
   "source": [
    "## Difference Function"
   ]
  },
  {
   "cell_type": "code",
   "execution_count": 74,
   "metadata": {
    "id": "AyVDBKiSI8C5"
   },
   "outputs": [],
   "source": [
    "def diff(A: Student, B: Student, w_s: float, w_g: float, w_c: float) -> float:\n",
    "    # A and B are in the same team and group\n",
    "    res = 0\n",
    "    # If the school is not the same, then add w_s^2 to the result\n",
    "    if A.school != B.school:\n",
    "        res += w_s * w_s\n",
    "    # If the gender is not the same, then add w_g^2 to the result\n",
    "    d_gender = 0\n",
    "    if A.gender != B.gender:\n",
    "        d_gender = w_g * w_g\n",
    "\n",
    "    # CGPA Diversity Score\n",
    "    Group: TutorialGroup = students_by_groups[A.group_id]\n",
    "\n",
    "    d_cgpa = abs(A.cgpa - B.cgpa) / (Group.get_max_cgpa() - Group.get_min_cgpa())\n",
    "    d_avg = 0\n",
    "    # CGPA Mean Score\n",
    "    if A.team_id and A.team_id in Group.students_by_teams:\n",
    "        Team: TeamGroup = Group.students_by_teams[A.team_id]\n",
    "\n",
    "        avg_team = Team.get_avg_cgpa()\n",
    "        avg_group = Group.get_avg_cgpa()\n",
    "        d_avg = abs(avg_team - avg_group) / (\n",
    "            Group.get_max_cgpa() - Group.get_min_cgpa()\n",
    "        )\n",
    "    else:\n",
    "        d_avg = 0\n",
    "\n",
    "    diff = d_cgpa * 0.5 - d_avg * 1.5 + 1.5\n",
    "    diff /= 3 / 2\n",
    "    diff *= w_c\n",
    "    res = res + d_gender * d_gender + diff * diff\n",
    "    return math.sqrt(res)"
   ]
  },
  {
   "cell_type": "markdown",
   "metadata": {
    "id": "R-A0-Akq4hyP"
   },
   "source": [
    "# Swap function"
   ]
  },
  {
   "cell_type": "markdown",
   "metadata": {
    "id": "L4eHaeBT4jaz"
   },
   "source": [
    "We first define our swap function for students across teams of the same group with the same TutorialGroup"
   ]
  },
  {
   "cell_type": "code",
   "execution_count": 75,
   "metadata": {
    "id": "y6DOwWA14het"
   },
   "outputs": [],
   "source": [
    "class TutorialGroup:\n",
    "    def __init__(self, group_id: int):\n",
    "        self.group_id = group_id\n",
    "        self.students_by_teams: Dict[int, TeamGroup] = {}\n",
    "        self.students = []\n",
    "\n",
    "    def __str__(self):\n",
    "        return f\"{self.group_id}:\\n{[str(student) for student in self.students]}\"\n",
    "\n",
    "    def add_student(self, student: Student):\n",
    "        self.students.append(student)\n",
    "\n",
    "    def get_max_cgpa(self):\n",
    "        return max(student.cgpa for student in self.students)\n",
    "\n",
    "    def get_min_cgpa(self):\n",
    "        return min(student.cgpa for student in self.students)\n",
    "\n",
    "    def get_avg_cgpa(self) -> float:\n",
    "        total_cgpa = sum(student.cgpa for student in self.students)\n",
    "        return total_cgpa / len(self.students)\n",
    "\n",
    "    def shuffle(self):\n",
    "        random.shuffle(self.students)\n",
    "\n",
    "    def assign_group(self, max_pax: int):\n",
    "        self.shuffle()\n",
    "        for i in range(0, len(self.students), max_pax):\n",
    "            team_id = i // max_pax + 1\n",
    "            self.students_by_teams[team_id] = TeamGroup(team_id, self.group_id)\n",
    "            for j in range(i, i + max_pax):\n",
    "                if j < len(self.students):\n",
    "                    self.students[j].team_id = team_id\n",
    "                    self.students_by_teams[team_id].add_student(self.students[j])\n",
    "                else:\n",
    "                    break\n",
    "\n",
    "    def get_group_score(self):\n",
    "        score = 0\n",
    "        for team in self.students_by_teams.values():\n",
    "            score += team.diversity_score()\n",
    "        return score\n",
    "\n",
    "    def swap(self, A: Student, B: Student):\n",
    "        \"\"\"Swapping student within the same group, but different teams\n",
    "        Args:\n",
    "            A (Student): The student A to be swapped\n",
    "            B (Student): The student B to be swapped\n",
    "        \"\"\"\n",
    "        ref_A = A.team_id\n",
    "        ref_B = B.team_id\n",
    "        A.team_id = ref_B\n",
    "        B.team_id = ref_A\n",
    "        self.students_by_teams[ref_A].students.remove(A)\n",
    "        self.students_by_teams[ref_A].students.append(B)\n",
    "        self.students_by_teams[ref_B].students.remove(B)\n",
    "        self.students_by_teams[ref_B].students.append(A)\n",
    "\n",
    "\n",
    "load_csv()"
   ]
  },
  {
   "cell_type": "markdown",
   "metadata": {
    "id": "ndnMJgqd4ohG"
   },
   "source": [
    "### Local Improve\n",
    "\n",
    "Local improve functions will try to swap 2 students from different teams but in the same group. If the group score is higher, we keep the modification. Otherwise, we revert back to original."
   ]
  },
  {
   "cell_type": "code",
   "execution_count": 76,
   "metadata": {
    "id": "Ksh53V4T4rJD"
   },
   "outputs": [],
   "source": [
    "def local_improve(group: TutorialGroup) -> bool:\n",
    "    \"\"\"Try to swap the target student with other students in the same group\n",
    "    Args:\n",
    "        group (TutorialGroup): The group where the student is in\n",
    "\n",
    "    Returns:\n",
    "        bool: If the group score is improved, return True, otherwise return False\n",
    "    \"\"\"\n",
    "    initial_score = group.get_group_score()\n",
    "\n",
    "    team_ids = list(group.students_by_teams.keys())\n",
    "    \n",
    "    improve = False\n",
    "    for i in range(0, len(team_ids)):\n",
    "        for j in range(i + 1, len(team_ids)):\n",
    "            for student in group.students_by_teams[team_ids[i]].students:\n",
    "                for other_student in group.students_by_teams[team_ids[j]].students:\n",
    "                    group.swap(student, other_student)\n",
    "                    new_score = group.get_group_score()\n",
    "                    if new_score > initial_score:\n",
    "                        initial_score = new_score\n",
    "                        improve = True\n",
    "                        break\n",
    "                    else:\n",
    "                        group.swap(student, other_student)\n",
    "                continue\n",
    "    return improve"
   ]
  },
  {
   "cell_type": "markdown",
   "metadata": {
    "id": "JSydaojA4sja"
   },
   "source": [
    "### Group Improve\n",
    "\n",
    "We will run the code until a specific number of swaps or until it reaches its local optima"
   ]
  },
  {
   "cell_type": "code",
   "execution_count": 77,
   "metadata": {
    "id": "JqK3nIHv4tm_"
   },
   "outputs": [],
   "source": [
    "def group_improve(group: TutorialGroup):\n",
    "    try:\n",
    "        group_score = group.get_group_score()\n",
    "        print(group.group_id, f\"Before: {group_score}\", end=\" \")\n",
    "        no_of_improve = 0\n",
    "        # local_improve(group)\n",
    "        while local_improve(group) and no_of_improve < 1:\n",
    "            no_of_improve += 1\n",
    "            pass\n",
    "        group_score = group.get_group_score()\n",
    "        print(f\"After: {group_score}\")\n",
    "        print(f\"Number of improvement: {no_of_improve}\")\n",
    "    except Exception as e:\n",
    "        print(f\"An error occurred in group {group.group_id}: {e}\")\n",
    "\n",
    "        print(traceback.format_exc())"
   ]
  },
  {
   "cell_type": "markdown",
   "metadata": {
    "id": "gWdesCKi4u_B"
   },
   "source": [
    "### Run the code\n",
    "\n",
    "We can now run the function for every group to check the score improvement. Because all groups are independent (We don't swap students across groups), we can do checking indepdendently for each group."
   ]
  },
  {
   "cell_type": "code",
   "execution_count": 78,
   "metadata": {
    "collapsed": true,
    "id": "rMTKUj8S4wFv"
   },
   "outputs": [
    {
     "name": "stdout",
     "output_type": "stream",
     "text": [
      "G-1 Before: 8.491541600875498 After: 9.325117164878742\n",
      "Number of improvement: 1\n",
      "G-10 Before: 8.888230855964107 After: 9.294530001018655\n",
      "Number of improvement: 1\n",
      "G-100 Before: 8.96774152810206 After: 9.30484613356157\n",
      "Number of improvement: 1\n",
      "G-101 Before: 8.599448841157276 After: 9.380267906350074\n",
      "Number of improvement: 1\n",
      "G-102 Before: 8.698413286536677 After: 9.541519198213573\n",
      "Number of improvement: 1\n",
      "G-103 Before: 8.919596270356568 After: 9.29072422743948\n",
      "Number of improvement: 1\n",
      "G-104 Before: 9.04453095757643 After: 9.501543509974113\n",
      "Number of improvement: 1\n",
      "G-105 Before: 8.915528844351021 After: 9.448824797687337\n",
      "Number of improvement: 1\n",
      "G-106 Before: 8.276445044333359 After: 9.332239856191105\n",
      "Number of improvement: 1\n",
      "G-107 Before: 8.713931713050702 After: 9.553156011889325\n",
      "Number of improvement: 1\n",
      "G-108 Before: 8.902676336625941 After: 9.279461704100818\n",
      "Number of improvement: 1\n",
      "G-109 Before: 8.699283642311476 After: 9.392577446565985\n",
      "Number of improvement: 1\n",
      "G-11 Before: 8.748517516332546 After: 9.409778077809921\n",
      "Number of improvement: 1\n",
      "G-110 Before: 8.893534151483744 After: 9.395885391726068\n",
      "Number of improvement: 1\n",
      "G-111 Before: 8.701002233541589 After: 9.317775845038213\n",
      "Number of improvement: 1\n",
      "G-112 Before: 8.88486856530028 After: 9.299025351254079\n",
      "Number of improvement: 1\n",
      "G-113 Before: 8.594549280808417 After: 9.381897444116111\n",
      "Number of improvement: 1\n",
      "G-114 Before: 8.944028290161402 After: 9.224753965706594\n",
      "Number of improvement: 1\n",
      "G-115 Before: 8.964832873494203 After: 9.444523493309465\n",
      "Number of improvement: 1\n",
      "G-116 Before: 8.917648926500657 After: 9.287512902002879\n",
      "Number of improvement: 1\n",
      "G-117 Before: 8.698333915940559 After: 9.141961796216876\n",
      "Number of improvement: 1\n",
      "G-118 Before: 8.983645909236927 After: 9.311245460167928\n",
      "Number of improvement: 1\n",
      "G-119 Before: 8.865148110478229 After: 9.342058910600741\n",
      "Number of improvement: 1\n",
      "G-12 Before: 9.032384890334233 After: 9.398630554307871\n",
      "Number of improvement: 1\n",
      "G-120 Before: 8.646416317367656 After: 9.255952595337513\n",
      "Number of improvement: 1\n",
      "G-13 Before: 8.682206961994527 After: 9.559583257834623\n",
      "Number of improvement: 1\n",
      "G-14 Before: 8.764282905585825 After: 9.297298010271954\n",
      "Number of improvement: 1\n",
      "G-15 Before: 8.974762620782746 After: 9.534084140337235\n",
      "Number of improvement: 1\n",
      "G-16 Before: 8.901014485523534 After: 9.321059155761345\n",
      "Number of improvement: 1\n",
      "G-17 Before: 8.825022208111347 After: 9.317635895234496\n",
      "Number of improvement: 1\n",
      "G-18 Before: 8.513518160743669 After: 9.516962348086608\n",
      "Number of improvement: 1\n",
      "G-19 Before: 8.742464860107019 After: 9.379422134014364\n",
      "Number of improvement: 1\n",
      "G-2 Before: 8.926034269659354 After: 9.492501483813536\n",
      "Number of improvement: 1\n",
      "G-20 Before: 8.691795232579027 After: 9.249228911437376\n",
      "Number of improvement: 1\n",
      "G-21 Before: 8.61443123581377 After: 9.602550867283671\n",
      "Number of improvement: 1\n",
      "G-22 Before: 8.723313439728924 After: 9.480557431813622\n",
      "Number of improvement: 1\n",
      "G-23 Before: 8.54483375734526 After: 9.211853067730132\n",
      "Number of improvement: 1\n",
      "G-24 Before: 8.725328770974553 After: 9.447931248969152\n",
      "Number of improvement: 1\n",
      "G-25 Before: 8.755138842562324 After: 9.16871981069821\n",
      "Number of improvement: 1\n",
      "G-26 Before: 8.925808238043148 After: 9.446591773619936\n",
      "Number of improvement: 1\n",
      "G-27 Before: 8.962244353443419 After: 9.27705394678136\n",
      "Number of improvement: 1\n",
      "G-28 Before: 8.915626062850773 After: 9.495907231820945\n",
      "Number of improvement: 1\n",
      "G-29 Before: 8.781875096957211 After: 9.22492048002824\n",
      "Number of improvement: 1\n",
      "G-3 Before: 8.829491063152158 After: 9.139955341454787\n",
      "Number of improvement: 1\n",
      "G-30 Before: 8.880044820510571 After: 9.325479167468284\n",
      "Number of improvement: 1\n",
      "G-31 Before: 8.791885795904655 After: 9.19532184247312\n",
      "Number of improvement: 1\n",
      "G-32 Before: 8.887593433342719 After: 9.452191101662624\n",
      "Number of improvement: 1\n",
      "G-33 Before: 8.761442407224983 After: 9.328936214367848\n",
      "Number of improvement: 1\n",
      "G-34 Before: 8.87113224471725 After: 9.416615626168511\n",
      "Number of improvement: 1\n",
      "G-35 Before: 8.895164601141031 After: 9.29672767902721\n",
      "Number of improvement: 1\n",
      "G-36 Before: 9.105597466628932 After: 9.564523555309878\n",
      "Number of improvement: 1\n",
      "G-37 Before: 8.807790164911731 After: 9.1636846449585\n",
      "Number of improvement: 1\n",
      "G-38 Before: 8.402802524274032 After: 9.292553520319697\n",
      "Number of improvement: 1\n",
      "G-39 Before: 8.805467548912478 After: 9.302118190456877\n",
      "Number of improvement: 1\n",
      "G-4 Before: 8.979727299106136 After: 9.44036250386211\n",
      "Number of improvement: 1\n",
      "G-40 Before: 8.756548471212493 After: 9.372542590141299\n",
      "Number of improvement: 1\n",
      "G-41 Before: 8.718540393194301 After: 9.572303355658693\n",
      "Number of improvement: 1\n",
      "G-42 Before: 8.851826869230226 After: 9.392866238702563\n",
      "Number of improvement: 1\n",
      "G-43 Before: 8.997383862794583 After: 9.434507452288383\n",
      "Number of improvement: 1\n",
      "G-44 Before: 8.867543492908704 After: 9.287554174855515\n",
      "Number of improvement: 1\n",
      "G-45 Before: 8.916907524974025 After: 9.337182025389032\n",
      "Number of improvement: 1\n",
      "G-46 Before: 8.827723786898202 After: 9.234500428575375\n",
      "Number of improvement: 1\n",
      "G-47 Before: 9.039689473506842 After: 9.648699376670514\n",
      "Number of improvement: 1\n",
      "G-48 Before: 8.834748043594109 After: 9.147012720224168\n",
      "Number of improvement: 1\n",
      "G-49 Before: 8.757222111136574 After: 9.28103480228517\n",
      "Number of improvement: 1\n",
      "G-5 Before: 8.891835168572962 After: 9.354905857474133\n",
      "Number of improvement: 1\n",
      "G-50 Before: 8.567174114984134 After: 9.19408871089071\n",
      "Number of improvement: 1\n",
      "G-51 Before: 8.716582311151733 After: 9.226890775941595\n",
      "Number of improvement: 1\n",
      "G-52 Before: 8.482785999628614 After: 9.331698582191379\n",
      "Number of improvement: 1\n",
      "G-53 Before: 8.83074765033287 After: 9.424682568328041\n",
      "Number of improvement: 1\n",
      "G-54 Before: 8.774733052591662 After: 9.092667674684202\n",
      "Number of improvement: 1\n",
      "G-55 Before: 8.893407862461741 After: 9.420632515846266\n",
      "Number of improvement: 1\n",
      "G-56 Before: 8.844550259626692 After: 9.42539710022655\n",
      "Number of improvement: 1\n",
      "G-57 Before: 8.774236636542348 After: 9.458438278262813\n",
      "Number of improvement: 1\n",
      "G-58 Before: 8.994569736233368 After: 9.336891701320233\n",
      "Number of improvement: 1\n",
      "G-59 Before: 8.742890891059538 After: 9.214951336966767\n",
      "Number of improvement: 1\n",
      "G-6 Before: 8.670192315725942 After: 9.212388419021647\n",
      "Number of improvement: 1\n",
      "G-60 Before: 8.97822606358816 After: 9.276329820191998\n",
      "Number of improvement: 1\n",
      "G-61 Before: 9.021972547143678 After: 9.502809083217583\n",
      "Number of improvement: 1\n",
      "G-62 Before: 8.840180327176343 After: 9.55188679815147\n",
      "Number of improvement: 1\n",
      "G-63 Before: 8.625944945823711 After: 9.379740090054982\n",
      "Number of improvement: 1\n",
      "G-64 Before: 8.916440446414878 After: 9.526963611144724\n",
      "Number of improvement: 1\n",
      "G-65 Before: 8.871157243667788 After: 9.490562835519299\n",
      "Number of improvement: 1\n",
      "G-66 Before: 8.78946693658029 After: 9.332781065801962\n",
      "Number of improvement: 1\n",
      "G-67 Before: 8.874576969654555 After: 9.53129332267264\n",
      "Number of improvement: 1\n",
      "G-68 Before: 8.842476331806438 After: 9.221823757948103\n",
      "Number of improvement: 1\n",
      "G-69 Before: 9.148662235449631 After: 9.467151108687698\n",
      "Number of improvement: 1\n",
      "G-7 Before: 8.252855496888317 After: 9.381012713390287\n",
      "Number of improvement: 1\n",
      "G-70 Before: 8.959802665583588 After: 9.501416782095935\n",
      "Number of improvement: 1\n",
      "G-71 Before: 8.81949447369483 After: 9.38206014201331\n",
      "Number of improvement: 1\n",
      "G-72 Before: 9.04526753646737 After: 9.431818161324443\n",
      "Number of improvement: 1\n",
      "G-73 Before: 9.057926491827034 After: 9.496443539338921\n",
      "Number of improvement: 1\n",
      "G-74 Before: 8.95586156523949 After: 9.40286469376645\n",
      "Number of improvement: 1\n",
      "G-75 Before: 8.687571858191264 After: 9.387647922559509\n",
      "Number of improvement: 1\n",
      "G-76 Before: 8.758109083907575 After: 9.421837361203195\n",
      "Number of improvement: 1\n",
      "G-77 Before: 9.053337297479711 After: 9.325500414751636\n",
      "Number of improvement: 1\n",
      "G-78 Before: 8.768700719146564 After: 9.45587597787522\n",
      "Number of improvement: 1\n",
      "G-79 Before: 8.89175533406453 After: 9.458954957211935\n",
      "Number of improvement: 1\n",
      "G-8 Before: 8.575977186104062 After: 9.213767177210238\n",
      "Number of improvement: 1\n",
      "G-80 Before: 8.675663763262488 After: 9.403108771221898\n",
      "Number of improvement: 1\n",
      "G-81 Before: 8.636773519001505 After: 9.293640245832503\n",
      "Number of improvement: 1\n",
      "G-82 Before: 8.704340335411127 After: 9.315131534880036\n",
      "Number of improvement: 1\n",
      "G-83 Before: 8.692896937925166 After: 9.511456585388\n",
      "Number of improvement: 1\n",
      "G-84 Before: 8.704896093856007 After: 9.479515389092438\n",
      "Number of improvement: 1\n",
      "G-85 Before: 8.833020543131594 After: 9.291559502989267\n",
      "Number of improvement: 1\n",
      "G-86 Before: 8.772707327987915 After: 9.31047958287551\n",
      "Number of improvement: 1\n",
      "G-87 Before: 8.919471230222596 After: 9.23587294111268\n",
      "Number of improvement: 1\n",
      "G-88 Before: 8.770115520390057 After: 9.480593320695098\n",
      "Number of improvement: 1\n",
      "G-89 Before: 8.87897171308612 After: 9.357707106715132\n",
      "Number of improvement: 1\n",
      "G-9 Before: 8.754506949331628 After: 9.221581029109602\n",
      "Number of improvement: 1\n",
      "G-90 Before: 8.838147144128099 After: 9.293298052517233\n",
      "Number of improvement: 1\n",
      "G-91 Before: 8.855772330424706 After: 9.350826270297754\n",
      "Number of improvement: 1\n",
      "G-92 Before: 9.13794017808699 After: 9.547082568224788\n",
      "Number of improvement: 1\n",
      "G-93 Before: 8.804219222501764 After: 9.222228997197085\n",
      "Number of improvement: 1\n",
      "G-94 Before: 8.856133961165204 After: 9.302456398116178\n",
      "Number of improvement: 1\n",
      "G-95 Before: 8.766338094664635 After: 9.366859369402977\n",
      "Number of improvement: 1\n",
      "G-96 Before: 8.754631598531667 After: 9.283369214225553\n",
      "Number of improvement: 1\n",
      "G-97 Before: 8.457189935903664 After: 9.618956337813744\n",
      "Number of improvement: 1\n",
      "G-98 Before: 8.628003790925257 After: 9.347979997876706\n",
      "Number of improvement: 1\n",
      "G-99 Before: 8.537870365327365 After: 9.408498519193428\n",
      "Number of improvement: 1\n"
     ]
    }
   ],
   "source": [
    "try:\n",
    "    for group in students_by_groups.values():\n",
    "        group.assign_group(team_sz)\n",
    "        group_improve(group)\n",
    "\n",
    "except Exception as e:\n",
    "    print(traceback.format_exc())\n",
    "\n",
    "# for group in students_by_groups.values():\n",
    "#     print(group.get_avg_cgpa())\n",
    "#     for team in group.students_by_teams.values():\n",
    "#         for student in team.students:\n",
    "#             print(student)"
   ]
  },
  {
   "cell_type": "code",
   "execution_count": 79,
   "metadata": {
    "id": "-OKmgXh2g4Yq"
   },
   "outputs": [
    {
     "data": {
      "image/png": "[encoded data removed]",
      "text/plain": [
       "<Figure size 640x480 with 1 Axes>"
      ]
     },
     "metadata": {},
     "output_type": "display_data"
    }
   ],
   "source": [
    "plot_frequency_gender()"
   ]
  },
  {
   "cell_type": "code",
   "execution_count": 80,
   "metadata": {
    "id": "zHnKz3vOhHJR"
   },
   "outputs": [
    {
     "data": {
      "image/png": "[encoded data removed]",
      "text/plain": [
       "<Figure size 640x480 with 1 Axes>"
      ]
     },
     "metadata": {},
     "output_type": "display_data"
    }
   ],
   "source": [
    "plot_frequency_school()"
   ]
  },
  {
   "cell_type": "code",
   "execution_count": 81,
   "metadata": {},
   "outputs": [
    {
     "data": {
      "image/png": "[encoded data removed]",
      "text/plain": [
       "<Figure size 1000x600 with 1 Axes>"
      ]
     },
     "metadata": {},
     "output_type": "display_data"
    }
   ],
   "source": [
    "plot_frequency_cgpa()"
   ]
  },
  {
   "cell_type": "code",
   "execution_count": 82,
   "metadata": {
    "id": "wVasiYxoFU6F"
   },
   "outputs": [],
   "source": [
    "def get_team_size():\n",
    "    while True:\n",
    "        try:\n",
    "            team_size = int(\n",
    "                input(\"Enter a number of students per team (between 4 and 10): \")\n",
    "            )\n",
    "            if 4 <= team_size <= 10:\n",
    "                return team_size\n",
    "            else:\n",
    "                print(\"Invalid input. Please enter a number between 4 and 10.\")\n",
    "        except ValueError:\n",
    "            print(\"Invalid input. Please enter a number.\")"
   ]
  },
  {
   "cell_type": "markdown",
   "metadata": {},
   "source": [
    "# Extract new csv file"
   ]
  },
  {
   "cell_type": "markdown",
   "metadata": {},
   "source": [
    "Finally, we output our result to a new csv file"
   ]
  },
  {
   "cell_type": "code",
   "execution_count": 84,
   "metadata": {},
   "outputs": [],
   "source": [
    "def output_file():\n",
    "    with open(\"FDAD_Team4_PhongThien.csv\", mode=\"w\", newline=\"\") as file:\n",
    "        writer = csv.writer(file)\n",
    "        writer.writerow(\n",
    "            [\"Tutorial Group\", \"Student ID\", \"School\", \"Name\", \"Gender\", \"CGPA\", \"Team Id\"]\n",
    "        )\n",
    "        for group in students_by_groups.values():\n",
    "            for team in group.students_by_teams.values():\n",
    "                for student in team.students:\n",
    "                    writer.writerow(\n",
    "                        [\n",
    "                            student.group_id,\n",
    "                            student.student_id,\n",
    "                            student.school,\n",
    "                            student.name,\n",
    "                            student.gender,\n",
    "                            student.cgpa,\n",
    "                            student.team_id,\n",
    "                        ]\n",
    "                    )\n",
    "\n",
    "output_file()"
   ]
  }
 ],
 "metadata": {
  "colab": {
   "provenance": []
  },
  "kernelspec": {
   "display_name": ".env",
   "language": "python",
   "name": "python3"
  },
  "language_info": {
   "codemirror_mode": {
    "name": "ipython",
    "version": 3
   },
   "file_extension": ".py",
   "mimetype": "text/x-python",
   "name": "python",
   "nbconvert_exporter": "python",
   "pygments_lexer": "ipython3",
   "version": "3.12.7"
  }
 },
 "nbformat": 4,
 "nbformat_minor": 0
}
